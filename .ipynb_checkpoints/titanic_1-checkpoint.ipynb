{
 "cells": [
  {
   "cell_type": "code",
   "execution_count": 1,
   "metadata": {
    "_cell_guid": "a0230f09-ccf7-4ded-b664-cbc4cdb35055",
    "_uuid": "28d4fddbd500effa181f95df191996824b38a9de"
   },
   "outputs": [],
   "source": [
    "# This Python 3 environment comes with many helpful analytics libraries installed\n",
    "# It is defined by the kaggle/python docker image: https://github.com/kaggle/docker-python\n",
    "# For example, here's several helpful packages to load in \n",
    "\n",
    "import numpy as np # linear algebra\n",
    "import pandas as pd # data processing, CSV file I/O (e.g. pd.read_csv)\n",
    "import matplotlib.pyplot as plt\n",
    "%matplotlib inline\n",
    "import seaborn as sns\n",
    "\n",
    "from sklearn.preprocessing import MinMaxScaler\n",
    "from sklearn.model_selection import train_test_split\n",
    "from sklearn.ensemble import RandomForestRegressor\n",
    "from sklearn.ensemble import RandomForestClassifier\n",
    "from sklearn.model_selection import cross_val_score\n",
    "from sklearn.model_selection import KFold\n",
    "from sklearn.model_selection import GridSearchCV"
   ]
  },
  {
   "cell_type": "code",
   "execution_count": 2,
   "metadata": {
    "_cell_guid": "45c5fb2c-e315-4abb-a435-0493e63a1010",
    "_uuid": "50a454b5a39449bb380fdb0e6d68e85bbd9fc520",
    "scrolled": true
   },
   "outputs": [
    {
     "name": "stdout",
     "output_type": "stream",
     "text": [
      "<class 'pandas.core.frame.DataFrame'>\n",
      "Int64Index: 1309 entries, 0 to 417\n",
      "Data columns (total 12 columns):\n",
      "Age            1046 non-null float64\n",
      "Cabin          295 non-null object\n",
      "Embarked       1307 non-null object\n",
      "Fare           1308 non-null float64\n",
      "Name           1309 non-null object\n",
      "Parch          1309 non-null int64\n",
      "PassengerId    1309 non-null int64\n",
      "Pclass         1309 non-null int64\n",
      "Sex            1309 non-null object\n",
      "SibSp          1309 non-null int64\n",
      "Survived       891 non-null float64\n",
      "Ticket         1309 non-null object\n",
      "dtypes: float64(3), int64(4), object(5)\n",
      "memory usage: 132.9+ KB\n",
      "None\n"
     ]
    }
   ],
   "source": [
    "df = pd.concat([pd.read_csv('train.csv'), pd.read_csv('test.csv')])\n",
    "print(df.info())"
   ]
  },
  {
   "cell_type": "code",
   "execution_count": 3,
   "metadata": {
    "_cell_guid": "77564053-3689-401b-b258-e7f144007b47",
    "_uuid": "7b5c0bd5208055ce67f0eb51e17c7a9434f66102"
   },
   "outputs": [
    {
     "name": "stdout",
     "output_type": "stream",
     "text": [
      "    Age Cabin Embarked     Fare  \\\n",
      "0  22.0   NaN        S   7.2500   \n",
      "1  38.0   C85        C  71.2833   \n",
      "2  26.0   NaN        S   7.9250   \n",
      "3  35.0  C123        S  53.1000   \n",
      "4  35.0   NaN        S   8.0500   \n",
      "\n",
      "                                                Name  Parch  PassengerId  \\\n",
      "0                            Braund, Mr. Owen Harris      0            1   \n",
      "1  Cumings, Mrs. John Bradley (Florence Briggs Th...      0            2   \n",
      "2                             Heikkinen, Miss. Laina      0            3   \n",
      "3       Futrelle, Mrs. Jacques Heath (Lily May Peel)      0            4   \n",
      "4                           Allen, Mr. William Henry      0            5   \n",
      "\n",
      "   Pclass     Sex  SibSp  Survived            Ticket  \n",
      "0       3    male      1       0.0         A/5 21171  \n",
      "1       1  female      1       1.0          PC 17599  \n",
      "2       3  female      0       1.0  STON/O2. 3101282  \n",
      "3       1  female      1       1.0            113803  \n",
      "4       3    male      0       0.0            373450  \n"
     ]
    }
   ],
   "source": [
    "print(df.head())"
   ]
  },
  {
   "cell_type": "code",
   "execution_count": 4,
   "metadata": {
    "_cell_guid": "13592b79-537c-4efd-a882-f962306bedc0",
    "_uuid": "179814bd3121f1968c75bb8f8b2a735c58435f13"
   },
   "outputs": [
    {
     "name": "stdout",
     "output_type": "stream",
     "text": [
      "    Age Cabin Embarked     Fare  \\\n",
      "0  22.0   NaN        S   7.2500   \n",
      "1  38.0   C85        C  71.2833   \n",
      "2  26.0   NaN        S   7.9250   \n",
      "3  35.0  C123        S  53.1000   \n",
      "4  35.0   NaN        S   8.0500   \n",
      "\n",
      "                                                Name  Parch  PassengerId  \\\n",
      "0                            Braund, Mr. Owen Harris      0            1   \n",
      "1  Cumings, Mrs. John Bradley (Florence Briggs Th...      0            2   \n",
      "2                             Heikkinen, Miss. Laina      0            3   \n",
      "3       Futrelle, Mrs. Jacques Heath (Lily May Peel)      0            4   \n",
      "4                           Allen, Mr. William Henry      0            5   \n",
      "\n",
      "   Pclass     Sex  SibSp  Survived            Ticket  \n",
      "0       3    male      1       0.0         A/5 21171  \n",
      "1       1  female      1       1.0          PC 17599  \n",
      "2       3  female      0       1.0  STON/O2. 3101282  \n",
      "3       1  female      1       1.0            113803  \n",
      "4       3    male      0       0.0            373450  \n"
     ]
    }
   ],
   "source": [
    "print(df.head())"
   ]
  },
  {
   "cell_type": "code",
   "execution_count": 5,
   "metadata": {
    "_cell_guid": "9ce52d7a-8203-4cf8-8c0f-6f091a061328",
    "_uuid": "6f27b5fe43295fad5e2c1aba2ef904affd46d0cf"
   },
   "outputs": [
    {
     "name": "stdout",
     "output_type": "stream",
     "text": [
      "    Age Cabin Embarked     Fare  \\\n",
      "0  22.0   NaN        S   7.2500   \n",
      "1  38.0   C85        C  71.2833   \n",
      "2  26.0   NaN        S   7.9250   \n",
      "3  35.0  C123        S  53.1000   \n",
      "4  35.0   NaN        S   8.0500   \n",
      "\n",
      "                                                Name  Parch  PassengerId  \\\n",
      "0                            Braund, Mr. Owen Harris      0            1   \n",
      "1  Cumings, Mrs. John Bradley (Florence Briggs Th...      0            2   \n",
      "2                             Heikkinen, Miss. Laina      0            3   \n",
      "3       Futrelle, Mrs. Jacques Heath (Lily May Peel)      0            4   \n",
      "4                           Allen, Mr. William Henry      0            5   \n",
      "\n",
      "   Pclass     Sex  SibSp  Survived            Ticket greeting  \n",
      "0       3    male      1       0.0         A/5 21171       Mr  \n",
      "1       1  female      1       1.0          PC 17599      Mrs  \n",
      "2       3  female      0       1.0  STON/O2. 3101282     Miss  \n",
      "3       1  female      1       1.0            113803      Mrs  \n",
      "4       3    male      0       0.0            373450       Mr  \n"
     ]
    }
   ],
   "source": [
    "greeting = [x.split(',')[1].split('.')[0].strip() for x in df.Name.values]\n",
    "df[\"greeting\"] = greeting\n",
    "print(df.head())"
   ]
  },
  {
   "cell_type": "code",
   "execution_count": 6,
   "metadata": {
    "_cell_guid": "d55a3b9e-c56f-493b-ba04-238b0d1f9f67",
    "_uuid": "207b49828f374d2589df8325372c7081608a21e4"
   },
   "outputs": [
    {
     "data": {
      "text/plain": [
       "Mr              757\n",
       "Miss            260\n",
       "Mrs             197\n",
       "Master           61\n",
       "Rev               8\n",
       "Dr                8\n",
       "Col               4\n",
       "Major             2\n",
       "Mlle              2\n",
       "Ms                2\n",
       "Mme               1\n",
       "the Countess      1\n",
       "Don               1\n",
       "Lady              1\n",
       "Sir               1\n",
       "Jonkheer          1\n",
       "Dona              1\n",
       "Capt              1\n",
       "Name: greeting, dtype: int64"
      ]
     },
     "execution_count": 6,
     "metadata": {},
     "output_type": "execute_result"
    }
   ],
   "source": [
    "df['greeting'].value_counts()"
   ]
  },
  {
   "cell_type": "code",
   "execution_count": 7,
   "metadata": {
    "_cell_guid": "1ba39eb7-0351-4062-9e6c-6b5b1f20b0be",
    "_uuid": "dbe981d7edfda286d6184aa4c039d2b44600601d"
   },
   "outputs": [
    {
     "data": {
      "text/plain": [
       "<matplotlib.axes._subplots.AxesSubplot at 0x7fa6343152d0>"
      ]
     },
     "execution_count": 7,
     "metadata": {},
     "output_type": "execute_result"
    },
    {
     "data": {
      "image/png": "[encoded data removed]",
      "text/plain": [
       "<matplotlib.figure.Figure at 0x7fa602229250>"
      ]
     },
     "metadata": {},
     "output_type": "display_data"
    }
   ],
   "source": [
    "sns.set_style(\"whitegrid\")\n",
    "sns.boxplot(x=df.greeting, y=df.Age)"
   ]
  },
  {
   "cell_type": "code",
   "execution_count": 8,
   "metadata": {},
   "outputs": [
    {
     "data": {
      "text/html": [
       "<div>\n",
       "<style>\n",
       "    .dataframe thead tr:only-child th {\n",
       "        text-align: right;\n",
       "    }\n",
       "\n",
       "    .dataframe thead th {\n",
       "        text-align: left;\n",
       "    }\n",
       "\n",
       "    .dataframe tbody tr th {\n",
       "        vertical-align: top;\n",
       "    }\n",
       "</style>\n",
       "<table border=\"1\" class=\"dataframe\">\n",
       "  <thead>\n",
       "    <tr style=\"text-align: right;\">\n",
       "      <th></th>\n",
       "      <th>Age</th>\n",
       "      <th>Cabin</th>\n",
       "      <th>Embarked</th>\n",
       "      <th>Fare</th>\n",
       "      <th>Name</th>\n",
       "      <th>Parch</th>\n",
       "      <th>PassengerId</th>\n",
       "      <th>Pclass</th>\n",
       "      <th>Sex</th>\n",
       "      <th>SibSp</th>\n",
       "      <th>Survived</th>\n",
       "      <th>Ticket</th>\n",
       "      <th>greeting</th>\n",
       "    </tr>\n",
       "  </thead>\n",
       "  <tbody>\n",
       "    <tr>\n",
       "      <th>822</th>\n",
       "      <td>38.0</td>\n",
       "      <td>NaN</td>\n",
       "      <td>S</td>\n",
       "      <td>0.0</td>\n",
       "      <td>Reuchlin, Jonkheer. John George</td>\n",
       "      <td>0</td>\n",
       "      <td>823</td>\n",
       "      <td>1</td>\n",
       "      <td>male</td>\n",
       "      <td>0</td>\n",
       "      <td>0.0</td>\n",
       "      <td>19972</td>\n",
       "      <td>Jonkheer</td>\n",
       "    </tr>\n",
       "  </tbody>\n",
       "</table>\n",
       "</div>"
      ],
      "text/plain": [
       "      Age Cabin Embarked  Fare                             Name  Parch  \\\n",
       "822  38.0   NaN        S   0.0  Reuchlin, Jonkheer. John George      0   \n",
       "\n",
       "     PassengerId  Pclass   Sex  SibSp  Survived Ticket  greeting  \n",
       "822          823       1  male      0       0.0  19972  Jonkheer  "
      ]
     },
     "execution_count": 8,
     "metadata": {},
     "output_type": "execute_result"
    }
   ],
   "source": [
    "df[df['greeting'] == 'Jonkheer']"
   ]
  },
  {
   "cell_type": "code",
   "execution_count": 9,
   "metadata": {},
   "outputs": [],
   "source": [
    "df['greeting'] = df['greeting'].replace('Jonkheer', 'Mr')"
   ]
  },
  {
   "cell_type": "code",
   "execution_count": 10,
   "metadata": {},
   "outputs": [],
   "source": [
    "df['greeting'] = df['greeting'].replace('Capt', 'Mr')\n",
    "df['greeting'] = df['greeting'].replace('Dona', 'Mrs')\n",
    "df['greeting'] = df['greeting'].replace('Don', 'Mr')\n",
    "df['greeting'] = df['greeting'].replace('Sir', 'Mr')\n",
    "df['greeting'] = df['greeting'].replace('Lady', 'Mrs')"
   ]
  },
  {
   "cell_type": "code",
   "execution_count": 11,
   "metadata": {},
   "outputs": [
    {
     "data": {
      "text/html": [
       "<div>\n",
       "<style>\n",
       "    .dataframe thead tr:only-child th {\n",
       "        text-align: right;\n",
       "    }\n",
       "\n",
       "    .dataframe thead th {\n",
       "        text-align: left;\n",
       "    }\n",
       "\n",
       "    .dataframe tbody tr th {\n",
       "        vertical-align: top;\n",
       "    }\n",
       "</style>\n",
       "<table border=\"1\" class=\"dataframe\">\n",
       "  <thead>\n",
       "    <tr style=\"text-align: right;\">\n",
       "      <th></th>\n",
       "      <th>Age</th>\n",
       "      <th>Cabin</th>\n",
       "      <th>Embarked</th>\n",
       "      <th>Fare</th>\n",
       "      <th>Name</th>\n",
       "      <th>Parch</th>\n",
       "      <th>PassengerId</th>\n",
       "      <th>Pclass</th>\n",
       "      <th>Sex</th>\n",
       "      <th>SibSp</th>\n",
       "      <th>Survived</th>\n",
       "      <th>Ticket</th>\n",
       "      <th>greeting</th>\n",
       "    </tr>\n",
       "  </thead>\n",
       "  <tbody>\n",
       "    <tr>\n",
       "      <th>759</th>\n",
       "      <td>33.0</td>\n",
       "      <td>B77</td>\n",
       "      <td>S</td>\n",
       "      <td>86.5</td>\n",
       "      <td>Rothes, the Countess. of (Lucy Noel Martha Dye...</td>\n",
       "      <td>0</td>\n",
       "      <td>760</td>\n",
       "      <td>1</td>\n",
       "      <td>female</td>\n",
       "      <td>0</td>\n",
       "      <td>1.0</td>\n",
       "      <td>110152</td>\n",
       "      <td>the Countess</td>\n",
       "    </tr>\n",
       "  </tbody>\n",
       "</table>\n",
       "</div>"
      ],
      "text/plain": [
       "      Age Cabin Embarked  Fare  \\\n",
       "759  33.0   B77        S  86.5   \n",
       "\n",
       "                                                  Name  Parch  PassengerId  \\\n",
       "759  Rothes, the Countess. of (Lucy Noel Martha Dye...      0          760   \n",
       "\n",
       "     Pclass     Sex  SibSp  Survived  Ticket      greeting  \n",
       "759       1  female      0       1.0  110152  the Countess  "
      ]
     },
     "execution_count": 11,
     "metadata": {},
     "output_type": "execute_result"
    }
   ],
   "source": [
    "df[df['greeting'] == 'the Countess']"
   ]
  },
  {
   "cell_type": "code",
   "execution_count": 12,
   "metadata": {},
   "outputs": [],
   "source": [
    "df['greeting'] = df['greeting'].replace('the Countess', 'Miss')"
   ]
  },
  {
   "cell_type": "code",
   "execution_count": 13,
   "metadata": {},
   "outputs": [
    {
     "data": {
      "text/html": [
       "<div>\n",
       "<style>\n",
       "    .dataframe thead tr:only-child th {\n",
       "        text-align: right;\n",
       "    }\n",
       "\n",
       "    .dataframe thead th {\n",
       "        text-align: left;\n",
       "    }\n",
       "\n",
       "    .dataframe tbody tr th {\n",
       "        vertical-align: top;\n",
       "    }\n",
       "</style>\n",
       "<table border=\"1\" class=\"dataframe\">\n",
       "  <thead>\n",
       "    <tr style=\"text-align: right;\">\n",
       "      <th></th>\n",
       "      <th>Age</th>\n",
       "      <th>Cabin</th>\n",
       "      <th>Embarked</th>\n",
       "      <th>Fare</th>\n",
       "      <th>Name</th>\n",
       "      <th>Parch</th>\n",
       "      <th>PassengerId</th>\n",
       "      <th>Pclass</th>\n",
       "      <th>Sex</th>\n",
       "      <th>SibSp</th>\n",
       "      <th>Survived</th>\n",
       "      <th>Ticket</th>\n",
       "      <th>greeting</th>\n",
       "    </tr>\n",
       "  </thead>\n",
       "  <tbody>\n",
       "    <tr>\n",
       "      <th>369</th>\n",
       "      <td>24.0</td>\n",
       "      <td>B35</td>\n",
       "      <td>C</td>\n",
       "      <td>69.3</td>\n",
       "      <td>Aubart, Mme. Leontine Pauline</td>\n",
       "      <td>0</td>\n",
       "      <td>370</td>\n",
       "      <td>1</td>\n",
       "      <td>female</td>\n",
       "      <td>0</td>\n",
       "      <td>1.0</td>\n",
       "      <td>PC 17477</td>\n",
       "      <td>Mme</td>\n",
       "    </tr>\n",
       "  </tbody>\n",
       "</table>\n",
       "</div>"
      ],
      "text/plain": [
       "      Age Cabin Embarked  Fare                           Name  Parch  \\\n",
       "369  24.0   B35        C  69.3  Aubart, Mme. Leontine Pauline      0   \n",
       "\n",
       "     PassengerId  Pclass     Sex  SibSp  Survived    Ticket greeting  \n",
       "369          370       1  female      0       1.0  PC 17477      Mme  "
      ]
     },
     "execution_count": 13,
     "metadata": {},
     "output_type": "execute_result"
    }
   ],
   "source": [
    "df[df['greeting'] == 'Mme']"
   ]
  },
  {
   "cell_type": "code",
   "execution_count": 14,
   "metadata": {},
   "outputs": [],
   "source": [
    "df['greeting'] = df['greeting'].replace('Mme', 'Miss')"
   ]
  },
  {
   "cell_type": "code",
   "execution_count": 15,
   "metadata": {},
   "outputs": [
    {
     "data": {
      "text/plain": [
       "Mr        761\n",
       "Miss      262\n",
       "Mrs       199\n",
       "Master     61\n",
       "Dr          8\n",
       "Rev         8\n",
       "Col         4\n",
       "Major       2\n",
       "Ms          2\n",
       "Mlle        2\n",
       "Name: greeting, dtype: int64"
      ]
     },
     "execution_count": 15,
     "metadata": {},
     "output_type": "execute_result"
    }
   ],
   "source": [
    "df['greeting'].value_counts()"
   ]
  },
  {
   "cell_type": "code",
   "execution_count": 16,
   "metadata": {},
   "outputs": [
    {
     "data": {
      "text/html": [
       "<div>\n",
       "<style>\n",
       "    .dataframe thead tr:only-child th {\n",
       "        text-align: right;\n",
       "    }\n",
       "\n",
       "    .dataframe thead th {\n",
       "        text-align: left;\n",
       "    }\n",
       "\n",
       "    .dataframe tbody tr th {\n",
       "        vertical-align: top;\n",
       "    }\n",
       "</style>\n",
       "<table border=\"1\" class=\"dataframe\">\n",
       "  <thead>\n",
       "    <tr style=\"text-align: right;\">\n",
       "      <th></th>\n",
       "      <th>Age</th>\n",
       "      <th>Cabin</th>\n",
       "      <th>Embarked</th>\n",
       "      <th>Fare</th>\n",
       "      <th>Name</th>\n",
       "      <th>Parch</th>\n",
       "      <th>PassengerId</th>\n",
       "      <th>Pclass</th>\n",
       "      <th>Sex</th>\n",
       "      <th>SibSp</th>\n",
       "      <th>Survived</th>\n",
       "      <th>Ticket</th>\n",
       "      <th>greeting</th>\n",
       "    </tr>\n",
       "  </thead>\n",
       "  <tbody>\n",
       "    <tr>\n",
       "      <th>641</th>\n",
       "      <td>24.0</td>\n",
       "      <td>B35</td>\n",
       "      <td>C</td>\n",
       "      <td>69.3000</td>\n",
       "      <td>Sagesser, Mlle. Emma</td>\n",
       "      <td>0</td>\n",
       "      <td>642</td>\n",
       "      <td>1</td>\n",
       "      <td>female</td>\n",
       "      <td>0</td>\n",
       "      <td>1.0</td>\n",
       "      <td>PC 17477</td>\n",
       "      <td>Mlle</td>\n",
       "    </tr>\n",
       "    <tr>\n",
       "      <th>710</th>\n",
       "      <td>24.0</td>\n",
       "      <td>C90</td>\n",
       "      <td>C</td>\n",
       "      <td>49.5042</td>\n",
       "      <td>Mayne, Mlle. Berthe Antonine (\"Mrs de Villiers\")</td>\n",
       "      <td>0</td>\n",
       "      <td>711</td>\n",
       "      <td>1</td>\n",
       "      <td>female</td>\n",
       "      <td>0</td>\n",
       "      <td>1.0</td>\n",
       "      <td>PC 17482</td>\n",
       "      <td>Mlle</td>\n",
       "    </tr>\n",
       "  </tbody>\n",
       "</table>\n",
       "</div>"
      ],
      "text/plain": [
       "      Age Cabin Embarked     Fare  \\\n",
       "641  24.0   B35        C  69.3000   \n",
       "710  24.0   C90        C  49.5042   \n",
       "\n",
       "                                                 Name  Parch  PassengerId  \\\n",
       "641                              Sagesser, Mlle. Emma      0          642   \n",
       "710  Mayne, Mlle. Berthe Antonine (\"Mrs de Villiers\")      0          711   \n",
       "\n",
       "     Pclass     Sex  SibSp  Survived    Ticket greeting  \n",
       "641       1  female      0       1.0  PC 17477     Mlle  \n",
       "710       1  female      0       1.0  PC 17482     Mlle  "
      ]
     },
     "execution_count": 16,
     "metadata": {},
     "output_type": "execute_result"
    }
   ],
   "source": [
    "df[df['greeting'] == 'Mlle']"
   ]
  },
  {
   "cell_type": "code",
   "execution_count": 17,
   "metadata": {},
   "outputs": [],
   "source": [
    "df['greeting'] = df['greeting'].replace('Mlle', 'Miss')"
   ]
  },
  {
   "cell_type": "code",
   "execution_count": 18,
   "metadata": {},
   "outputs": [
    {
     "data": {
      "text/html": [
       "<div>\n",
       "<style>\n",
       "    .dataframe thead tr:only-child th {\n",
       "        text-align: right;\n",
       "    }\n",
       "\n",
       "    .dataframe thead th {\n",
       "        text-align: left;\n",
       "    }\n",
       "\n",
       "    .dataframe tbody tr th {\n",
       "        vertical-align: top;\n",
       "    }\n",
       "</style>\n",
       "<table border=\"1\" class=\"dataframe\">\n",
       "  <thead>\n",
       "    <tr style=\"text-align: right;\">\n",
       "      <th></th>\n",
       "      <th>Age</th>\n",
       "      <th>Cabin</th>\n",
       "      <th>Embarked</th>\n",
       "      <th>Fare</th>\n",
       "      <th>Name</th>\n",
       "      <th>Parch</th>\n",
       "      <th>PassengerId</th>\n",
       "      <th>Pclass</th>\n",
       "      <th>Sex</th>\n",
       "      <th>SibSp</th>\n",
       "      <th>Survived</th>\n",
       "      <th>Ticket</th>\n",
       "      <th>greeting</th>\n",
       "    </tr>\n",
       "  </thead>\n",
       "  <tbody>\n",
       "    <tr>\n",
       "      <th>443</th>\n",
       "      <td>28.0</td>\n",
       "      <td>NaN</td>\n",
       "      <td>S</td>\n",
       "      <td>13.00</td>\n",
       "      <td>Reynaldo, Ms. Encarnacion</td>\n",
       "      <td>0</td>\n",
       "      <td>444</td>\n",
       "      <td>2</td>\n",
       "      <td>female</td>\n",
       "      <td>0</td>\n",
       "      <td>1.0</td>\n",
       "      <td>230434</td>\n",
       "      <td>Ms</td>\n",
       "    </tr>\n",
       "    <tr>\n",
       "      <th>88</th>\n",
       "      <td>NaN</td>\n",
       "      <td>NaN</td>\n",
       "      <td>Q</td>\n",
       "      <td>7.75</td>\n",
       "      <td>O'Donoghue, Ms. Bridget</td>\n",
       "      <td>0</td>\n",
       "      <td>980</td>\n",
       "      <td>3</td>\n",
       "      <td>female</td>\n",
       "      <td>0</td>\n",
       "      <td>NaN</td>\n",
       "      <td>364856</td>\n",
       "      <td>Ms</td>\n",
       "    </tr>\n",
       "  </tbody>\n",
       "</table>\n",
       "</div>"
      ],
      "text/plain": [
       "      Age Cabin Embarked   Fare                       Name  Parch  \\\n",
       "443  28.0   NaN        S  13.00  Reynaldo, Ms. Encarnacion      0   \n",
       "88    NaN   NaN        Q   7.75    O'Donoghue, Ms. Bridget      0   \n",
       "\n",
       "     PassengerId  Pclass     Sex  SibSp  Survived  Ticket greeting  \n",
       "443          444       2  female      0       1.0  230434       Ms  \n",
       "88           980       3  female      0       NaN  364856       Ms  "
      ]
     },
     "execution_count": 18,
     "metadata": {},
     "output_type": "execute_result"
    }
   ],
   "source": [
    "df[df['greeting'] == 'Ms']"
   ]
  },
  {
   "cell_type": "code",
   "execution_count": 19,
   "metadata": {},
   "outputs": [],
   "source": [
    "df['greeting'] = df['greeting'].replace('Ms', 'Miss')"
   ]
  },
  {
   "cell_type": "code",
   "execution_count": 20,
   "metadata": {},
   "outputs": [
    {
     "data": {
      "text/html": [
       "<div>\n",
       "<style>\n",
       "    .dataframe thead tr:only-child th {\n",
       "        text-align: right;\n",
       "    }\n",
       "\n",
       "    .dataframe thead th {\n",
       "        text-align: left;\n",
       "    }\n",
       "\n",
       "    .dataframe tbody tr th {\n",
       "        vertical-align: top;\n",
       "    }\n",
       "</style>\n",
       "<table border=\"1\" class=\"dataframe\">\n",
       "  <thead>\n",
       "    <tr style=\"text-align: right;\">\n",
       "      <th></th>\n",
       "      <th>Age</th>\n",
       "      <th>Cabin</th>\n",
       "      <th>Embarked</th>\n",
       "      <th>Fare</th>\n",
       "      <th>Name</th>\n",
       "      <th>Parch</th>\n",
       "      <th>PassengerId</th>\n",
       "      <th>Pclass</th>\n",
       "      <th>Sex</th>\n",
       "      <th>SibSp</th>\n",
       "      <th>Survived</th>\n",
       "      <th>Ticket</th>\n",
       "      <th>greeting</th>\n",
       "    </tr>\n",
       "  </thead>\n",
       "  <tbody>\n",
       "    <tr>\n",
       "      <th>449</th>\n",
       "      <td>52.0</td>\n",
       "      <td>C104</td>\n",
       "      <td>S</td>\n",
       "      <td>30.50</td>\n",
       "      <td>Peuchen, Major. Arthur Godfrey</td>\n",
       "      <td>0</td>\n",
       "      <td>450</td>\n",
       "      <td>1</td>\n",
       "      <td>male</td>\n",
       "      <td>0</td>\n",
       "      <td>1.0</td>\n",
       "      <td>113786</td>\n",
       "      <td>Major</td>\n",
       "    </tr>\n",
       "    <tr>\n",
       "      <th>536</th>\n",
       "      <td>45.0</td>\n",
       "      <td>B38</td>\n",
       "      <td>S</td>\n",
       "      <td>26.55</td>\n",
       "      <td>Butt, Major. Archibald Willingham</td>\n",
       "      <td>0</td>\n",
       "      <td>537</td>\n",
       "      <td>1</td>\n",
       "      <td>male</td>\n",
       "      <td>0</td>\n",
       "      <td>0.0</td>\n",
       "      <td>113050</td>\n",
       "      <td>Major</td>\n",
       "    </tr>\n",
       "  </tbody>\n",
       "</table>\n",
       "</div>"
      ],
      "text/plain": [
       "      Age Cabin Embarked   Fare                               Name  Parch  \\\n",
       "449  52.0  C104        S  30.50     Peuchen, Major. Arthur Godfrey      0   \n",
       "536  45.0   B38        S  26.55  Butt, Major. Archibald Willingham      0   \n",
       "\n",
       "     PassengerId  Pclass   Sex  SibSp  Survived  Ticket greeting  \n",
       "449          450       1  male      0       1.0  113786    Major  \n",
       "536          537       1  male      0       0.0  113050    Major  "
      ]
     },
     "execution_count": 20,
     "metadata": {},
     "output_type": "execute_result"
    }
   ],
   "source": [
    "df[df['greeting'] == 'Major']"
   ]
  },
  {
   "cell_type": "code",
   "execution_count": 21,
   "metadata": {},
   "outputs": [
    {
     "data": {
      "text/html": [
       "<div>\n",
       "<style>\n",
       "    .dataframe thead tr:only-child th {\n",
       "        text-align: right;\n",
       "    }\n",
       "\n",
       "    .dataframe thead th {\n",
       "        text-align: left;\n",
       "    }\n",
       "\n",
       "    .dataframe tbody tr th {\n",
       "        vertical-align: top;\n",
       "    }\n",
       "</style>\n",
       "<table border=\"1\" class=\"dataframe\">\n",
       "  <thead>\n",
       "    <tr style=\"text-align: right;\">\n",
       "      <th></th>\n",
       "      <th>Age</th>\n",
       "      <th>Cabin</th>\n",
       "      <th>Embarked</th>\n",
       "      <th>Fare</th>\n",
       "      <th>Name</th>\n",
       "      <th>Parch</th>\n",
       "      <th>PassengerId</th>\n",
       "      <th>Pclass</th>\n",
       "      <th>Sex</th>\n",
       "      <th>SibSp</th>\n",
       "      <th>Survived</th>\n",
       "      <th>Ticket</th>\n",
       "      <th>greeting</th>\n",
       "    </tr>\n",
       "  </thead>\n",
       "  <tbody>\n",
       "    <tr>\n",
       "      <th>449</th>\n",
       "      <td>52.0</td>\n",
       "      <td>C104</td>\n",
       "      <td>S</td>\n",
       "      <td>30.50</td>\n",
       "      <td>Peuchen, Major. Arthur Godfrey</td>\n",
       "      <td>0</td>\n",
       "      <td>450</td>\n",
       "      <td>1</td>\n",
       "      <td>male</td>\n",
       "      <td>0</td>\n",
       "      <td>1.0</td>\n",
       "      <td>113786</td>\n",
       "      <td>Major</td>\n",
       "    </tr>\n",
       "    <tr>\n",
       "      <th>536</th>\n",
       "      <td>45.0</td>\n",
       "      <td>B38</td>\n",
       "      <td>S</td>\n",
       "      <td>26.55</td>\n",
       "      <td>Butt, Major. Archibald Willingham</td>\n",
       "      <td>0</td>\n",
       "      <td>537</td>\n",
       "      <td>1</td>\n",
       "      <td>male</td>\n",
       "      <td>0</td>\n",
       "      <td>0.0</td>\n",
       "      <td>113050</td>\n",
       "      <td>Major</td>\n",
       "    </tr>\n",
       "  </tbody>\n",
       "</table>\n",
       "</div>"
      ],
      "text/plain": [
       "      Age Cabin Embarked   Fare                               Name  Parch  \\\n",
       "449  52.0  C104        S  30.50     Peuchen, Major. Arthur Godfrey      0   \n",
       "536  45.0   B38        S  26.55  Butt, Major. Archibald Willingham      0   \n",
       "\n",
       "     PassengerId  Pclass   Sex  SibSp  Survived  Ticket greeting  \n",
       "449          450       1  male      0       1.0  113786    Major  \n",
       "536          537       1  male      0       0.0  113050    Major  "
      ]
     },
     "execution_count": 21,
     "metadata": {},
     "output_type": "execute_result"
    }
   ],
   "source": [
    "df[df['greeting'] == 'Major']"
   ]
  },
  {
   "cell_type": "code",
   "execution_count": 22,
   "metadata": {},
   "outputs": [],
   "source": [
    "df['greeting'] = df['greeting'].replace('Major', 'Mr')"
   ]
  },
  {
   "cell_type": "code",
   "execution_count": 23,
   "metadata": {
    "_cell_guid": "f4420671-349e-470d-acc4-a032cedb99b3",
    "_uuid": "2939a182381865cb117a5d422c85071a857aed94"
   },
   "outputs": [
    {
     "name": "stdout",
     "output_type": "stream",
     "text": [
      "Pclass        1            2            3      \n",
      "Sex      female  male female  male female  male\n",
      "greeting                                       \n",
      "Col         NaN  54.5    NaN   NaN    NaN   NaN\n",
      "Dr         49.0  47.0    NaN  38.5    NaN   NaN\n",
      "Master      NaN   6.0    NaN   2.0    NaN   6.0\n",
      "Miss       30.0   NaN   20.0   NaN   18.0   NaN\n",
      "Mr          NaN  42.0    NaN  30.0    NaN  26.0\n",
      "Mrs        45.0   NaN   30.5   NaN   31.0   NaN\n",
      "Rev         NaN   NaN    NaN  41.5    NaN   NaN\n"
     ]
    }
   ],
   "source": [
    "table = df.pivot_table(values='Age', \\\n",
    "                       index=['greeting'], \\\n",
    "                       columns=['Pclass', 'Sex'], \\\n",
    "                       aggfunc=np.median)\n",
    "print(table)"
   ]
  },
  {
   "cell_type": "code",
   "execution_count": 24,
   "metadata": {
    "_uuid": "0bd50d82347048bedb7e84df925204583d462cc9"
   },
   "outputs": [
    {
     "data": {
      "text/html": [
       "<div>\n",
       "<style>\n",
       "    .dataframe thead tr:only-child th {\n",
       "        text-align: right;\n",
       "    }\n",
       "\n",
       "    .dataframe thead th {\n",
       "        text-align: left;\n",
       "    }\n",
       "\n",
       "    .dataframe tbody tr th {\n",
       "        vertical-align: top;\n",
       "    }\n",
       "</style>\n",
       "<table border=\"1\" class=\"dataframe\">\n",
       "  <thead>\n",
       "    <tr style=\"text-align: right;\">\n",
       "      <th></th>\n",
       "      <th>Age</th>\n",
       "      <th>Cabin</th>\n",
       "      <th>Embarked</th>\n",
       "      <th>Fare</th>\n",
       "      <th>Name</th>\n",
       "      <th>Parch</th>\n",
       "      <th>PassengerId</th>\n",
       "      <th>Pclass</th>\n",
       "      <th>Sex</th>\n",
       "      <th>SibSp</th>\n",
       "      <th>Survived</th>\n",
       "      <th>Ticket</th>\n",
       "      <th>greeting</th>\n",
       "    </tr>\n",
       "  </thead>\n",
       "  <tbody>\n",
       "    <tr>\n",
       "      <th>152</th>\n",
       "      <td>60.5</td>\n",
       "      <td>NaN</td>\n",
       "      <td>S</td>\n",
       "      <td>NaN</td>\n",
       "      <td>Storey, Mr. Thomas</td>\n",
       "      <td>0</td>\n",
       "      <td>1044</td>\n",
       "      <td>3</td>\n",
       "      <td>male</td>\n",
       "      <td>0</td>\n",
       "      <td>NaN</td>\n",
       "      <td>3701</td>\n",
       "      <td>Mr</td>\n",
       "    </tr>\n",
       "  </tbody>\n",
       "</table>\n",
       "</div>"
      ],
      "text/plain": [
       "      Age Cabin Embarked  Fare                Name  Parch  PassengerId  \\\n",
       "152  60.5   NaN        S   NaN  Storey, Mr. Thomas      0         1044   \n",
       "\n",
       "     Pclass   Sex  SibSp  Survived Ticket greeting  \n",
       "152       3  male      0       NaN   3701       Mr  "
      ]
     },
     "execution_count": 24,
     "metadata": {},
     "output_type": "execute_result"
    }
   ],
   "source": [
    "df[df.Fare.isnull()]"
   ]
  },
  {
   "cell_type": "code",
   "execution_count": 25,
   "metadata": {
    "_uuid": "165678532b567775e9b680f336e4b60c6efbfead"
   },
   "outputs": [
    {
     "data": {
      "text/html": [
       "<div>\n",
       "<style>\n",
       "    .dataframe thead tr:only-child th {\n",
       "        text-align: right;\n",
       "    }\n",
       "\n",
       "    .dataframe thead th {\n",
       "        text-align: left;\n",
       "    }\n",
       "\n",
       "    .dataframe tbody tr th {\n",
       "        vertical-align: top;\n",
       "    }\n",
       "</style>\n",
       "<table border=\"1\" class=\"dataframe\">\n",
       "  <thead>\n",
       "    <tr style=\"text-align: right;\">\n",
       "      <th></th>\n",
       "      <th>Age</th>\n",
       "      <th>Cabin</th>\n",
       "      <th>Embarked</th>\n",
       "      <th>Fare</th>\n",
       "      <th>Name</th>\n",
       "      <th>Parch</th>\n",
       "      <th>PassengerId</th>\n",
       "      <th>Pclass</th>\n",
       "      <th>Sex</th>\n",
       "      <th>SibSp</th>\n",
       "      <th>Survived</th>\n",
       "      <th>Ticket</th>\n",
       "      <th>greeting</th>\n",
       "    </tr>\n",
       "  </thead>\n",
       "  <tbody>\n",
       "    <tr>\n",
       "      <th>61</th>\n",
       "      <td>38.0</td>\n",
       "      <td>B28</td>\n",
       "      <td>NaN</td>\n",
       "      <td>80.0</td>\n",
       "      <td>Icard, Miss. Amelie</td>\n",
       "      <td>0</td>\n",
       "      <td>62</td>\n",
       "      <td>1</td>\n",
       "      <td>female</td>\n",
       "      <td>0</td>\n",
       "      <td>1.0</td>\n",
       "      <td>113572</td>\n",
       "      <td>Miss</td>\n",
       "    </tr>\n",
       "    <tr>\n",
       "      <th>829</th>\n",
       "      <td>62.0</td>\n",
       "      <td>B28</td>\n",
       "      <td>NaN</td>\n",
       "      <td>80.0</td>\n",
       "      <td>Stone, Mrs. George Nelson (Martha Evelyn)</td>\n",
       "      <td>0</td>\n",
       "      <td>830</td>\n",
       "      <td>1</td>\n",
       "      <td>female</td>\n",
       "      <td>0</td>\n",
       "      <td>1.0</td>\n",
       "      <td>113572</td>\n",
       "      <td>Mrs</td>\n",
       "    </tr>\n",
       "  </tbody>\n",
       "</table>\n",
       "</div>"
      ],
      "text/plain": [
       "      Age Cabin Embarked  Fare                                       Name  \\\n",
       "61   38.0   B28      NaN  80.0                        Icard, Miss. Amelie   \n",
       "829  62.0   B28      NaN  80.0  Stone, Mrs. George Nelson (Martha Evelyn)   \n",
       "\n",
       "     Parch  PassengerId  Pclass     Sex  SibSp  Survived  Ticket greeting  \n",
       "61       0           62       1  female      0       1.0  113572     Miss  \n",
       "829      0          830       1  female      0       1.0  113572      Mrs  "
      ]
     },
     "execution_count": 25,
     "metadata": {},
     "output_type": "execute_result"
    }
   ],
   "source": [
    "df[df.Embarked.isnull()]"
   ]
  },
  {
   "cell_type": "code",
   "execution_count": 26,
   "metadata": {
    "_uuid": "fd0c34ca06a580dc6be96065ad31d55d558ae757"
   },
   "outputs": [
    {
     "data": {
      "text/html": [
       "<div>\n",
       "<style>\n",
       "    .dataframe thead tr:only-child th {\n",
       "        text-align: right;\n",
       "    }\n",
       "\n",
       "    .dataframe thead th {\n",
       "        text-align: left;\n",
       "    }\n",
       "\n",
       "    .dataframe tbody tr th {\n",
       "        vertical-align: top;\n",
       "    }\n",
       "</style>\n",
       "<table border=\"1\" class=\"dataframe\">\n",
       "  <thead>\n",
       "    <tr style=\"text-align: right;\">\n",
       "      <th></th>\n",
       "      <th>Age</th>\n",
       "      <th>Cabin</th>\n",
       "      <th>Embarked</th>\n",
       "      <th>Fare</th>\n",
       "      <th>Name</th>\n",
       "      <th>Parch</th>\n",
       "      <th>PassengerId</th>\n",
       "      <th>Pclass</th>\n",
       "      <th>Sex</th>\n",
       "      <th>SibSp</th>\n",
       "      <th>Survived</th>\n",
       "      <th>Ticket</th>\n",
       "      <th>greeting</th>\n",
       "    </tr>\n",
       "  </thead>\n",
       "  <tbody>\n",
       "    <tr>\n",
       "      <th>74</th>\n",
       "      <td>35.0</td>\n",
       "      <td>C130</td>\n",
       "      <td>C</td>\n",
       "      <td>211.5000</td>\n",
       "      <td>Geiger, Miss. Amalie</td>\n",
       "      <td>0</td>\n",
       "      <td>966</td>\n",
       "      <td>1</td>\n",
       "      <td>female</td>\n",
       "      <td>0</td>\n",
       "      <td>NaN</td>\n",
       "      <td>113503</td>\n",
       "      <td>Miss</td>\n",
       "    </tr>\n",
       "    <tr>\n",
       "      <th>377</th>\n",
       "      <td>27.0</td>\n",
       "      <td>C82</td>\n",
       "      <td>C</td>\n",
       "      <td>211.5000</td>\n",
       "      <td>Widener, Mr. Harry Elkins</td>\n",
       "      <td>2</td>\n",
       "      <td>378</td>\n",
       "      <td>1</td>\n",
       "      <td>male</td>\n",
       "      <td>0</td>\n",
       "      <td>0.0</td>\n",
       "      <td>113503</td>\n",
       "      <td>Mr</td>\n",
       "    </tr>\n",
       "    <tr>\n",
       "      <th>166</th>\n",
       "      <td>NaN</td>\n",
       "      <td>E33</td>\n",
       "      <td>S</td>\n",
       "      <td>55.0000</td>\n",
       "      <td>Chibnall, Mrs. (Edith Martha Bowerman)</td>\n",
       "      <td>1</td>\n",
       "      <td>167</td>\n",
       "      <td>1</td>\n",
       "      <td>female</td>\n",
       "      <td>0</td>\n",
       "      <td>1.0</td>\n",
       "      <td>113505</td>\n",
       "      <td>Mrs</td>\n",
       "    </tr>\n",
       "    <tr>\n",
       "      <th>356</th>\n",
       "      <td>22.0</td>\n",
       "      <td>E33</td>\n",
       "      <td>S</td>\n",
       "      <td>55.0000</td>\n",
       "      <td>Bowerman, Miss. Elsie Edith</td>\n",
       "      <td>1</td>\n",
       "      <td>357</td>\n",
       "      <td>1</td>\n",
       "      <td>female</td>\n",
       "      <td>0</td>\n",
       "      <td>1.0</td>\n",
       "      <td>113505</td>\n",
       "      <td>Miss</td>\n",
       "    </tr>\n",
       "    <tr>\n",
       "      <th>26</th>\n",
       "      <td>22.0</td>\n",
       "      <td>B36</td>\n",
       "      <td>C</td>\n",
       "      <td>61.9792</td>\n",
       "      <td>Ostby, Miss. Helene Ragnhild</td>\n",
       "      <td>1</td>\n",
       "      <td>918</td>\n",
       "      <td>1</td>\n",
       "      <td>female</td>\n",
       "      <td>0</td>\n",
       "      <td>NaN</td>\n",
       "      <td>113509</td>\n",
       "      <td>Miss</td>\n",
       "    </tr>\n",
       "    <tr>\n",
       "      <th>54</th>\n",
       "      <td>65.0</td>\n",
       "      <td>B30</td>\n",
       "      <td>C</td>\n",
       "      <td>61.9792</td>\n",
       "      <td>Ostby, Mr. Engelhart Cornelius</td>\n",
       "      <td>1</td>\n",
       "      <td>55</td>\n",
       "      <td>1</td>\n",
       "      <td>male</td>\n",
       "      <td>0</td>\n",
       "      <td>0.0</td>\n",
       "      <td>113509</td>\n",
       "      <td>Mr</td>\n",
       "    </tr>\n",
       "    <tr>\n",
       "      <th>351</th>\n",
       "      <td>NaN</td>\n",
       "      <td>C128</td>\n",
       "      <td>S</td>\n",
       "      <td>35.0000</td>\n",
       "      <td>Williams-Lambert, Mr. Fletcher Fellows</td>\n",
       "      <td>0</td>\n",
       "      <td>352</td>\n",
       "      <td>1</td>\n",
       "      <td>male</td>\n",
       "      <td>0</td>\n",
       "      <td>0.0</td>\n",
       "      <td>113510</td>\n",
       "      <td>Mr</td>\n",
       "    </tr>\n",
       "    <tr>\n",
       "      <th>252</th>\n",
       "      <td>62.0</td>\n",
       "      <td>C87</td>\n",
       "      <td>S</td>\n",
       "      <td>26.5500</td>\n",
       "      <td>Stead, Mr. William Thomas</td>\n",
       "      <td>0</td>\n",
       "      <td>253</td>\n",
       "      <td>1</td>\n",
       "      <td>male</td>\n",
       "      <td>0</td>\n",
       "      <td>0.0</td>\n",
       "      <td>113514</td>\n",
       "      <td>Mr</td>\n",
       "    </tr>\n",
       "    <tr>\n",
       "      <th>829</th>\n",
       "      <td>62.0</td>\n",
       "      <td>B28</td>\n",
       "      <td>NaN</td>\n",
       "      <td>80.0000</td>\n",
       "      <td>Stone, Mrs. George Nelson (Martha Evelyn)</td>\n",
       "      <td>0</td>\n",
       "      <td>830</td>\n",
       "      <td>1</td>\n",
       "      <td>female</td>\n",
       "      <td>0</td>\n",
       "      <td>1.0</td>\n",
       "      <td>113572</td>\n",
       "      <td>Mrs</td>\n",
       "    </tr>\n",
       "    <tr>\n",
       "      <th>61</th>\n",
       "      <td>38.0</td>\n",
       "      <td>B28</td>\n",
       "      <td>NaN</td>\n",
       "      <td>80.0000</td>\n",
       "      <td>Icard, Miss. Amelie</td>\n",
       "      <td>0</td>\n",
       "      <td>62</td>\n",
       "      <td>1</td>\n",
       "      <td>female</td>\n",
       "      <td>0</td>\n",
       "      <td>1.0</td>\n",
       "      <td>113572</td>\n",
       "      <td>Miss</td>\n",
       "    </tr>\n",
       "    <tr>\n",
       "      <th>802</th>\n",
       "      <td>11.0</td>\n",
       "      <td>B96 B98</td>\n",
       "      <td>S</td>\n",
       "      <td>120.0000</td>\n",
       "      <td>Carter, Master. William Thornton II</td>\n",
       "      <td>2</td>\n",
       "      <td>803</td>\n",
       "      <td>1</td>\n",
       "      <td>male</td>\n",
       "      <td>1</td>\n",
       "      <td>1.0</td>\n",
       "      <td>113760</td>\n",
       "      <td>Master</td>\n",
       "    </tr>\n",
       "    <tr>\n",
       "      <th>390</th>\n",
       "      <td>36.0</td>\n",
       "      <td>B96 B98</td>\n",
       "      <td>S</td>\n",
       "      <td>120.0000</td>\n",
       "      <td>Carter, Mr. William Ernest</td>\n",
       "      <td>2</td>\n",
       "      <td>391</td>\n",
       "      <td>1</td>\n",
       "      <td>male</td>\n",
       "      <td>1</td>\n",
       "      <td>1.0</td>\n",
       "      <td>113760</td>\n",
       "      <td>Mr</td>\n",
       "    </tr>\n",
       "    <tr>\n",
       "      <th>435</th>\n",
       "      <td>14.0</td>\n",
       "      <td>B96 B98</td>\n",
       "      <td>S</td>\n",
       "      <td>120.0000</td>\n",
       "      <td>Carter, Miss. Lucile Polk</td>\n",
       "      <td>2</td>\n",
       "      <td>436</td>\n",
       "      <td>1</td>\n",
       "      <td>female</td>\n",
       "      <td>1</td>\n",
       "      <td>1.0</td>\n",
       "      <td>113760</td>\n",
       "      <td>Miss</td>\n",
       "    </tr>\n",
       "    <tr>\n",
       "      <th>763</th>\n",
       "      <td>36.0</td>\n",
       "      <td>B96 B98</td>\n",
       "      <td>S</td>\n",
       "      <td>120.0000</td>\n",
       "      <td>Carter, Mrs. William Ernest (Lucile Polk)</td>\n",
       "      <td>2</td>\n",
       "      <td>764</td>\n",
       "      <td>1</td>\n",
       "      <td>female</td>\n",
       "      <td>1</td>\n",
       "      <td>1.0</td>\n",
       "      <td>113760</td>\n",
       "      <td>Mrs</td>\n",
       "    </tr>\n",
       "    <tr>\n",
       "      <th>185</th>\n",
       "      <td>NaN</td>\n",
       "      <td>A32</td>\n",
       "      <td>S</td>\n",
       "      <td>50.0000</td>\n",
       "      <td>Rood, Mr. Hugh Roscoe</td>\n",
       "      <td>0</td>\n",
       "      <td>186</td>\n",
       "      <td>1</td>\n",
       "      <td>male</td>\n",
       "      <td>0</td>\n",
       "      <td>0.0</td>\n",
       "      <td>113767</td>\n",
       "      <td>Mr</td>\n",
       "    </tr>\n",
       "    <tr>\n",
       "      <th>182</th>\n",
       "      <td>18.0</td>\n",
       "      <td>D30</td>\n",
       "      <td>S</td>\n",
       "      <td>53.1000</td>\n",
       "      <td>Marvin, Mrs. Daniel Warner (Mary Graham Carmic...</td>\n",
       "      <td>0</td>\n",
       "      <td>1074</td>\n",
       "      <td>1</td>\n",
       "      <td>female</td>\n",
       "      <td>1</td>\n",
       "      <td>NaN</td>\n",
       "      <td>113773</td>\n",
       "      <td>Mrs</td>\n",
       "    </tr>\n",
       "    <tr>\n",
       "      <th>748</th>\n",
       "      <td>19.0</td>\n",
       "      <td>D30</td>\n",
       "      <td>S</td>\n",
       "      <td>53.1000</td>\n",
       "      <td>Marvin, Mr. Daniel Warner</td>\n",
       "      <td>0</td>\n",
       "      <td>749</td>\n",
       "      <td>1</td>\n",
       "      <td>male</td>\n",
       "      <td>1</td>\n",
       "      <td>0.0</td>\n",
       "      <td>113773</td>\n",
       "      <td>Mr</td>\n",
       "    </tr>\n",
       "    <tr>\n",
       "      <th>151</th>\n",
       "      <td>22.0</td>\n",
       "      <td>C2</td>\n",
       "      <td>S</td>\n",
       "      <td>66.6000</td>\n",
       "      <td>Pears, Mrs. Thomas (Edith Wearne)</td>\n",
       "      <td>0</td>\n",
       "      <td>152</td>\n",
       "      <td>1</td>\n",
       "      <td>female</td>\n",
       "      <td>1</td>\n",
       "      <td>1.0</td>\n",
       "      <td>113776</td>\n",
       "      <td>Mrs</td>\n",
       "    </tr>\n",
       "    <tr>\n",
       "      <th>336</th>\n",
       "      <td>29.0</td>\n",
       "      <td>C2</td>\n",
       "      <td>S</td>\n",
       "      <td>66.6000</td>\n",
       "      <td>Pears, Mr. Thomas Clinton</td>\n",
       "      <td>0</td>\n",
       "      <td>337</td>\n",
       "      <td>1</td>\n",
       "      <td>male</td>\n",
       "      <td>1</td>\n",
       "      <td>0.0</td>\n",
       "      <td>113776</td>\n",
       "      <td>Mr</td>\n",
       "    </tr>\n",
       "    <tr>\n",
       "      <th>41</th>\n",
       "      <td>NaN</td>\n",
       "      <td>D34</td>\n",
       "      <td>S</td>\n",
       "      <td>26.5500</td>\n",
       "      <td>Franklin, Mr. Thomas Parham</td>\n",
       "      <td>0</td>\n",
       "      <td>933</td>\n",
       "      <td>1</td>\n",
       "      <td>male</td>\n",
       "      <td>0</td>\n",
       "      <td>NaN</td>\n",
       "      <td>113778</td>\n",
       "      <td>Mr</td>\n",
       "    </tr>\n",
       "  </tbody>\n",
       "</table>\n",
       "</div>"
      ],
      "text/plain": [
       "      Age    Cabin Embarked      Fare  \\\n",
       "74   35.0     C130        C  211.5000   \n",
       "377  27.0      C82        C  211.5000   \n",
       "166   NaN      E33        S   55.0000   \n",
       "356  22.0      E33        S   55.0000   \n",
       "26   22.0      B36        C   61.9792   \n",
       "54   65.0      B30        C   61.9792   \n",
       "351   NaN     C128        S   35.0000   \n",
       "252  62.0      C87        S   26.5500   \n",
       "829  62.0      B28      NaN   80.0000   \n",
       "61   38.0      B28      NaN   80.0000   \n",
       "802  11.0  B96 B98        S  120.0000   \n",
       "390  36.0  B96 B98        S  120.0000   \n",
       "435  14.0  B96 B98        S  120.0000   \n",
       "763  36.0  B96 B98        S  120.0000   \n",
       "185   NaN      A32        S   50.0000   \n",
       "182  18.0      D30        S   53.1000   \n",
       "748  19.0      D30        S   53.1000   \n",
       "151  22.0       C2        S   66.6000   \n",
       "336  29.0       C2        S   66.6000   \n",
       "41    NaN      D34        S   26.5500   \n",
       "\n",
       "                                                  Name  Parch  PassengerId  \\\n",
       "74                                Geiger, Miss. Amalie      0          966   \n",
       "377                          Widener, Mr. Harry Elkins      2          378   \n",
       "166             Chibnall, Mrs. (Edith Martha Bowerman)      1          167   \n",
       "356                        Bowerman, Miss. Elsie Edith      1          357   \n",
       "26                        Ostby, Miss. Helene Ragnhild      1          918   \n",
       "54                      Ostby, Mr. Engelhart Cornelius      1           55   \n",
       "351             Williams-Lambert, Mr. Fletcher Fellows      0          352   \n",
       "252                          Stead, Mr. William Thomas      0          253   \n",
       "829          Stone, Mrs. George Nelson (Martha Evelyn)      0          830   \n",
       "61                                 Icard, Miss. Amelie      0           62   \n",
       "802                Carter, Master. William Thornton II      2          803   \n",
       "390                         Carter, Mr. William Ernest      2          391   \n",
       "435                          Carter, Miss. Lucile Polk      2          436   \n",
       "763          Carter, Mrs. William Ernest (Lucile Polk)      2          764   \n",
       "185                              Rood, Mr. Hugh Roscoe      0          186   \n",
       "182  Marvin, Mrs. Daniel Warner (Mary Graham Carmic...      0         1074   \n",
       "748                          Marvin, Mr. Daniel Warner      0          749   \n",
       "151                  Pears, Mrs. Thomas (Edith Wearne)      0          152   \n",
       "336                          Pears, Mr. Thomas Clinton      0          337   \n",
       "41                         Franklin, Mr. Thomas Parham      0          933   \n",
       "\n",
       "     Pclass     Sex  SibSp  Survived  Ticket greeting  \n",
       "74        1  female      0       NaN  113503     Miss  \n",
       "377       1    male      0       0.0  113503       Mr  \n",
       "166       1  female      0       1.0  113505      Mrs  \n",
       "356       1  female      0       1.0  113505     Miss  \n",
       "26        1  female      0       NaN  113509     Miss  \n",
       "54        1    male      0       0.0  113509       Mr  \n",
       "351       1    male      0       0.0  113510       Mr  \n",
       "252       1    male      0       0.0  113514       Mr  \n",
       "829       1  female      0       1.0  113572      Mrs  \n",
       "61        1  female      0       1.0  113572     Miss  \n",
       "802       1    male      1       1.0  113760   Master  \n",
       "390       1    male      1       1.0  113760       Mr  \n",
       "435       1  female      1       1.0  113760     Miss  \n",
       "763       1  female      1       1.0  113760      Mrs  \n",
       "185       1    male      0       0.0  113767       Mr  \n",
       "182       1  female      1       NaN  113773      Mrs  \n",
       "748       1    male      1       0.0  113773       Mr  \n",
       "151       1  female      1       1.0  113776      Mrs  \n",
       "336       1    male      1       0.0  113776       Mr  \n",
       "41        1    male      0       NaN  113778       Mr  "
      ]
     },
     "execution_count": 26,
     "metadata": {},
     "output_type": "execute_result"
    }
   ],
   "source": [
    "df.sort_values(by='Ticket')[50:70]"
   ]
  },
  {
   "cell_type": "code",
   "execution_count": 27,
   "metadata": {},
   "outputs": [],
   "source": [
    "df['Embarked'].fillna('S', inplace=True)"
   ]
  },
  {
   "cell_type": "code",
   "execution_count": 28,
   "metadata": {
    "scrolled": true
   },
   "outputs": [
    {
     "name": "stdout",
     "output_type": "stream",
     "text": [
      "<class 'pandas.core.frame.DataFrame'>\n",
      "Int64Index: 1309 entries, 0 to 417\n",
      "Data columns (total 13 columns):\n",
      "Age            1046 non-null float64\n",
      "Cabin          295 non-null object\n",
      "Embarked       1309 non-null object\n",
      "Fare           1308 non-null float64\n",
      "Name           1309 non-null object\n",
      "Parch          1309 non-null int64\n",
      "PassengerId    1309 non-null int64\n",
      "Pclass         1309 non-null int64\n",
      "Sex            1309 non-null object\n",
      "SibSp          1309 non-null int64\n",
      "Survived       891 non-null float64\n",
      "Ticket         1309 non-null object\n",
      "greeting       1309 non-null object\n",
      "dtypes: float64(3), int64(4), object(6)\n",
      "memory usage: 183.2+ KB\n"
     ]
    }
   ],
   "source": [
    "df.info()"
   ]
  },
  {
   "cell_type": "code",
   "execution_count": 29,
   "metadata": {},
   "outputs": [
    {
     "data": {
      "text/html": [
       "<div>\n",
       "<style>\n",
       "    .dataframe thead tr:only-child th {\n",
       "        text-align: right;\n",
       "    }\n",
       "\n",
       "    .dataframe thead th {\n",
       "        text-align: left;\n",
       "    }\n",
       "\n",
       "    .dataframe tbody tr th {\n",
       "        vertical-align: top;\n",
       "    }\n",
       "</style>\n",
       "<table border=\"1\" class=\"dataframe\">\n",
       "  <thead>\n",
       "    <tr style=\"text-align: right;\">\n",
       "      <th></th>\n",
       "      <th>Age</th>\n",
       "      <th>Cabin</th>\n",
       "      <th>Embarked</th>\n",
       "      <th>Fare</th>\n",
       "      <th>Name</th>\n",
       "      <th>Parch</th>\n",
       "      <th>PassengerId</th>\n",
       "      <th>Pclass</th>\n",
       "      <th>Sex</th>\n",
       "      <th>SibSp</th>\n",
       "      <th>Survived</th>\n",
       "      <th>Ticket</th>\n",
       "      <th>greeting</th>\n",
       "    </tr>\n",
       "  </thead>\n",
       "  <tbody>\n",
       "    <tr>\n",
       "      <th>152</th>\n",
       "      <td>60.5</td>\n",
       "      <td>NaN</td>\n",
       "      <td>S</td>\n",
       "      <td>NaN</td>\n",
       "      <td>Storey, Mr. Thomas</td>\n",
       "      <td>0</td>\n",
       "      <td>1044</td>\n",
       "      <td>3</td>\n",
       "      <td>male</td>\n",
       "      <td>0</td>\n",
       "      <td>NaN</td>\n",
       "      <td>3701</td>\n",
       "      <td>Mr</td>\n",
       "    </tr>\n",
       "  </tbody>\n",
       "</table>\n",
       "</div>"
      ],
      "text/plain": [
       "      Age Cabin Embarked  Fare                Name  Parch  PassengerId  \\\n",
       "152  60.5   NaN        S   NaN  Storey, Mr. Thomas      0         1044   \n",
       "\n",
       "     Pclass   Sex  SibSp  Survived Ticket greeting  \n",
       "152       3  male      0       NaN   3701       Mr  "
      ]
     },
     "execution_count": 29,
     "metadata": {},
     "output_type": "execute_result"
    }
   ],
   "source": [
    "df[df.Fare.isnull()]"
   ]
  },
  {
   "cell_type": "code",
   "execution_count": 30,
   "metadata": {
    "scrolled": true
   },
   "outputs": [
    {
     "data": {
      "text/html": [
       "<div>\n",
       "<style>\n",
       "    .dataframe thead tr:only-child th {\n",
       "        text-align: right;\n",
       "    }\n",
       "\n",
       "    .dataframe thead th {\n",
       "        text-align: left;\n",
       "    }\n",
       "\n",
       "    .dataframe tbody tr th {\n",
       "        vertical-align: top;\n",
       "    }\n",
       "</style>\n",
       "<table border=\"1\" class=\"dataframe\">\n",
       "  <thead>\n",
       "    <tr style=\"text-align: right;\">\n",
       "      <th></th>\n",
       "      <th>Age</th>\n",
       "      <th>Cabin</th>\n",
       "      <th>Embarked</th>\n",
       "      <th>Fare</th>\n",
       "      <th>Name</th>\n",
       "      <th>Parch</th>\n",
       "      <th>PassengerId</th>\n",
       "      <th>Pclass</th>\n",
       "      <th>Sex</th>\n",
       "      <th>SibSp</th>\n",
       "      <th>Survived</th>\n",
       "      <th>Ticket</th>\n",
       "      <th>greeting</th>\n",
       "    </tr>\n",
       "  </thead>\n",
       "  <tbody>\n",
       "    <tr>\n",
       "      <th>198</th>\n",
       "      <td>NaN</td>\n",
       "      <td>NaN</td>\n",
       "      <td>Q</td>\n",
       "      <td>7.7500</td>\n",
       "      <td>Madigan, Miss. Margaret \"Maggie\"</td>\n",
       "      <td>0</td>\n",
       "      <td>199</td>\n",
       "      <td>3</td>\n",
       "      <td>female</td>\n",
       "      <td>0</td>\n",
       "      <td>1.0</td>\n",
       "      <td>370370</td>\n",
       "      <td>Miss</td>\n",
       "    </tr>\n",
       "    <tr>\n",
       "      <th>116</th>\n",
       "      <td>70.5</td>\n",
       "      <td>NaN</td>\n",
       "      <td>Q</td>\n",
       "      <td>7.7500</td>\n",
       "      <td>Connors, Mr. Patrick</td>\n",
       "      <td>0</td>\n",
       "      <td>117</td>\n",
       "      <td>3</td>\n",
       "      <td>male</td>\n",
       "      <td>0</td>\n",
       "      <td>0.0</td>\n",
       "      <td>370369</td>\n",
       "      <td>Mr</td>\n",
       "    </tr>\n",
       "    <tr>\n",
       "      <th>227</th>\n",
       "      <td>NaN</td>\n",
       "      <td>NaN</td>\n",
       "      <td>Q</td>\n",
       "      <td>7.7500</td>\n",
       "      <td>McNeill, Miss. Bridget</td>\n",
       "      <td>0</td>\n",
       "      <td>1119</td>\n",
       "      <td>3</td>\n",
       "      <td>female</td>\n",
       "      <td>0</td>\n",
       "      <td>NaN</td>\n",
       "      <td>370368</td>\n",
       "      <td>Miss</td>\n",
       "    </tr>\n",
       "    <tr>\n",
       "      <th>186</th>\n",
       "      <td>NaN</td>\n",
       "      <td>NaN</td>\n",
       "      <td>Q</td>\n",
       "      <td>15.5000</td>\n",
       "      <td>O'Brien, Mrs. Thomas (Johanna \"Hannah\" Godfrey)</td>\n",
       "      <td>0</td>\n",
       "      <td>187</td>\n",
       "      <td>3</td>\n",
       "      <td>female</td>\n",
       "      <td>1</td>\n",
       "      <td>1.0</td>\n",
       "      <td>370365</td>\n",
       "      <td>Mrs</td>\n",
       "    </tr>\n",
       "    <tr>\n",
       "      <th>364</th>\n",
       "      <td>NaN</td>\n",
       "      <td>NaN</td>\n",
       "      <td>Q</td>\n",
       "      <td>15.5000</td>\n",
       "      <td>O'Brien, Mr. Thomas</td>\n",
       "      <td>0</td>\n",
       "      <td>365</td>\n",
       "      <td>3</td>\n",
       "      <td>male</td>\n",
       "      <td>1</td>\n",
       "      <td>0.0</td>\n",
       "      <td>370365</td>\n",
       "      <td>Mr</td>\n",
       "    </tr>\n",
       "    <tr>\n",
       "      <th>424</th>\n",
       "      <td>18.0</td>\n",
       "      <td>NaN</td>\n",
       "      <td>S</td>\n",
       "      <td>20.2125</td>\n",
       "      <td>Rosblom, Mr. Viktor Richard</td>\n",
       "      <td>1</td>\n",
       "      <td>425</td>\n",
       "      <td>3</td>\n",
       "      <td>male</td>\n",
       "      <td>1</td>\n",
       "      <td>0.0</td>\n",
       "      <td>370129</td>\n",
       "      <td>Mr</td>\n",
       "    </tr>\n",
       "    <tr>\n",
       "      <th>254</th>\n",
       "      <td>41.0</td>\n",
       "      <td>NaN</td>\n",
       "      <td>S</td>\n",
       "      <td>20.2125</td>\n",
       "      <td>Rosblom, Mrs. Viktor (Helena Wilhelmina)</td>\n",
       "      <td>2</td>\n",
       "      <td>255</td>\n",
       "      <td>3</td>\n",
       "      <td>female</td>\n",
       "      <td>0</td>\n",
       "      <td>0.0</td>\n",
       "      <td>370129</td>\n",
       "      <td>Mrs</td>\n",
       "    </tr>\n",
       "    <tr>\n",
       "      <th>284</th>\n",
       "      <td>2.0</td>\n",
       "      <td>NaN</td>\n",
       "      <td>S</td>\n",
       "      <td>20.2125</td>\n",
       "      <td>Rosblom, Miss. Salli Helena</td>\n",
       "      <td>1</td>\n",
       "      <td>1176</td>\n",
       "      <td>3</td>\n",
       "      <td>female</td>\n",
       "      <td>1</td>\n",
       "      <td>NaN</td>\n",
       "      <td>370129</td>\n",
       "      <td>Miss</td>\n",
       "    </tr>\n",
       "    <tr>\n",
       "      <th>152</th>\n",
       "      <td>60.5</td>\n",
       "      <td>NaN</td>\n",
       "      <td>S</td>\n",
       "      <td>NaN</td>\n",
       "      <td>Storey, Mr. Thomas</td>\n",
       "      <td>0</td>\n",
       "      <td>1044</td>\n",
       "      <td>3</td>\n",
       "      <td>male</td>\n",
       "      <td>0</td>\n",
       "      <td>NaN</td>\n",
       "      <td>3701</td>\n",
       "      <td>Mr</td>\n",
       "    </tr>\n",
       "    <tr>\n",
       "      <th>230</th>\n",
       "      <td>35.0</td>\n",
       "      <td>C83</td>\n",
       "      <td>S</td>\n",
       "      <td>83.4750</td>\n",
       "      <td>Harris, Mrs. Henry Birkhardt (Irene Wallach)</td>\n",
       "      <td>0</td>\n",
       "      <td>231</td>\n",
       "      <td>1</td>\n",
       "      <td>female</td>\n",
       "      <td>1</td>\n",
       "      <td>1.0</td>\n",
       "      <td>36973</td>\n",
       "      <td>Mrs</td>\n",
       "    </tr>\n",
       "    <tr>\n",
       "      <th>62</th>\n",
       "      <td>45.0</td>\n",
       "      <td>C83</td>\n",
       "      <td>S</td>\n",
       "      <td>83.4750</td>\n",
       "      <td>Harris, Mr. Henry Birkhardt</td>\n",
       "      <td>0</td>\n",
       "      <td>63</td>\n",
       "      <td>1</td>\n",
       "      <td>male</td>\n",
       "      <td>1</td>\n",
       "      <td>0.0</td>\n",
       "      <td>36973</td>\n",
       "      <td>Mr</td>\n",
       "    </tr>\n",
       "    <tr>\n",
       "      <th>515</th>\n",
       "      <td>47.0</td>\n",
       "      <td>D46</td>\n",
       "      <td>S</td>\n",
       "      <td>34.0208</td>\n",
       "      <td>Walker, Mr. William Anderson</td>\n",
       "      <td>0</td>\n",
       "      <td>516</td>\n",
       "      <td>1</td>\n",
       "      <td>male</td>\n",
       "      <td>0</td>\n",
       "      <td>0.0</td>\n",
       "      <td>36967</td>\n",
       "      <td>Mr</td>\n",
       "    </tr>\n",
       "    <tr>\n",
       "      <th>625</th>\n",
       "      <td>61.0</td>\n",
       "      <td>D50</td>\n",
       "      <td>S</td>\n",
       "      <td>32.3208</td>\n",
       "      <td>Sutton, Mr. Frederick</td>\n",
       "      <td>0</td>\n",
       "      <td>626</td>\n",
       "      <td>1</td>\n",
       "      <td>male</td>\n",
       "      <td>0</td>\n",
       "      <td>0.0</td>\n",
       "      <td>36963</td>\n",
       "      <td>Mr</td>\n",
       "    </tr>\n",
       "    <tr>\n",
       "      <th>496</th>\n",
       "      <td>54.0</td>\n",
       "      <td>D20</td>\n",
       "      <td>C</td>\n",
       "      <td>78.2667</td>\n",
       "      <td>Eustis, Miss. Elizabeth Mussey</td>\n",
       "      <td>0</td>\n",
       "      <td>497</td>\n",
       "      <td>1</td>\n",
       "      <td>female</td>\n",
       "      <td>1</td>\n",
       "      <td>1.0</td>\n",
       "      <td>36947</td>\n",
       "      <td>Miss</td>\n",
       "    </tr>\n",
       "    <tr>\n",
       "      <th>591</th>\n",
       "      <td>52.0</td>\n",
       "      <td>D20</td>\n",
       "      <td>C</td>\n",
       "      <td>78.2667</td>\n",
       "      <td>Stephenson, Mrs. Walter Bertram (Martha Eustis)</td>\n",
       "      <td>0</td>\n",
       "      <td>592</td>\n",
       "      <td>1</td>\n",
       "      <td>female</td>\n",
       "      <td>1</td>\n",
       "      <td>1.0</td>\n",
       "      <td>36947</td>\n",
       "      <td>Mrs</td>\n",
       "    </tr>\n",
       "    <tr>\n",
       "      <th>318</th>\n",
       "      <td>31.0</td>\n",
       "      <td>C7</td>\n",
       "      <td>S</td>\n",
       "      <td>164.8667</td>\n",
       "      <td>Wick, Miss. Mary Natalie</td>\n",
       "      <td>2</td>\n",
       "      <td>319</td>\n",
       "      <td>1</td>\n",
       "      <td>female</td>\n",
       "      <td>0</td>\n",
       "      <td>1.0</td>\n",
       "      <td>36928</td>\n",
       "      <td>Miss</td>\n",
       "    </tr>\n",
       "    <tr>\n",
       "      <th>400</th>\n",
       "      <td>30.0</td>\n",
       "      <td>C7</td>\n",
       "      <td>S</td>\n",
       "      <td>164.8667</td>\n",
       "      <td>Bonnell, Miss. Caroline</td>\n",
       "      <td>0</td>\n",
       "      <td>1292</td>\n",
       "      <td>1</td>\n",
       "      <td>female</td>\n",
       "      <td>0</td>\n",
       "      <td>NaN</td>\n",
       "      <td>36928</td>\n",
       "      <td>Miss</td>\n",
       "    </tr>\n",
       "    <tr>\n",
       "      <th>856</th>\n",
       "      <td>45.0</td>\n",
       "      <td>NaN</td>\n",
       "      <td>S</td>\n",
       "      <td>164.8667</td>\n",
       "      <td>Wick, Mrs. George Dennick (Mary Hitchcock)</td>\n",
       "      <td>1</td>\n",
       "      <td>857</td>\n",
       "      <td>1</td>\n",
       "      <td>female</td>\n",
       "      <td>1</td>\n",
       "      <td>1.0</td>\n",
       "      <td>36928</td>\n",
       "      <td>Mrs</td>\n",
       "    </tr>\n",
       "    <tr>\n",
       "      <th>217</th>\n",
       "      <td>57.0</td>\n",
       "      <td>NaN</td>\n",
       "      <td>S</td>\n",
       "      <td>164.8667</td>\n",
       "      <td>Wick, Mr. George Dennick</td>\n",
       "      <td>1</td>\n",
       "      <td>1109</td>\n",
       "      <td>1</td>\n",
       "      <td>male</td>\n",
       "      <td>1</td>\n",
       "      <td>NaN</td>\n",
       "      <td>36928</td>\n",
       "      <td>Mr</td>\n",
       "    </tr>\n",
       "    <tr>\n",
       "      <th>124</th>\n",
       "      <td>NaN</td>\n",
       "      <td>NaN</td>\n",
       "      <td>Q</td>\n",
       "      <td>7.7500</td>\n",
       "      <td>Kennedy, Mr. John</td>\n",
       "      <td>0</td>\n",
       "      <td>1016</td>\n",
       "      <td>3</td>\n",
       "      <td>male</td>\n",
       "      <td>0</td>\n",
       "      <td>NaN</td>\n",
       "      <td>368783</td>\n",
       "      <td>Mr</td>\n",
       "    </tr>\n",
       "  </tbody>\n",
       "</table>\n",
       "</div>"
      ],
      "text/plain": [
       "      Age Cabin Embarked      Fare  \\\n",
       "198   NaN   NaN        Q    7.7500   \n",
       "116  70.5   NaN        Q    7.7500   \n",
       "227   NaN   NaN        Q    7.7500   \n",
       "186   NaN   NaN        Q   15.5000   \n",
       "364   NaN   NaN        Q   15.5000   \n",
       "424  18.0   NaN        S   20.2125   \n",
       "254  41.0   NaN        S   20.2125   \n",
       "284   2.0   NaN        S   20.2125   \n",
       "152  60.5   NaN        S       NaN   \n",
       "230  35.0   C83        S   83.4750   \n",
       "62   45.0   C83        S   83.4750   \n",
       "515  47.0   D46        S   34.0208   \n",
       "625  61.0   D50        S   32.3208   \n",
       "496  54.0   D20        C   78.2667   \n",
       "591  52.0   D20        C   78.2667   \n",
       "318  31.0    C7        S  164.8667   \n",
       "400  30.0    C7        S  164.8667   \n",
       "856  45.0   NaN        S  164.8667   \n",
       "217  57.0   NaN        S  164.8667   \n",
       "124   NaN   NaN        Q    7.7500   \n",
       "\n",
       "                                                Name  Parch  PassengerId  \\\n",
       "198                 Madigan, Miss. Margaret \"Maggie\"      0          199   \n",
       "116                             Connors, Mr. Patrick      0          117   \n",
       "227                           McNeill, Miss. Bridget      0         1119   \n",
       "186  O'Brien, Mrs. Thomas (Johanna \"Hannah\" Godfrey)      0          187   \n",
       "364                              O'Brien, Mr. Thomas      0          365   \n",
       "424                      Rosblom, Mr. Viktor Richard      1          425   \n",
       "254         Rosblom, Mrs. Viktor (Helena Wilhelmina)      2          255   \n",
       "284                      Rosblom, Miss. Salli Helena      1         1176   \n",
       "152                               Storey, Mr. Thomas      0         1044   \n",
       "230     Harris, Mrs. Henry Birkhardt (Irene Wallach)      0          231   \n",
       "62                       Harris, Mr. Henry Birkhardt      0           63   \n",
       "515                     Walker, Mr. William Anderson      0          516   \n",
       "625                            Sutton, Mr. Frederick      0          626   \n",
       "496                   Eustis, Miss. Elizabeth Mussey      0          497   \n",
       "591  Stephenson, Mrs. Walter Bertram (Martha Eustis)      0          592   \n",
       "318                         Wick, Miss. Mary Natalie      2          319   \n",
       "400                          Bonnell, Miss. Caroline      0         1292   \n",
       "856       Wick, Mrs. George Dennick (Mary Hitchcock)      1          857   \n",
       "217                         Wick, Mr. George Dennick      1         1109   \n",
       "124                                Kennedy, Mr. John      0         1016   \n",
       "\n",
       "     Pclass     Sex  SibSp  Survived  Ticket greeting  \n",
       "198       3  female      0       1.0  370370     Miss  \n",
       "116       3    male      0       0.0  370369       Mr  \n",
       "227       3  female      0       NaN  370368     Miss  \n",
       "186       3  female      1       1.0  370365      Mrs  \n",
       "364       3    male      1       0.0  370365       Mr  \n",
       "424       3    male      1       0.0  370129       Mr  \n",
       "254       3  female      0       0.0  370129      Mrs  \n",
       "284       3  female      1       NaN  370129     Miss  \n",
       "152       3    male      0       NaN    3701       Mr  \n",
       "230       1  female      1       1.0   36973      Mrs  \n",
       "62        1    male      1       0.0   36973       Mr  \n",
       "515       1    male      0       0.0   36967       Mr  \n",
       "625       1    male      0       0.0   36963       Mr  \n",
       "496       1  female      1       1.0   36947     Miss  \n",
       "591       1  female      1       1.0   36947      Mrs  \n",
       "318       1  female      0       1.0   36928     Miss  \n",
       "400       1  female      0       NaN   36928     Miss  \n",
       "856       1  female      1       1.0   36928      Mrs  \n",
       "217       1    male      1       NaN   36928       Mr  \n",
       "124       3    male      0       NaN  368783       Mr  "
      ]
     },
     "execution_count": 30,
     "metadata": {},
     "output_type": "execute_result"
    }
   ],
   "source": [
    "df.sort_values(by='Ticket', ascending=False)[440:460]"
   ]
  },
  {
   "cell_type": "code",
   "execution_count": 31,
   "metadata": {},
   "outputs": [
    {
     "name": "stdout",
     "output_type": "stream",
     "text": [
      "7.46875\n"
     ]
    }
   ],
   "source": [
    "fare_mean = df[(df.Age>55)&(df.Pclass==3)&(df.Sex=='male')]['Fare'].mean()\n",
    "print(fare_mean)"
   ]
  },
  {
   "cell_type": "code",
   "execution_count": 32,
   "metadata": {},
   "outputs": [],
   "source": [
    "df[\"Fare\"].fillna(fare_mean, inplace=True)"
   ]
  },
  {
   "cell_type": "code",
   "execution_count": 33,
   "metadata": {},
   "outputs": [
    {
     "name": "stdout",
     "output_type": "stream",
     "text": [
      "<class 'pandas.core.frame.DataFrame'>\n",
      "Int64Index: 1309 entries, 0 to 417\n",
      "Data columns (total 13 columns):\n",
      "Age            1046 non-null float64\n",
      "Cabin          295 non-null object\n",
      "Embarked       1309 non-null object\n",
      "Fare           1309 non-null float64\n",
      "Name           1309 non-null object\n",
      "Parch          1309 non-null int64\n",
      "PassengerId    1309 non-null int64\n",
      "Pclass         1309 non-null int64\n",
      "Sex            1309 non-null object\n",
      "SibSp          1309 non-null int64\n",
      "Survived       891 non-null float64\n",
      "Ticket         1309 non-null object\n",
      "greeting       1309 non-null object\n",
      "dtypes: float64(3), int64(4), object(6)\n",
      "memory usage: 183.2+ KB\n"
     ]
    }
   ],
   "source": [
    "df.info()"
   ]
  },
  {
   "cell_type": "code",
   "execution_count": 34,
   "metadata": {
    "_cell_guid": "f39d6649-5ce8-4f4b-8dd0-5c069fb8d75f",
    "_uuid": "bafc81e76f1ea104159ec69bc1870f3b7bd3ccc3"
   },
   "outputs": [
    {
     "data": {
      "text/plain": [
       "male      843\n",
       "female    466\n",
       "Name: Sex, dtype: int64"
      ]
     },
     "execution_count": 34,
     "metadata": {},
     "output_type": "execute_result"
    }
   ],
   "source": [
    "df[\"Sex\"].value_counts()"
   ]
  },
  {
   "cell_type": "code",
   "execution_count": 35,
   "metadata": {
    "_cell_guid": "a15a9521-5d87-4469-a987-6cbad1a95ae5",
    "_uuid": "6faba7d4a22d4707dd13b10cd41e212fa1eab3ca"
   },
   "outputs": [
    {
     "name": "stdout",
     "output_type": "stream",
     "text": [
      "<class 'pandas.core.frame.DataFrame'>\n",
      "Int64Index: 1309 entries, 0 to 417\n",
      "Data columns (total 2 columns):\n",
      "female    1309 non-null uint8\n",
      "male      1309 non-null uint8\n",
      "dtypes: uint8(2)\n",
      "memory usage: 52.8 KB\n",
      "None\n",
      "   female  male\n",
      "0       0     1\n",
      "1       1     0\n",
      "2       1     0\n",
      "3       1     0\n",
      "4       0     1\n"
     ]
    }
   ],
   "source": [
    "sex_dummies = pd.get_dummies(df[\"Sex\"])\n",
    "print(sex_dummies.info())\n",
    "print(sex_dummies[:5])"
   ]
  },
  {
   "cell_type": "code",
   "execution_count": 36,
   "metadata": {
    "_cell_guid": "d0078791-bf8a-45fb-b64d-414f9fff485f",
    "_uuid": "ee792d4995c7287822b54393044239b680082be9"
   },
   "outputs": [],
   "source": [
    "df['female'] = sex_dummies['female']\n",
    "df.drop('Sex', axis=1, inplace=True)"
   ]
  },
  {
   "cell_type": "code",
   "execution_count": 37,
   "metadata": {},
   "outputs": [
    {
     "data": {
      "text/html": [
       "<div>\n",
       "<style>\n",
       "    .dataframe thead tr:only-child th {\n",
       "        text-align: right;\n",
       "    }\n",
       "\n",
       "    .dataframe thead th {\n",
       "        text-align: left;\n",
       "    }\n",
       "\n",
       "    .dataframe tbody tr th {\n",
       "        vertical-align: top;\n",
       "    }\n",
       "</style>\n",
       "<table border=\"1\" class=\"dataframe\">\n",
       "  <thead>\n",
       "    <tr style=\"text-align: right;\">\n",
       "      <th></th>\n",
       "      <th>Age</th>\n",
       "      <th>Cabin</th>\n",
       "      <th>Embarked</th>\n",
       "      <th>Fare</th>\n",
       "      <th>Name</th>\n",
       "      <th>Parch</th>\n",
       "      <th>PassengerId</th>\n",
       "      <th>Pclass</th>\n",
       "      <th>SibSp</th>\n",
       "      <th>Survived</th>\n",
       "      <th>Ticket</th>\n",
       "      <th>greeting</th>\n",
       "      <th>female</th>\n",
       "    </tr>\n",
       "  </thead>\n",
       "  <tbody>\n",
       "    <tr>\n",
       "      <th>413</th>\n",
       "      <td>NaN</td>\n",
       "      <td>NaN</td>\n",
       "      <td>S</td>\n",
       "      <td>8.0500</td>\n",
       "      <td>Spector, Mr. Woolf</td>\n",
       "      <td>0</td>\n",
       "      <td>1305</td>\n",
       "      <td>3</td>\n",
       "      <td>0</td>\n",
       "      <td>NaN</td>\n",
       "      <td>A.5. 3236</td>\n",
       "      <td>Mr</td>\n",
       "      <td>0</td>\n",
       "    </tr>\n",
       "    <tr>\n",
       "      <th>414</th>\n",
       "      <td>39.0</td>\n",
       "      <td>C105</td>\n",
       "      <td>C</td>\n",
       "      <td>108.9000</td>\n",
       "      <td>Oliva y Ocana, Dona. Fermina</td>\n",
       "      <td>0</td>\n",
       "      <td>1306</td>\n",
       "      <td>1</td>\n",
       "      <td>0</td>\n",
       "      <td>NaN</td>\n",
       "      <td>PC 17758</td>\n",
       "      <td>Mrs</td>\n",
       "      <td>1</td>\n",
       "    </tr>\n",
       "    <tr>\n",
       "      <th>415</th>\n",
       "      <td>38.5</td>\n",
       "      <td>NaN</td>\n",
       "      <td>S</td>\n",
       "      <td>7.2500</td>\n",
       "      <td>Saether, Mr. Simon Sivertsen</td>\n",
       "      <td>0</td>\n",
       "      <td>1307</td>\n",
       "      <td>3</td>\n",
       "      <td>0</td>\n",
       "      <td>NaN</td>\n",
       "      <td>SOTON/O.Q. 3101262</td>\n",
       "      <td>Mr</td>\n",
       "      <td>0</td>\n",
       "    </tr>\n",
       "    <tr>\n",
       "      <th>416</th>\n",
       "      <td>NaN</td>\n",
       "      <td>NaN</td>\n",
       "      <td>S</td>\n",
       "      <td>8.0500</td>\n",
       "      <td>Ware, Mr. Frederick</td>\n",
       "      <td>0</td>\n",
       "      <td>1308</td>\n",
       "      <td>3</td>\n",
       "      <td>0</td>\n",
       "      <td>NaN</td>\n",
       "      <td>359309</td>\n",
       "      <td>Mr</td>\n",
       "      <td>0</td>\n",
       "    </tr>\n",
       "    <tr>\n",
       "      <th>417</th>\n",
       "      <td>NaN</td>\n",
       "      <td>NaN</td>\n",
       "      <td>C</td>\n",
       "      <td>22.3583</td>\n",
       "      <td>Peter, Master. Michael J</td>\n",
       "      <td>1</td>\n",
       "      <td>1309</td>\n",
       "      <td>3</td>\n",
       "      <td>1</td>\n",
       "      <td>NaN</td>\n",
       "      <td>2668</td>\n",
       "      <td>Master</td>\n",
       "      <td>0</td>\n",
       "    </tr>\n",
       "  </tbody>\n",
       "</table>\n",
       "</div>"
      ],
      "text/plain": [
       "      Age Cabin Embarked      Fare                          Name  Parch  \\\n",
       "413   NaN   NaN        S    8.0500            Spector, Mr. Woolf      0   \n",
       "414  39.0  C105        C  108.9000  Oliva y Ocana, Dona. Fermina      0   \n",
       "415  38.5   NaN        S    7.2500  Saether, Mr. Simon Sivertsen      0   \n",
       "416   NaN   NaN        S    8.0500           Ware, Mr. Frederick      0   \n",
       "417   NaN   NaN        C   22.3583      Peter, Master. Michael J      1   \n",
       "\n",
       "     PassengerId  Pclass  SibSp  Survived              Ticket greeting  female  \n",
       "413         1305       3      0       NaN           A.5. 3236       Mr       0  \n",
       "414         1306       1      0       NaN            PC 17758      Mrs       1  \n",
       "415         1307       3      0       NaN  SOTON/O.Q. 3101262       Mr       0  \n",
       "416         1308       3      0       NaN              359309       Mr       0  \n",
       "417         1309       3      1       NaN                2668   Master       0  "
      ]
     },
     "execution_count": 37,
     "metadata": {},
     "output_type": "execute_result"
    }
   ],
   "source": [
    "df.tail()"
   ]
  },
  {
   "cell_type": "code",
   "execution_count": 38,
   "metadata": {},
   "outputs": [],
   "source": [
    "df.drop(['Cabin', 'Name', 'Ticket'], axis=1, inplace=True)"
   ]
  },
  {
   "cell_type": "code",
   "execution_count": 39,
   "metadata": {},
   "outputs": [
    {
     "data": {
      "text/html": [
       "<div>\n",
       "<style>\n",
       "    .dataframe thead tr:only-child th {\n",
       "        text-align: right;\n",
       "    }\n",
       "\n",
       "    .dataframe thead th {\n",
       "        text-align: left;\n",
       "    }\n",
       "\n",
       "    .dataframe tbody tr th {\n",
       "        vertical-align: top;\n",
       "    }\n",
       "</style>\n",
       "<table border=\"1\" class=\"dataframe\">\n",
       "  <thead>\n",
       "    <tr style=\"text-align: right;\">\n",
       "      <th></th>\n",
       "      <th>Age</th>\n",
       "      <th>Embarked</th>\n",
       "      <th>Fare</th>\n",
       "      <th>Parch</th>\n",
       "      <th>PassengerId</th>\n",
       "      <th>Pclass</th>\n",
       "      <th>SibSp</th>\n",
       "      <th>Survived</th>\n",
       "      <th>greeting</th>\n",
       "      <th>female</th>\n",
       "    </tr>\n",
       "  </thead>\n",
       "  <tbody>\n",
       "    <tr>\n",
       "      <th>413</th>\n",
       "      <td>NaN</td>\n",
       "      <td>S</td>\n",
       "      <td>8.0500</td>\n",
       "      <td>0</td>\n",
       "      <td>1305</td>\n",
       "      <td>3</td>\n",
       "      <td>0</td>\n",
       "      <td>NaN</td>\n",
       "      <td>Mr</td>\n",
       "      <td>0</td>\n",
       "    </tr>\n",
       "    <tr>\n",
       "      <th>414</th>\n",
       "      <td>39.0</td>\n",
       "      <td>C</td>\n",
       "      <td>108.9000</td>\n",
       "      <td>0</td>\n",
       "      <td>1306</td>\n",
       "      <td>1</td>\n",
       "      <td>0</td>\n",
       "      <td>NaN</td>\n",
       "      <td>Mrs</td>\n",
       "      <td>1</td>\n",
       "    </tr>\n",
       "    <tr>\n",
       "      <th>415</th>\n",
       "      <td>38.5</td>\n",
       "      <td>S</td>\n",
       "      <td>7.2500</td>\n",
       "      <td>0</td>\n",
       "      <td>1307</td>\n",
       "      <td>3</td>\n",
       "      <td>0</td>\n",
       "      <td>NaN</td>\n",
       "      <td>Mr</td>\n",
       "      <td>0</td>\n",
       "    </tr>\n",
       "    <tr>\n",
       "      <th>416</th>\n",
       "      <td>NaN</td>\n",
       "      <td>S</td>\n",
       "      <td>8.0500</td>\n",
       "      <td>0</td>\n",
       "      <td>1308</td>\n",
       "      <td>3</td>\n",
       "      <td>0</td>\n",
       "      <td>NaN</td>\n",
       "      <td>Mr</td>\n",
       "      <td>0</td>\n",
       "    </tr>\n",
       "    <tr>\n",
       "      <th>417</th>\n",
       "      <td>NaN</td>\n",
       "      <td>C</td>\n",
       "      <td>22.3583</td>\n",
       "      <td>1</td>\n",
       "      <td>1309</td>\n",
       "      <td>3</td>\n",
       "      <td>1</td>\n",
       "      <td>NaN</td>\n",
       "      <td>Master</td>\n",
       "      <td>0</td>\n",
       "    </tr>\n",
       "  </tbody>\n",
       "</table>\n",
       "</div>"
      ],
      "text/plain": [
       "      Age Embarked      Fare  Parch  PassengerId  Pclass  SibSp  Survived  \\\n",
       "413   NaN        S    8.0500      0         1305       3      0       NaN   \n",
       "414  39.0        C  108.9000      0         1306       1      0       NaN   \n",
       "415  38.5        S    7.2500      0         1307       3      0       NaN   \n",
       "416   NaN        S    8.0500      0         1308       3      0       NaN   \n",
       "417   NaN        C   22.3583      1         1309       3      1       NaN   \n",
       "\n",
       "    greeting  female  \n",
       "413       Mr       0  \n",
       "414      Mrs       1  \n",
       "415       Mr       0  \n",
       "416       Mr       0  \n",
       "417   Master       0  "
      ]
     },
     "execution_count": 39,
     "metadata": {},
     "output_type": "execute_result"
    }
   ],
   "source": [
    "df.tail()"
   ]
  },
  {
   "cell_type": "code",
   "execution_count": 40,
   "metadata": {},
   "outputs": [
    {
     "data": {
      "text/plain": [
       "S    916\n",
       "C    270\n",
       "Q    123\n",
       "Name: Embarked, dtype: int64"
      ]
     },
     "execution_count": 40,
     "metadata": {},
     "output_type": "execute_result"
    }
   ],
   "source": [
    "df.Embarked.value_counts()"
   ]
  },
  {
   "cell_type": "code",
   "execution_count": 41,
   "metadata": {},
   "outputs": [
    {
     "data": {
      "text/plain": [
       "Mr        763\n",
       "Miss      266\n",
       "Mrs       199\n",
       "Master     61\n",
       "Dr          8\n",
       "Rev         8\n",
       "Col         4\n",
       "Name: greeting, dtype: int64"
      ]
     },
     "execution_count": 41,
     "metadata": {},
     "output_type": "execute_result"
    }
   ],
   "source": [
    "df.greeting.value_counts()"
   ]
  },
  {
   "cell_type": "code",
   "execution_count": 42,
   "metadata": {},
   "outputs": [],
   "source": [
    "def get_dummie(data, column):\n",
    "    \"\"\"Convert to binar number of categories\"\"\"\n",
    "    \n",
    "    df_dummie = pd.get_dummies(df[column][:], prefix=column)\n",
    "    df_dummie = pd.concat([df[:],df_dummie[:]], axis=1)\n",
    "    \n",
    "    return (df_dummie)"
   ]
  },
  {
   "cell_type": "code",
   "execution_count": 43,
   "metadata": {},
   "outputs": [],
   "source": [
    "x = df.loc[:,:]\n",
    "df = get_dummie(x, \"Embarked\")"
   ]
  },
  {
   "cell_type": "code",
   "execution_count": 44,
   "metadata": {},
   "outputs": [
    {
     "name": "stdout",
     "output_type": "stream",
     "text": [
      "<class 'pandas.core.frame.DataFrame'>\n",
      "Int64Index: 1309 entries, 0 to 417\n",
      "Data columns (total 13 columns):\n",
      "Age            1046 non-null float64\n",
      "Embarked       1309 non-null object\n",
      "Fare           1309 non-null float64\n",
      "Parch          1309 non-null int64\n",
      "PassengerId    1309 non-null int64\n",
      "Pclass         1309 non-null int64\n",
      "SibSp          1309 non-null int64\n",
      "Survived       891 non-null float64\n",
      "greeting       1309 non-null object\n",
      "female         1309 non-null uint8\n",
      "Embarked_C     1309 non-null uint8\n",
      "Embarked_Q     1309 non-null uint8\n",
      "Embarked_S     1309 non-null uint8\n",
      "dtypes: float64(3), int64(4), object(2), uint8(4)\n",
      "memory usage: 107.4+ KB\n"
     ]
    }
   ],
   "source": [
    "df.info()"
   ]
  },
  {
   "cell_type": "code",
   "execution_count": 45,
   "metadata": {},
   "outputs": [],
   "source": [
    "x = df.loc[:,:]\n",
    "df = get_dummie(x, 'greeting')"
   ]
  },
  {
   "cell_type": "code",
   "execution_count": 46,
   "metadata": {},
   "outputs": [
    {
     "name": "stdout",
     "output_type": "stream",
     "text": [
      "<class 'pandas.core.frame.DataFrame'>\n",
      "Int64Index: 1309 entries, 0 to 417\n",
      "Data columns (total 20 columns):\n",
      "Age                1046 non-null float64\n",
      "Embarked           1309 non-null object\n",
      "Fare               1309 non-null float64\n",
      "Parch              1309 non-null int64\n",
      "PassengerId        1309 non-null int64\n",
      "Pclass             1309 non-null int64\n",
      "SibSp              1309 non-null int64\n",
      "Survived           891 non-null float64\n",
      "greeting           1309 non-null object\n",
      "female             1309 non-null uint8\n",
      "Embarked_C         1309 non-null uint8\n",
      "Embarked_Q         1309 non-null uint8\n",
      "Embarked_S         1309 non-null uint8\n",
      "greeting_Col       1309 non-null uint8\n",
      "greeting_Dr        1309 non-null uint8\n",
      "greeting_Master    1309 non-null uint8\n",
      "greeting_Miss      1309 non-null uint8\n",
      "greeting_Mr        1309 non-null uint8\n",
      "greeting_Mrs       1309 non-null uint8\n",
      "greeting_Rev       1309 non-null uint8\n",
      "dtypes: float64(3), int64(4), object(2), uint8(11)\n",
      "memory usage: 116.3+ KB\n"
     ]
    }
   ],
   "source": [
    "df.info()"
   ]
  },
  {
   "cell_type": "code",
   "execution_count": 47,
   "metadata": {},
   "outputs": [],
   "source": [
    "df.drop(['Embarked', 'greeting'], axis=1, inplace=True)"
   ]
  },
  {
   "cell_type": "code",
   "execution_count": 48,
   "metadata": {},
   "outputs": [
    {
     "name": "stdout",
     "output_type": "stream",
     "text": [
      "<class 'pandas.core.frame.DataFrame'>\n",
      "Int64Index: 1309 entries, 0 to 417\n",
      "Data columns (total 18 columns):\n",
      "Age                1046 non-null float64\n",
      "Fare               1309 non-null float64\n",
      "Parch              1309 non-null int64\n",
      "PassengerId        1309 non-null int64\n",
      "Pclass             1309 non-null int64\n",
      "SibSp              1309 non-null int64\n",
      "Survived           891 non-null float64\n",
      "female             1309 non-null uint8\n",
      "Embarked_C         1309 non-null uint8\n",
      "Embarked_Q         1309 non-null uint8\n",
      "Embarked_S         1309 non-null uint8\n",
      "greeting_Col       1309 non-null uint8\n",
      "greeting_Dr        1309 non-null uint8\n",
      "greeting_Master    1309 non-null uint8\n",
      "greeting_Miss      1309 non-null uint8\n",
      "greeting_Mr        1309 non-null uint8\n",
      "greeting_Mrs       1309 non-null uint8\n",
      "greeting_Rev       1309 non-null uint8\n",
      "dtypes: float64(3), int64(4), uint8(11)\n",
      "memory usage: 95.9 KB\n"
     ]
    }
   ],
   "source": [
    "df.info()"
   ]
  },
  {
   "cell_type": "code",
   "execution_count": 49,
   "metadata": {},
   "outputs": [
    {
     "name": "stdout",
     "output_type": "stream",
     "text": [
      "<class 'pandas.core.frame.DataFrame'>\n",
      "Int64Index: 1046 entries, 0 to 415\n",
      "Data columns (total 18 columns):\n",
      "Age                1046 non-null float64\n",
      "Fare               1046 non-null float64\n",
      "Parch              1046 non-null int64\n",
      "PassengerId        1046 non-null int64\n",
      "Pclass             1046 non-null int64\n",
      "SibSp              1046 non-null int64\n",
      "Survived           714 non-null float64\n",
      "female             1046 non-null uint8\n",
      "Embarked_C         1046 non-null uint8\n",
      "Embarked_Q         1046 non-null uint8\n",
      "Embarked_S         1046 non-null uint8\n",
      "greeting_Col       1046 non-null uint8\n",
      "greeting_Dr        1046 non-null uint8\n",
      "greeting_Master    1046 non-null uint8\n",
      "greeting_Miss      1046 non-null uint8\n",
      "greeting_Mr        1046 non-null uint8\n",
      "greeting_Mrs       1046 non-null uint8\n",
      "greeting_Rev       1046 non-null uint8\n",
      "dtypes: float64(3), int64(4), uint8(11)\n",
      "memory usage: 76.6 KB\n",
      "None\n"
     ]
    }
   ],
   "source": [
    "train_age_df = df[df.Age.notnull()]\n",
    "print(train_age_df.info())"
   ]
  },
  {
   "cell_type": "code",
   "execution_count": 50,
   "metadata": {},
   "outputs": [
    {
     "name": "stdout",
     "output_type": "stream",
     "text": [
      "(263, 18)\n"
     ]
    }
   ],
   "source": [
    "test_age_df = df[df.Age.isnull()]\n",
    "print(test_age_df.shape)"
   ]
  },
  {
   "cell_type": "code",
   "execution_count": 51,
   "metadata": {},
   "outputs": [
    {
     "name": "stderr",
     "output_type": "stream",
     "text": [
      "/home/user/.local/lib/python2.7/site-packages/pandas/core/generic.py:3110: SettingWithCopyWarning: \n",
      "A value is trying to be set on a copy of a slice from a DataFrame.\n",
      "Try using .loc[row_indexer,col_indexer] = value instead\n",
      "\n",
      "See the caveats in the documentation: http://pandas.pydata.org/pandas-docs/stable/indexing.html#indexing-view-versus-copy\n",
      "  self[name] = value\n"
     ]
    }
   ],
   "source": [
    "train_age_df.Age = (train_age_df.loc[:,'Age']+1).apply(np.log)"
   ]
  },
  {
   "cell_type": "code",
   "execution_count": 53,
   "metadata": {},
   "outputs": [
    {
     "name": "stdout",
     "output_type": "stream",
     "text": [
      "Shape of target_age is:(1046,)\n",
      "Shape of train_age is:(1046, 15)\n",
      "Shape of test_age is:(263, 15)\n"
     ]
    }
   ],
   "source": [
    "y = train_age_df.Age.values\n",
    "print(\"Shape of target_age is:{}\".format(y.shape))\n",
    "X = train_age_df.drop(['Age', 'PassengerId', 'Survived'], axis=1)\n",
    "print(\"Shape of train_age is:{}\".format(X.shape))\n",
    "test_age = test_age_df.drop(['Age', 'PassengerId', 'Survived'], axis=1)\n",
    "print(\"Shape of test_age is:{}\".format(test_age.shape))"
   ]
  },
  {
   "cell_type": "code",
   "execution_count": 54,
   "metadata": {},
   "outputs": [],
   "source": [
    "X_train, X_test, y_train, y_test = train_test_split(X, y, random_state=21)"
   ]
  },
  {
   "cell_type": "code",
   "execution_count": 55,
   "metadata": {},
   "outputs": [],
   "source": [
    "scaler = MinMaxScaler()\n",
    "X_scaled = scaler.fit_transform(X)\n",
    "X_pred_scaled = scaler.transform(test_age)"
   ]
  },
  {
   "cell_type": "code",
   "execution_count": 56,
   "metadata": {},
   "outputs": [
    {
     "name": "stdout",
     "output_type": "stream",
     "text": [
      "Shape X_scaled: (1046, 15). Shape y: (1046,). Shape X_pred_scaled : (263, 15)\n",
      "X_scaled[:10]: [[ 0.01415106  0.          1.          0.125       0.          0.          0.\n",
      "   1.          0.          0.          0.          0.          1.          0.\n",
      "   0.        ]\n",
      " [ 0.13913574  0.          0.          0.125       1.          1.          0.\n",
      "   0.          0.          0.          0.          0.          0.          1.\n",
      "   0.        ]\n",
      " [ 0.01546857  0.          1.          0.          1.          0.          0.\n",
      "   1.          0.          0.          0.          1.          0.          0.\n",
      "   0.        ]\n",
      " [ 0.1036443   0.          0.          0.125       1.          0.          0.\n",
      "   1.          0.          0.          0.          0.          0.          1.\n",
      "   0.        ]\n",
      " [ 0.01571255  0.          1.          0.          0.          0.          0.\n",
      "   1.          0.          0.          0.          0.          1.          0.\n",
      "   0.        ]\n",
      " [ 0.10122886  0.          0.          0.          0.          0.          0.\n",
      "   1.          0.          0.          0.          0.          1.          0.\n",
      "   0.        ]\n",
      " [ 0.04113566  0.16666667  1.          0.375       0.          0.          0.\n",
      "   1.          0.          0.          1.          0.          0.          0.\n",
      "   0.        ]\n",
      " [ 0.02173075  0.33333333  1.          0.          1.          0.          0.\n",
      "   1.          0.          0.          0.          0.          0.          1.\n",
      "   0.        ]\n",
      " [ 0.05869429  0.          0.5         0.125       1.          1.          0.\n",
      "   0.          0.          0.          0.          0.          0.          1.\n",
      "   0.        ]\n",
      " [ 0.03259623  0.16666667  1.          0.125       1.          0.          0.\n",
      "   1.          0.          0.          0.          1.          0.          0.\n",
      "   0.        ]].\n",
      "\n",
      "\n",
      " y[:10]:[ 3.13549422  3.66356165  3.29583687  3.58351894  3.58351894  4.00733319\n",
      "  1.09861229  3.33220451  2.7080502   1.60943791].\n",
      "\n",
      "\n",
      " X_pred_scaled[:10]:[[ 0.0165095   0.          1.          0.          0.          0.          1.\n",
      "   0.          0.          0.          0.          0.          1.          0.\n",
      "   0.        ]\n",
      " [ 0.02537431  0.          0.5         0.          0.          0.          0.\n",
      "   1.          0.          0.          0.          0.          1.          0.\n",
      "   0.        ]\n",
      " [ 0.01410226  0.          1.          0.          1.          1.          0.\n",
      "   0.          0.          0.          0.          0.          0.          1.\n",
      "   0.        ]\n",
      " [ 0.01410226  0.          1.          0.          0.          1.          0.\n",
      "   0.          0.          0.          0.          0.          1.          0.\n",
      "   0.        ]\n",
      " [ 0.01537917  0.          1.          0.          1.          0.          1.\n",
      "   0.          0.          0.          0.          1.          0.          0.\n",
      "   0.        ]\n",
      " [ 0.01541158  0.          1.          0.          0.          0.          0.\n",
      "   1.          0.          0.          0.          0.          1.          0.\n",
      "   0.        ]\n",
      " [ 0.28598956  0.          0.          0.125       1.          1.          0.\n",
      "   0.          0.          0.          0.          0.          0.          1.\n",
      "   0.        ]\n",
      " [ 0.01512699  0.          1.          0.          1.          0.          1.\n",
      "   0.          0.          0.          0.          1.          0.          0.\n",
      "   0.        ]\n",
      " [ 0.01411046  0.          1.          0.          0.          1.          0.\n",
      "   0.          0.          0.          0.          0.          1.          0.\n",
      "   0.        ]\n",
      " [ 0.01541158  0.          1.          0.          0.          1.          0.\n",
      "   0.          0.          0.          0.          0.          1.          0.\n",
      "   0.        ]]\n"
     ]
    }
   ],
   "source": [
    "print(\"Shape X_scaled: {0}. Shape y: {1}. Shape X_pred_scaled : {2}\"\\\n",
    "      .format(X_scaled.shape, y.shape, X_pred_scaled.shape))\n",
    "print(\"X_scaled[:10]: {0}.\\n\\n\\n y[:10]:{1}.\\n\\n\\n X_pred_scaled[:10]:{2}\" \\\n",
    "    .format(X_scaled[:10], y[:10], X_pred_scaled[:10]))"
   ]
  },
  {
   "cell_type": "code",
   "execution_count": 57,
   "metadata": {},
   "outputs": [
    {
     "name": "stdout",
     "output_type": "stream",
     "text": [
      "Parameter grid:\n",
      "{'n_estimators': [10, 20, 30, 40, 50, 60, 70, 80, 90, 100], 'max_features': [2, 3, 4, 5], 'max_depth': [2, 3, 4, 5, 6]}\n"
     ]
    }
   ],
   "source": [
    "param_grid = {'n_estimators': [n for n in range(10, 110, 10)],\n",
    "              'max_depth'   : [d for d in range(2,7)],\n",
    "              'max_features': [f for f in range(2, 6)]}\n",
    "print(\"Parameter grid:\\n{}\".format(param_grid))"
   ]
  },
  {
   "cell_type": "code",
   "execution_count": 58,
   "metadata": {},
   "outputs": [],
   "source": [
    "grid_search = GridSearchCV(RandomForestRegressor(random_state=42, \n",
    "                                                n_jobs=-1), param_grid, cv=5)"
   ]
  },
  {
   "cell_type": "code",
   "execution_count": 59,
   "metadata": {},
   "outputs": [],
   "source": [
    "X_train, X_test, y_train, y_test = train_test_split(X_scaled, y, random_state=21)"
   ]
  },
  {
   "cell_type": "code",
   "execution_count": 60,
   "metadata": {},
   "outputs": [
    {
     "name": "stdout",
     "output_type": "stream",
     "text": [
      "Test set score: 0.64516\n",
      "Best parameters: {'max_features': 5, 'n_estimators': 100, 'max_depth': 6}\n",
      "Best cross-validation score: 0.60809\n",
      "Best estimator:\n",
      "RandomForestRegressor(bootstrap=True, criterion='mse', max_depth=6,\n",
      "           max_features=5, max_leaf_nodes=None, min_impurity_decrease=0.0,\n",
      "           min_impurity_split=None, min_samples_leaf=1,\n",
      "           min_samples_split=2, min_weight_fraction_leaf=0.0,\n",
      "           n_estimators=100, n_jobs=-1, oob_score=False, random_state=42,\n",
      "           verbose=0, warm_start=False)\n"
     ]
    }
   ],
   "source": [
    "grid_search.fit(X_train, y_train)\n",
    "print(\"Test set score: {:.5f}\".format(grid_search.score(X_test, y_test)))\n",
    "print(\"Best parameters: {}\".format(grid_search.best_params_))\n",
    "print(\"Best cross-validation score: {:.5f}\".format(grid_search.best_score_))\n",
    "print(\"Best estimator:\\n{}\".format(grid_search.best_estimator_))"
   ]
  },
  {
   "cell_type": "code",
   "execution_count": 61,
   "metadata": {},
   "outputs": [],
   "source": [
    "regressor = grid_search.best_estimator_"
   ]
  },
  {
   "cell_type": "code",
   "execution_count": 62,
   "metadata": {},
   "outputs": [
    {
     "name": "stdout",
     "output_type": "stream",
     "text": [
      "Accuracy on training set: 0.72918\n",
      "Accuracy on test set: 0.64516\n"
     ]
    }
   ],
   "source": [
    "regressor.fit(X_train, y_train)\n",
    "print(\"Accuracy on training set: {:.5f}\".format(regressor.score(X_train, y_train)))\n",
    "print(\"Accuracy on test set: {:.5f}\".format(regressor.score(X_test, y_test)))"
   ]
  },
  {
   "cell_type": "code",
   "execution_count": 63,
   "metadata": {},
   "outputs": [
    {
     "name": "stdout",
     "output_type": "stream",
     "text": [
      "Cross-validation scores: [ 0.70735775  0.61427243  0.58342689  0.64787519  0.60195969]\n",
      "Average cross-validation score: 0.63098\n"
     ]
    }
   ],
   "source": [
    "kfold = KFold(n_splits=5)\n",
    "scores = cross_val_score(regressor, X, y, cv=kfold)\n",
    "print(\"Cross-validation scores: {}\".format(scores))\n",
    "print(\"Average cross-validation score: {:.5f}\".format(scores.mean()))"
   ]
  },
  {
   "cell_type": "code",
   "execution_count": 64,
   "metadata": {},
   "outputs": [
    {
     "name": "stdout",
     "output_type": "stream",
     "text": [
      "[ 3.45613138  3.44940947  3.32117083  3.33193495  3.16538879  3.34620288\n",
      "  3.58812145  3.18075461  3.33348317  3.3479933   3.34620288  3.47253245\n",
      "  3.18075461  3.26484808  3.69966663  3.6970429   1.72633413  3.34620288\n",
      "  3.34620288  3.17898983]\n"
     ]
    }
   ],
   "source": [
    "predicted_age = regressor.predict(X_pred_scaled)\n",
    "print(predicted_age[:20])"
   ]
  },
  {
   "cell_type": "code",
   "execution_count": 65,
   "metadata": {},
   "outputs": [
    {
     "name": "stdout",
     "output_type": "stream",
     "text": [
      "[ 30.69  30.48  26.69  26.99  22.7   27.39  35.17  23.06  27.04  27.45\n",
      "  27.39  31.22  23.06  25.18  39.43  39.33   4.62  27.39  27.39  23.02]\n"
     ]
    }
   ],
   "source": [
    "predicted_age = np.exp(predicted_age[:]) - 1\n",
    "predicted_age = np.round(predicted_age, 2)\n",
    "print(predicted_age[:20])"
   ]
  },
  {
   "cell_type": "code",
   "execution_count": 66,
   "metadata": {},
   "outputs": [
    {
     "data": {
      "text/plain": [
       "(263,)"
      ]
     },
     "execution_count": 66,
     "metadata": {},
     "output_type": "execute_result"
    }
   ],
   "source": [
    "predicted_age.shape"
   ]
  },
  {
   "cell_type": "code",
   "execution_count": 67,
   "metadata": {},
   "outputs": [
    {
     "data": {
      "text/plain": [
       "(263, 18)"
      ]
     },
     "execution_count": 67,
     "metadata": {},
     "output_type": "execute_result"
    }
   ],
   "source": [
    "df[df.Age.isnull()].values.shape"
   ]
  },
  {
   "cell_type": "code",
   "execution_count": 68,
   "metadata": {},
   "outputs": [
    {
     "name": "stdout",
     "output_type": "stream",
     "text": [
      "<class 'pandas.core.frame.DataFrame'>\n",
      "Int64Index: 263 entries, 5 to 417\n",
      "Data columns (total 18 columns):\n",
      "Age                263 non-null float64\n",
      "Fare               263 non-null float64\n",
      "Parch              263 non-null int64\n",
      "PassengerId        263 non-null int64\n",
      "Pclass             263 non-null int64\n",
      "SibSp              263 non-null int64\n",
      "Survived           177 non-null float64\n",
      "female             263 non-null uint8\n",
      "Embarked_C         263 non-null uint8\n",
      "Embarked_Q         263 non-null uint8\n",
      "Embarked_S         263 non-null uint8\n",
      "greeting_Col       263 non-null uint8\n",
      "greeting_Dr        263 non-null uint8\n",
      "greeting_Master    263 non-null uint8\n",
      "greeting_Miss      263 non-null uint8\n",
      "greeting_Mr        263 non-null uint8\n",
      "greeting_Mrs       263 non-null uint8\n",
      "greeting_Rev       263 non-null uint8\n",
      "dtypes: float64(3), int64(4), uint8(11)\n",
      "memory usage: 19.3 KB\n"
     ]
    },
    {
     "name": "stderr",
     "output_type": "stream",
     "text": [
      "/home/user/.local/lib/python2.7/site-packages/ipykernel_launcher.py:1: SettingWithCopyWarning: \n",
      "A value is trying to be set on a copy of a slice from a DataFrame.\n",
      "Try using .loc[row_indexer,col_indexer] = value instead\n",
      "\n",
      "See the caveats in the documentation: http://pandas.pydata.org/pandas-docs/stable/indexing.html#indexing-view-versus-copy\n",
      "  \"\"\"Entry point for launching an IPython kernel.\n"
     ]
    }
   ],
   "source": [
    "test_age_df[\"Age\"] = predicted_age\n",
    "test_age_df.info()"
   ]
  },
  {
   "cell_type": "code",
   "execution_count": 69,
   "metadata": {},
   "outputs": [
    {
     "name": "stdout",
     "output_type": "stream",
     "text": [
      "<class 'pandas.core.frame.DataFrame'>\n",
      "Int64Index: 263 entries, 5 to 417\n",
      "Data columns (total 18 columns):\n",
      "Age                263 non-null float64\n",
      "Fare               263 non-null float64\n",
      "Parch              263 non-null int64\n",
      "PassengerId        263 non-null int64\n",
      "Pclass             263 non-null int64\n",
      "SibSp              263 non-null int64\n",
      "Survived           177 non-null float64\n",
      "female             263 non-null uint8\n",
      "Embarked_C         263 non-null uint8\n",
      "Embarked_Q         263 non-null uint8\n",
      "Embarked_S         263 non-null uint8\n",
      "greeting_Col       263 non-null uint8\n",
      "greeting_Dr        263 non-null uint8\n",
      "greeting_Master    263 non-null uint8\n",
      "greeting_Miss      263 non-null uint8\n",
      "greeting_Mr        263 non-null uint8\n",
      "greeting_Mrs       263 non-null uint8\n",
      "greeting_Rev       263 non-null uint8\n",
      "dtypes: float64(3), int64(4), uint8(11)\n",
      "memory usage: 19.3 KB\n"
     ]
    }
   ],
   "source": [
    "test_age_df.info()"
   ]
  },
  {
   "cell_type": "code",
   "execution_count": 70,
   "metadata": {},
   "outputs": [
    {
     "name": "stdout",
     "output_type": "stream",
     "text": [
      "<class 'pandas.core.frame.DataFrame'>\n",
      "Int64Index: 1046 entries, 0 to 415\n",
      "Data columns (total 18 columns):\n",
      "Age                1046 non-null float64\n",
      "Fare               1046 non-null float64\n",
      "Parch              1046 non-null int64\n",
      "PassengerId        1046 non-null int64\n",
      "Pclass             1046 non-null int64\n",
      "SibSp              1046 non-null int64\n",
      "Survived           714 non-null float64\n",
      "female             1046 non-null uint8\n",
      "Embarked_C         1046 non-null uint8\n",
      "Embarked_Q         1046 non-null uint8\n",
      "Embarked_S         1046 non-null uint8\n",
      "greeting_Col       1046 non-null uint8\n",
      "greeting_Dr        1046 non-null uint8\n",
      "greeting_Master    1046 non-null uint8\n",
      "greeting_Miss      1046 non-null uint8\n",
      "greeting_Mr        1046 non-null uint8\n",
      "greeting_Mrs       1046 non-null uint8\n",
      "greeting_Rev       1046 non-null uint8\n",
      "dtypes: float64(3), int64(4), uint8(11)\n",
      "memory usage: 76.6 KB\n"
     ]
    }
   ],
   "source": [
    "train_age_df.info()"
   ]
  },
  {
   "cell_type": "code",
   "execution_count": 71,
   "metadata": {},
   "outputs": [
    {
     "name": "stdout",
     "output_type": "stream",
     "text": [
      "<class 'pandas.core.frame.DataFrame'>\n",
      "Int64Index: 1309 entries, 0 to 417\n",
      "Data columns (total 18 columns):\n",
      "Age                1309 non-null float64\n",
      "Fare               1309 non-null float64\n",
      "Parch              1309 non-null int64\n",
      "PassengerId        1309 non-null int64\n",
      "Pclass             1309 non-null int64\n",
      "SibSp              1309 non-null int64\n",
      "Survived           891 non-null float64\n",
      "female             1309 non-null uint8\n",
      "Embarked_C         1309 non-null uint8\n",
      "Embarked_Q         1309 non-null uint8\n",
      "Embarked_S         1309 non-null uint8\n",
      "greeting_Col       1309 non-null uint8\n",
      "greeting_Dr        1309 non-null uint8\n",
      "greeting_Master    1309 non-null uint8\n",
      "greeting_Miss      1309 non-null uint8\n",
      "greeting_Mr        1309 non-null uint8\n",
      "greeting_Mrs       1309 non-null uint8\n",
      "greeting_Rev       1309 non-null uint8\n",
      "dtypes: float64(3), int64(4), uint8(11)\n",
      "memory usage: 95.9 KB\n"
     ]
    }
   ],
   "source": [
    "df = pd.concat([train_age_df, test_age_df])\n",
    "df.info()"
   ]
  },
  {
   "cell_type": "code",
   "execution_count": 72,
   "metadata": {
    "_cell_guid": "16c12cc1-7869-4e3d-9798-f691cd8d1cfe",
    "_uuid": "5d51b6e015321ea16d1987193c55bfa014dca8ea"
   },
   "outputs": [
    {
     "name": "stdout",
     "output_type": "stream",
     "text": [
      "<class 'pandas.core.frame.DataFrame'>\n",
      "Int64Index: 891 entries, 0 to 888\n",
      "Data columns (total 18 columns):\n",
      "Age                891 non-null float64\n",
      "Fare               891 non-null float64\n",
      "Parch              891 non-null int64\n",
      "PassengerId        891 non-null int64\n",
      "Pclass             891 non-null int64\n",
      "SibSp              891 non-null int64\n",
      "Survived           891 non-null float64\n",
      "female             891 non-null uint8\n",
      "Embarked_C         891 non-null uint8\n",
      "Embarked_Q         891 non-null uint8\n",
      "Embarked_S         891 non-null uint8\n",
      "greeting_Col       891 non-null uint8\n",
      "greeting_Dr        891 non-null uint8\n",
      "greeting_Master    891 non-null uint8\n",
      "greeting_Miss      891 non-null uint8\n",
      "greeting_Mr        891 non-null uint8\n",
      "greeting_Mrs       891 non-null uint8\n",
      "greeting_Rev       891 non-null uint8\n",
      "dtypes: float64(3), int64(4), uint8(11)\n",
      "memory usage: 65.3 KB\n"
     ]
    }
   ],
   "source": [
    "train = df[(df.Survived == 1) | (df.Survived == 0)]\n",
    "train.info()"
   ]
  },
  {
   "cell_type": "code",
   "execution_count": 73,
   "metadata": {
    "_cell_guid": "d65fa225-0906-4d64-8e17-03a28217ccb2",
    "_uuid": "d806a190b4e136aec369c6700ba32a2f5b922053"
   },
   "outputs": [
    {
     "name": "stdout",
     "output_type": "stream",
     "text": [
      "(891,)\n",
      "[ 0.  1.  1.  1.  0.  0.  0.  1.  1.  1.]\n"
     ]
    }
   ],
   "source": [
    "survived = train['Survived'][:].values\n",
    "print(survived.shape)\n",
    "print(survived[:10])"
   ]
  },
  {
   "cell_type": "code",
   "execution_count": 74,
   "metadata": {
    "_cell_guid": "11d6ecaf-aafe-4109-b088-76812211c9d5",
    "_uuid": "a33db6ba30e72a6e4d6da1cd50483b8eb1ec3122"
   },
   "outputs": [
    {
     "name": "stdout",
     "output_type": "stream",
     "text": [
      "<class 'pandas.core.frame.DataFrame'>\n",
      "Int64Index: 891 entries, 0 to 888\n",
      "Data columns (total 16 columns):\n",
      "Age                891 non-null float64\n",
      "Fare               891 non-null float64\n",
      "Parch              891 non-null int64\n",
      "Pclass             891 non-null int64\n",
      "SibSp              891 non-null int64\n",
      "female             891 non-null uint8\n",
      "Embarked_C         891 non-null uint8\n",
      "Embarked_Q         891 non-null uint8\n",
      "Embarked_S         891 non-null uint8\n",
      "greeting_Col       891 non-null uint8\n",
      "greeting_Dr        891 non-null uint8\n",
      "greeting_Master    891 non-null uint8\n",
      "greeting_Miss      891 non-null uint8\n",
      "greeting_Mr        891 non-null uint8\n",
      "greeting_Mrs       891 non-null uint8\n",
      "greeting_Rev       891 non-null uint8\n",
      "dtypes: float64(2), int64(3), uint8(11)\n",
      "memory usage: 51.3 KB\n",
      "None\n"
     ]
    },
    {
     "name": "stderr",
     "output_type": "stream",
     "text": [
      "/home/user/.local/lib/python2.7/site-packages/ipykernel_launcher.py:1: SettingWithCopyWarning: \n",
      "A value is trying to be set on a copy of a slice from a DataFrame\n",
      "\n",
      "See the caveats in the documentation: http://pandas.pydata.org/pandas-docs/stable/indexing.html#indexing-view-versus-copy\n",
      "  \"\"\"Entry point for launching an IPython kernel.\n"
     ]
    }
   ],
   "source": [
    "train.drop(['PassengerId', 'Survived'], axis=1, inplace=True)\n",
    "print(train.info())"
   ]
  },
  {
   "cell_type": "code",
   "execution_count": 75,
   "metadata": {
    "_cell_guid": "cee897f8-e6ce-48a0-9be5-a1759826ab7a",
    "_uuid": "6f7534a90e1dbcc223ec7a3fd1944e7661ad567c",
    "scrolled": true
   },
   "outputs": [
    {
     "name": "stdout",
     "output_type": "stream",
     "text": [
      "<class 'pandas.core.frame.DataFrame'>\n",
      "Int64Index: 418 entries, 0 to 417\n",
      "Data columns (total 18 columns):\n",
      "Age                418 non-null float64\n",
      "Fare               418 non-null float64\n",
      "Parch              418 non-null int64\n",
      "PassengerId        418 non-null int64\n",
      "Pclass             418 non-null int64\n",
      "SibSp              418 non-null int64\n",
      "Survived           0 non-null float64\n",
      "female             418 non-null uint8\n",
      "Embarked_C         418 non-null uint8\n",
      "Embarked_Q         418 non-null uint8\n",
      "Embarked_S         418 non-null uint8\n",
      "greeting_Col       418 non-null uint8\n",
      "greeting_Dr        418 non-null uint8\n",
      "greeting_Master    418 non-null uint8\n",
      "greeting_Miss      418 non-null uint8\n",
      "greeting_Mr        418 non-null uint8\n",
      "greeting_Mrs       418 non-null uint8\n",
      "greeting_Rev       418 non-null uint8\n",
      "dtypes: float64(3), int64(4), uint8(11)\n",
      "memory usage: 30.6 KB\n"
     ]
    }
   ],
   "source": [
    "test = df[(df.Survived != 1) & (df.Survived != 0)]\n",
    "test.info()"
   ]
  },
  {
   "cell_type": "code",
   "execution_count": 76,
   "metadata": {
    "_cell_guid": "30dd3c81-5a27-42a7-9829-417e81bfee37",
    "_uuid": "3b81d716ccfaf5cd2550ef3b29c5d576a4e4bf66"
   },
   "outputs": [
    {
     "name": "stdout",
     "output_type": "stream",
     "text": [
      "<class 'pandas.core.series.Series'>\n",
      "0    892\n",
      "1    893\n",
      "2    894\n",
      "3    895\n",
      "4    896\n",
      "Name: PassengerId, dtype: int64\n"
     ]
    }
   ],
   "source": [
    "PassId = test.PassengerId[:]\n",
    "print(type(PassId))\n",
    "print(PassId[:5])"
   ]
  },
  {
   "cell_type": "code",
   "execution_count": 77,
   "metadata": {
    "_cell_guid": "55bcd0ac-1e09-47c0-aed5-bfa90ab31b2c",
    "_uuid": "fd4f80141ea967b63938a956ce07820f05cfc7d9"
   },
   "outputs": [
    {
     "name": "stdout",
     "output_type": "stream",
     "text": [
      "<class 'pandas.core.frame.DataFrame'>\n",
      "Int64Index: 418 entries, 0 to 417\n",
      "Data columns (total 16 columns):\n",
      "Age                418 non-null float64\n",
      "Fare               418 non-null float64\n",
      "Parch              418 non-null int64\n",
      "Pclass             418 non-null int64\n",
      "SibSp              418 non-null int64\n",
      "female             418 non-null uint8\n",
      "Embarked_C         418 non-null uint8\n",
      "Embarked_Q         418 non-null uint8\n",
      "Embarked_S         418 non-null uint8\n",
      "greeting_Col       418 non-null uint8\n",
      "greeting_Dr        418 non-null uint8\n",
      "greeting_Master    418 non-null uint8\n",
      "greeting_Miss      418 non-null uint8\n",
      "greeting_Mr        418 non-null uint8\n",
      "greeting_Mrs       418 non-null uint8\n",
      "greeting_Rev       418 non-null uint8\n",
      "dtypes: float64(2), int64(3), uint8(11)\n",
      "memory usage: 24.1 KB\n",
      "None\n"
     ]
    },
    {
     "name": "stderr",
     "output_type": "stream",
     "text": [
      "/home/user/.local/lib/python2.7/site-packages/ipykernel_launcher.py:1: SettingWithCopyWarning: \n",
      "A value is trying to be set on a copy of a slice from a DataFrame\n",
      "\n",
      "See the caveats in the documentation: http://pandas.pydata.org/pandas-docs/stable/indexing.html#indexing-view-versus-copy\n",
      "  \"\"\"Entry point for launching an IPython kernel.\n"
     ]
    }
   ],
   "source": [
    "test.drop(['PassengerId', 'Survived'], axis=1, inplace=True)\n",
    "print(test.info())"
   ]
  },
  {
   "cell_type": "code",
   "execution_count": 78,
   "metadata": {
    "_cell_guid": "cd8a1914-e034-4f97-979b-c27b6b3d9e02",
    "_uuid": "1f9e160e5e911249d6f7f0227ffb5cc75d3e5ac8"
   },
   "outputs": [],
   "source": [
    "X = train.values\n",
    "y = survived\n",
    "X_pred = test.values"
   ]
  },
  {
   "cell_type": "code",
   "execution_count": 79,
   "metadata": {
    "scrolled": true
   },
   "outputs": [
    {
     "name": "stdout",
     "output_type": "stream",
     "text": [
      "Shape X_scaled: (891, 16). Shape y: (891,). Shape X_pred_scaled : (418, 16)\n",
      "X_scaled[:10]: [[ 0.06761063  0.01415106  0.          1.          0.125       0.          0.\n",
      "   0.          1.          0.          0.          0.          0.          1.\n",
      "   0.          0.        ]\n",
      " [ 0.08043111  0.13913574  0.          0.          0.125       1.          1.\n",
      "   0.          0.          0.          0.          0.          0.          0.\n",
      "   1.          0.        ]\n",
      " [ 0.07150345  0.01546857  0.          1.          0.          1.          0.\n",
      "   0.          1.          0.          0.          0.          1.          0.\n",
      "   0.          0.        ]\n",
      " [ 0.07848783  0.1036443   0.          0.          0.125       1.          0.\n",
      "   0.          1.          0.          0.          0.          0.          0.\n",
      "   1.          0.        ]\n",
      " [ 0.07848783  0.01571255  0.          1.          0.          0.          0.\n",
      "   0.          1.          0.          0.          0.          0.          1.\n",
      "   0.          0.        ]\n",
      " [ 0.08877724  0.10122886  0.          0.          0.          0.          0.\n",
      "   0.          1.          0.          0.          0.          0.          1.\n",
      "   0.          0.        ]\n",
      " [ 0.01815895  0.04113566  0.16666667  1.          0.375       0.          0.\n",
      "   0.          1.          0.          0.          1.          0.          0.\n",
      "   0.          0.        ]\n",
      " [ 0.07238638  0.02173075  0.33333333  1.          0.          1.          0.\n",
      "   0.          1.          0.          0.          0.          0.          0.\n",
      "   1.          0.        ]\n",
      " [ 0.05723309  0.05869429  0.          0.5         0.125       1.          1.\n",
      "   0.          0.          0.          0.          0.          0.          0.\n",
      "   1.          0.        ]\n",
      " [ 0.03056084  0.03259623  0.16666667  1.          0.125       1.          0.\n",
      "   0.          1.          0.          0.          0.          1.          0.\n",
      "   0.          0.        ]].\n",
      "\n",
      "\n",
      " y[:10]:[ 0.  1.  1.  1.  0.  0.  0.  1.  1.  1.].\n",
      "\n",
      "\n",
      " X_pred_scaled[:10]:[[ 0.07814827  0.01528158  0.          1.          0.          0.          0.\n",
      "   1.          0.          0.          0.          0.          0.          1.\n",
      "   0.          0.        ]\n",
      " [ 0.08547221  0.01366309  0.          1.          0.125       1.          0.\n",
      "   0.          1.          0.          0.          0.          0.          0.\n",
      "   1.          0.        ]\n",
      " [ 0.09207425  0.01890874  0.          0.5         0.          0.          0.\n",
      "   1.          0.          0.          0.          0.          0.          1.\n",
      "   0.          0.        ]\n",
      " [ 0.07238638  0.01690807  0.          1.          0.          0.          0.\n",
      "   0.          1.          0.          0.          0.          0.          1.\n",
      "   0.          0.        ]\n",
      " [ 0.06761063  0.0239836   0.16666667  1.          0.125       1.          0.\n",
      "   0.          1.          0.          0.          0.          0.          0.\n",
      "   1.          0.        ]\n",
      " [ 0.05723309  0.018006    0.          1.          0.          0.          0.\n",
      "   0.          1.          0.          0.          0.          0.          1.\n",
      "   0.          0.        ]\n",
      " [ 0.07485748  0.01489121  0.          1.          0.          1.          0.\n",
      "   1.          0.          0.          0.          0.          1.          0.\n",
      "   0.          0.        ]\n",
      " [ 0.07150345  0.05660423  0.16666667  0.5         0.125       0.          0.\n",
      "   0.          1.          0.          0.          0.          0.          1.\n",
      "   0.          0.        ]\n",
      " [ 0.06297216  0.01411046  0.          1.          0.          1.          1.\n",
      "   0.          0.          0.          0.          0.          0.          0.\n",
      "   1.          0.        ]\n",
      " [ 0.06653142  0.04713766  0.          1.          0.25        0.          0.\n",
      "   0.          1.          0.          0.          0.          0.          1.\n",
      "   0.          0.        ]]\n"
     ]
    }
   ],
   "source": [
    "scaler = MinMaxScaler()\n",
    "X_scaled = scaler.fit_transform(X)\n",
    "X_pred_scaled = scaler.transform(X_pred)\n",
    "\n",
    "print(\"Shape X_scaled: {0}. Shape y: {1}. Shape X_pred_scaled : {2}\"\\\n",
    "      .format(X_scaled.shape, y.shape, X_pred_scaled.shape))\n",
    "print(\"X_scaled[:10]: {0}.\\n\\n\\n y[:10]:{1}.\\n\\n\\n X_pred_scaled[:10]:{2}\" \\\n",
    "    .format(X_scaled[:10], y[:10], X_pred_scaled[:10]))"
   ]
  },
  {
   "cell_type": "code",
   "execution_count": 80,
   "metadata": {},
   "outputs": [
    {
     "name": "stdout",
     "output_type": "stream",
     "text": [
      "Parameter grid:\n",
      "{'n_estimators': [10, 20, 30, 40, 50, 60, 70, 80, 90, 100], 'max_features': [2, 3, 4, 5, 6, 7, 8], 'max_depth': [2, 3, 4]}\n"
     ]
    }
   ],
   "source": [
    "param_grid = {'n_estimators': [n for n in range(10, 110, 10)],\n",
    "              'max_depth'   : [d for d in range(2,5)],\n",
    "              'max_features': [f for f in range(2, 9)]}\n",
    "print(\"Parameter grid:\\n{}\".format(param_grid))"
   ]
  },
  {
   "cell_type": "code",
   "execution_count": 81,
   "metadata": {},
   "outputs": [
    {
     "name": "stdout",
     "output_type": "stream",
     "text": [
      "Test set score: 0.82511\n",
      "Best parameters: {'max_features': 7, 'n_estimators': 40, 'max_depth': 3}\n",
      "Best cross-validation score: 0.82635\n",
      "Best estimator:\n",
      "RandomForestClassifier(bootstrap=True, class_weight=None, criterion='gini',\n",
      "            max_depth=3, max_features=7, max_leaf_nodes=None,\n",
      "            min_impurity_decrease=0.0, min_impurity_split=None,\n",
      "            min_samples_leaf=1, min_samples_split=2,\n",
      "            min_weight_fraction_leaf=0.0, n_estimators=40, n_jobs=-1,\n",
      "            oob_score=False, random_state=42, verbose=0, warm_start=False)\n"
     ]
    }
   ],
   "source": [
    "grid_search = GridSearchCV(RandomForestClassifier(random_state=42, \n",
    "                                                n_jobs=-1), param_grid, cv=5)\n",
    "X_train, X_test, y_train, y_test = train_test_split(X_scaled, y, random_state=21)\n",
    "grid_search.fit(X_train, y_train)\n",
    "print(\"Test set score: {:.5f}\".format(grid_search.score(X_test, y_test)))\n",
    "print(\"Best parameters: {}\".format(grid_search.best_params_))\n",
    "print(\"Best cross-validation score: {:.5f}\".format(grid_search.best_score_))\n",
    "print(\"Best estimator:\\n{}\".format(grid_search.best_estimator_))"
   ]
  },
  {
   "cell_type": "code",
   "execution_count": 82,
   "metadata": {},
   "outputs": [
    {
     "name": "stdout",
     "output_type": "stream",
     "text": [
      "Accuracy on training set: 0.83084\n",
      "Accuracy on test set: 0.82511\n"
     ]
    }
   ],
   "source": [
    "forest = grid_search.best_estimator_\n",
    "\n",
    "forest.fit(X_train, y_train)\n",
    "print(\"Accuracy on training set: {:.5f}\".format(forest.score(X_train, y_train)))\n",
    "print(\"Accuracy on test set: {:.5f}\".format(forest.score(X_test, y_test)))"
   ]
  },
  {
   "cell_type": "code",
   "execution_count": 83,
   "metadata": {},
   "outputs": [
    {
     "name": "stdout",
     "output_type": "stream",
     "text": [
      "Cross-validation scores: [ 0.82681564  0.79775281  0.7752809   0.8258427   0.8258427 ]\n",
      "Average cross-validation score: 0.81031\n"
     ]
    }
   ],
   "source": [
    "kfold = KFold(n_splits=5)\n",
    "scores = cross_val_score(forest, X, y, cv=kfold)\n",
    "print(\"Cross-validation scores: {}\".format(scores))\n",
    "print(\"Average cross-validation score: {:.5f}\".format(scores.mean()))"
   ]
  },
  {
   "cell_type": "code",
   "execution_count": 84,
   "metadata": {},
   "outputs": [],
   "source": [
    "submission = pd.read_csv('gender_submission.csv')\n",
    "submission.iloc[:, 1] = forest.predict(X_pred_scaled)\n",
    "submission.to_csv('random_forest_clf_titanic_subm.csv', index=False)"
   ]
  },
  {
   "cell_type": "code",
   "execution_count": null,
   "metadata": {},
   "outputs": [],
   "source": []
  }
 ],
 "metadata": {
  "kernelspec": {
   "display_name": "Python 3",
   "language": "python",
   "name": "python3"
  },
  "language_info": {
   "codemirror_mode": {
    "name": "ipython",
    "version": 2
   },
   "file_extension": ".py",
   "mimetype": "text/x-python",
   "name": "python",
   "nbconvert_exporter": "python",
   "pygments_lexer": "ipython2",
   "version": "2.7.13"
  }
 },
 "nbformat": 4,
 "nbformat_minor": 1
}
