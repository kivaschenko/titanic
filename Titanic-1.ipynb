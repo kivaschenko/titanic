{
 "cells": [
  {
   "cell_type": "code",
   "execution_count": 1,
   "metadata": {},
   "outputs": [],
   "source": [
    "import numpy as np\n",
    "import pandas as pd\n",
    "import matplotlib.pyplot as plt\n",
    "%matplotlib inline"
   ]
  },
  {
   "cell_type": "code",
   "execution_count": 2,
   "metadata": {},
   "outputs": [
    {
     "name": "stdout",
     "output_type": "stream",
     "text": [
      "<class 'pandas.core.frame.DataFrame'>\n",
      "Int64Index: 1309 entries, 0 to 417\n",
      "Data columns (total 12 columns):\n",
      "Age            1046 non-null float64\n",
      "Cabin          295 non-null object\n",
      "Embarked       1307 non-null object\n",
      "Fare           1308 non-null float64\n",
      "Name           1309 non-null object\n",
      "Parch          1309 non-null int64\n",
      "PassengerId    1309 non-null int64\n",
      "Pclass         1309 non-null int64\n",
      "Sex            1309 non-null object\n",
      "SibSp          1309 non-null int64\n",
      "Survived       891 non-null float64\n",
      "Ticket         1309 non-null object\n",
      "dtypes: float64(3), int64(4), object(5)\n",
      "memory usage: 132.9+ KB\n",
      "None\n"
     ]
    }
   ],
   "source": [
    "df = pd.concat([pd.read_csv('train.csv'), pd.read_csv('test.csv')])\n",
    "print(df.info())"
   ]
  },
  {
   "cell_type": "code",
   "execution_count": 3,
   "metadata": {},
   "outputs": [
    {
     "name": "stdout",
     "output_type": "stream",
     "text": [
      "    Age Cabin Embarked     Fare  \\\n",
      "0  22.0   NaN        S   7.2500   \n",
      "1  38.0   C85        C  71.2833   \n",
      "2  26.0   NaN        S   7.9250   \n",
      "3  35.0  C123        S  53.1000   \n",
      "4  35.0   NaN        S   8.0500   \n",
      "\n",
      "                                                Name  Parch  PassengerId  \\\n",
      "0                            Braund, Mr. Owen Harris      0            1   \n",
      "1  Cumings, Mrs. John Bradley (Florence Briggs Th...      0            2   \n",
      "2                             Heikkinen, Miss. Laina      0            3   \n",
      "3       Futrelle, Mrs. Jacques Heath (Lily May Peel)      0            4   \n",
      "4                           Allen, Mr. William Henry      0            5   \n",
      "\n",
      "   Pclass     Sex  SibSp  Survived            Ticket  \n",
      "0       3    male      1       0.0         A/5 21171  \n",
      "1       1  female      1       1.0          PC 17599  \n",
      "2       3  female      0       1.0  STON/O2. 3101282  \n",
      "3       1  female      1       1.0            113803  \n",
      "4       3    male      0       0.0            373450  \n"
     ]
    }
   ],
   "source": [
    "print(df.head())"
   ]
  },
  {
   "cell_type": "code",
   "execution_count": 4,
   "metadata": {},
   "outputs": [
    {
     "name": "stdout",
     "output_type": "stream",
     "text": [
      "               Age         Fare        Parch  PassengerId       Pclass  \\\n",
      "count  1046.000000  1308.000000  1309.000000  1309.000000  1309.000000   \n",
      "mean     29.881138    33.295479     0.385027   655.000000     2.294882   \n",
      "std      14.413493    51.758668     0.865560   378.020061     0.837836   \n",
      "min       0.170000     0.000000     0.000000     1.000000     1.000000   \n",
      "25%      21.000000     7.895800     0.000000   328.000000     2.000000   \n",
      "50%      28.000000    14.454200     0.000000   655.000000     3.000000   \n",
      "75%      39.000000    31.275000     0.000000   982.000000     3.000000   \n",
      "max      80.000000   512.329200     9.000000  1309.000000     3.000000   \n",
      "\n",
      "             SibSp    Survived  \n",
      "count  1309.000000  891.000000  \n",
      "mean      0.498854    0.383838  \n",
      "std       1.041658    0.486592  \n",
      "min       0.000000    0.000000  \n",
      "25%       0.000000    0.000000  \n",
      "50%       0.000000    0.000000  \n",
      "75%       1.000000    1.000000  \n",
      "max       8.000000    1.000000  \n"
     ]
    }
   ],
   "source": [
    "print(df.describe())"
   ]
  },
  {
   "cell_type": "code",
   "execution_count": 5,
   "metadata": {
    "scrolled": true
   },
   "outputs": [
    {
     "name": "stdout",
     "output_type": "stream",
     "text": [
      "Sex\n",
      "female    233\n",
      "male      109\n",
      "Name: Survived, dtype: int64\n"
     ]
    },
    {
     "data": {
      "image/png": "[encoded data removed]",
      "text/plain": [
       "<matplotlib.figure.Figure at 0x7ff3dc1f8450>"
      ]
     },
     "metadata": {},
     "output_type": "display_data"
    }
   ],
   "source": [
    "survived_sex = df[df.Survived == 1]\n",
    "survived_sex = survived_sex.groupby('Sex')['Survived'].count()\n",
    "survived_sex.plot(kind='bar', \n",
    "                  color=['green', 'red'],\n",
    "                  title='Who had more chanses to survive by sex?')\n",
    "print(survived_sex)"
   ]
  },
  {
   "cell_type": "code",
   "execution_count": 6,
   "metadata": {},
   "outputs": [
    {
     "name": "stdout",
     "output_type": "stream",
     "text": [
      "Pclass\n",
      "1    136\n",
      "3    119\n",
      "2     87\n",
      "Name: Survived, dtype: int64\n"
     ]
    },
    {
     "data": {
      "image/png": "[encoded data removed]",
      "text/plain": [
       "<matplotlib.figure.Figure at 0x7ff3dc12e190>"
      ]
     },
     "metadata": {},
     "output_type": "display_data"
    }
   ],
   "source": [
    "survived_pclass = df[df.Survived == 1]\n",
    "survived_pclass = survived_pclass.groupby('Pclass')['Survived'].count().sort_values(ascending=False)\n",
    "survived_pclass.plot(kind='bar', color=['green', 'blue', 'red'],\n",
    "                     title='Who had more chanses to survive by passenger class?')\n",
    "print(survived_pclass)"
   ]
  },
  {
   "cell_type": "code",
   "execution_count": 7,
   "metadata": {},
   "outputs": [
    {
     "data": {
      "text/plain": [
       "<matplotlib.text.Text at 0x7ff3dbef6450>"
      ]
     },
     "execution_count": 7,
     "metadata": {},
     "output_type": "execute_result"
    },
    {
     "data": {
      "image/png": "[encoded data removed]",
      "text/plain": [
       "<matplotlib.figure.Figure at 0x7ff3dc0a7b50>"
      ]
     },
     "metadata": {},
     "output_type": "display_data"
    }
   ],
   "source": [
    "survived = df[df[\"Survived\"] == 1][\"Age\"].dropna()\n",
    "perished = df[df[\"Survived\"] == 0][\"Age\"].dropna()\n",
    "\n",
    "fig, (ax1, ax2) = plt.subplots(nrows=2, ncols=1)\n",
    "fig.subplots_adjust(hspace=1)\n",
    "ax1.hist(survived, facecolor='green')\n",
    "ax1.set_title(\"Survived\")\n",
    "ax1.set_xlabel(\"Age\")\n",
    "ax1.set_ylabel(\"Amount\")\n",
    "ax2.hist(perished, facecolor='red')\n",
    "ax2.set_title(\"Dead\")\n",
    "ax2.set_xlabel(\"Age\")\n",
    "ax2.set_ylabel(\"Amount\")"
   ]
  },
  {
   "cell_type": "code",
   "execution_count": 8,
   "metadata": {},
   "outputs": [
    {
     "data": {
      "text/plain": [
       "<matplotlib.text.Text at 0x7ff3dbd70450>"
      ]
     },
     "execution_count": 8,
     "metadata": {},
     "output_type": "execute_result"
    },
    {
     "data": {
      "image/png": "[encoded data removed]",
      "text/plain": [
       "<matplotlib.figure.Figure at 0x7ff3dc0fda10>"
      ]
     },
     "metadata": {},
     "output_type": "display_data"
    }
   ],
   "source": [
    "non_empty_embarked = df[\"Embarked\"].dropna()\n",
    "unique_values, value_counts = non_empty_embarked.unique(), non_empty_embarked.value_counts()\n",
    "X = range(len(unique_values))\n",
    "colors = [\"red\", \"blue\", \"grey\"]\n",
    "\n",
    "plt.bar(left=X,\n",
    "        height=value_counts,\n",
    "        color=colors,\n",
    "        tick_label=unique_values)\n",
    "plt.xlabel(\"Port of Embarkation\")\n",
    "plt.ylabel(\"Amount of embarked\")\n",
    "plt.title(\"Bar plot of embarked in Southampton, Queenstown, Cherbourg\")"
   ]
  },
  {
   "cell_type": "code",
   "execution_count": 9,
   "metadata": {},
   "outputs": [
    {
     "name": "stdout",
     "output_type": "stream",
     "text": [
      "       Survived    Pclass        Fare\n",
      "Age                                  \n",
      "0.17        NaN  3.000000   20.575000\n",
      "0.33        NaN  3.000000   14.400000\n",
      "0.42   1.000000  3.000000    8.516700\n",
      "0.67   1.000000  2.000000   14.500000\n",
      "0.75   1.000000  3.000000   17.430533\n",
      "0.83   1.000000  2.333333   19.033333\n",
      "0.92   1.000000  1.500000   89.650000\n",
      "1.00   0.714286  2.700000   28.050420\n",
      "2.00   0.300000  2.583333   34.881250\n",
      "3.00   0.833333  2.571429   24.066671\n",
      "4.00   0.700000  2.600000   29.543330\n",
      "5.00   1.000000  2.800000   24.451660\n",
      "6.00   0.666667  2.500000   41.261800\n",
      "7.00   0.333333  2.750000   27.577075\n",
      "8.00   0.500000  2.333333   28.616667\n",
      "9.00   0.250000  3.000000   24.192490\n",
      "10.00  0.000000  3.000000   32.018750\n",
      "11.00  0.250000  2.500000   54.240625\n",
      "11.50       NaN  3.000000   14.500000\n",
      "12.00  1.000000  2.333333   21.997233\n",
      "13.00  1.000000  2.400000   68.148340\n",
      "14.00  0.500000  2.500000   41.247400\n",
      "14.50  0.000000  3.000000   42.002100\n",
      "15.00  0.800000  2.500000   47.879183\n",
      "16.00  0.352941  2.578947   23.885968\n",
      "17.00  0.461538  2.450000   26.905205\n",
      "18.00  0.346154  2.461538   33.228849\n",
      "18.50       NaN  2.666667    9.170833\n",
      "19.00  0.360000  2.379310   25.933762\n",
      "20.00  0.200000  2.826087   11.297109\n",
      "...         ...       ...         ...\n",
      "46.00  0.000000  1.166667   57.802783\n",
      "47.00  0.111111  1.714286   42.643750\n",
      "48.00  0.666667  1.500000   62.591671\n",
      "49.00  0.666667  1.333333   50.063900\n",
      "50.00  0.500000  1.600000   75.317220\n",
      "51.00  0.285714  1.875000   30.083338\n",
      "52.00  0.500000  1.333333   51.402783\n",
      "53.00  1.000000  1.000000   47.320825\n",
      "54.00  0.375000  1.400000   49.311670\n",
      "55.00  0.500000  1.125000   54.806762\n",
      "55.50  0.000000  3.000000    8.050000\n",
      "56.00  0.500000  1.000000   43.976025\n",
      "57.00  0.000000  1.600000   69.447500\n",
      "58.00  0.600000  1.000000  163.639583\n",
      "59.00  0.000000  2.000000   24.076400\n",
      "60.00  0.500000  1.285714   83.613100\n",
      "60.50       NaN  3.000000         NaN\n",
      "61.00  0.000000  1.600000   69.356660\n",
      "62.00  0.500000  1.400000   30.657500\n",
      "63.00  1.000000  1.750000   83.831250\n",
      "64.00  0.000000  1.000000   94.791660\n",
      "65.00  0.000000  1.666667   32.093067\n",
      "66.00  0.000000  2.000000   10.500000\n",
      "67.00       NaN  1.000000  221.779200\n",
      "70.00  0.000000  1.500000   40.750000\n",
      "70.50  0.000000  3.000000    7.750000\n",
      "71.00  0.000000  1.000000   42.079200\n",
      "74.00  0.000000  3.000000    7.775000\n",
      "76.00       NaN  1.000000   78.850000\n",
      "80.00  1.000000  1.000000   30.000000\n",
      "\n",
      "[98 rows x 3 columns]\n"
     ]
    }
   ],
   "source": [
    "print(df.groupby('Age')[['Survived', 'Pclass', 'Fare']].mean())"
   ]
  },
  {
   "cell_type": "code",
   "execution_count": 10,
   "metadata": {},
   "outputs": [
    {
     "data": {
      "image/png": "[encoded data removed]",
      "text/plain": [
       "<matplotlib.figure.Figure at 0x7ff3dbdd4610>"
      ]
     },
     "metadata": {},
     "output_type": "display_data"
    }
   ],
   "source": [
    "plt.figure(figsize=(6,6))\n",
    "plt.scatter(df.Age, df.Fare, marker='o', s=7, c='k', alpha=.7)\n",
    "plt.xlabel('Age of passengers, yo')\n",
    "plt.ylabel('The passenger fares')\n",
    "plt.show()"
   ]
  },
  {
   "cell_type": "code",
   "execution_count": 11,
   "metadata": {},
   "outputs": [],
   "source": [
    "df[\"Embarked\"].fillna(\"S\", inplace=True)\n",
    "df[\"Age\"].fillna(df[\"Age\"].median(), inplace=True)\n",
    "df[\"Fare\"].fillna(df[\"Fare\"].median(), inplace=True)"
   ]
  },
  {
   "cell_type": "code",
   "execution_count": 12,
   "metadata": {},
   "outputs": [
    {
     "name": "stdout",
     "output_type": "stream",
     "text": [
      "    Age Cabin Embarked     Fare  \\\n",
      "0  22.0   NaN        S   7.2500   \n",
      "1  38.0   C85        C  71.2833   \n",
      "2  26.0   NaN        S   7.9250   \n",
      "3  35.0  C123        S  53.1000   \n",
      "4  35.0   NaN        S   8.0500   \n",
      "\n",
      "                                                Name  Parch  PassengerId  \\\n",
      "0                            Braund, Mr. Owen Harris      0            1   \n",
      "1  Cumings, Mrs. John Bradley (Florence Briggs Th...      0            2   \n",
      "2                             Heikkinen, Miss. Laina      0            3   \n",
      "3       Futrelle, Mrs. Jacques Heath (Lily May Peel)      0            4   \n",
      "4                           Allen, Mr. William Henry      0            5   \n",
      "\n",
      "   Pclass     Sex  SibSp  Survived            Ticket  \n",
      "0       3    male      1       0.0         A/5 21171  \n",
      "1       1  female      1       1.0          PC 17599  \n",
      "2       3  female      0       1.0  STON/O2. 3101282  \n",
      "3       1  female      1       1.0            113803  \n",
      "4       3    male      0       0.0            373450  \n"
     ]
    }
   ],
   "source": [
    "print(df.head())"
   ]
  },
  {
   "cell_type": "code",
   "execution_count": 13,
   "metadata": {},
   "outputs": [],
   "source": [
    "def get_dummie_sex(df):\n",
    "    \"\"\"Convert to binar number of sex categories\"\"\"\n",
    "    \n",
    "    df_dummie = pd.get_dummies(df['Sex'][:], prefix=\"sex\")\n",
    "    df_dummie = pd.concat([df[:],df_dummie[:]], axis=1)\n",
    "    \n",
    "    return (df_dummie)"
   ]
  },
  {
   "cell_type": "code",
   "execution_count": 14,
   "metadata": {},
   "outputs": [],
   "source": [
    "x = df.loc[:,:]\n",
    "df = get_dummie_sex(x)\n",
    "df.drop('Sex', axis=1, inplace=True)"
   ]
  },
  {
   "cell_type": "code",
   "execution_count": 15,
   "metadata": {},
   "outputs": [],
   "source": [
    "def get_dummie_pclass(df):\n",
    "    \"\"\"Convert to binar number of Pclass categories\"\"\"\n",
    "    \n",
    "    df_dummie = pd.get_dummies(df['Pclass'][:], prefix=\"pclass\")\n",
    "    df_dummie = pd.concat([df[:],df_dummie[:]], axis=1)\n",
    "    \n",
    "    return (df_dummie)"
   ]
  },
  {
   "cell_type": "code",
   "execution_count": 16,
   "metadata": {},
   "outputs": [],
   "source": [
    "x = df.loc[:,:]\n",
    "df = get_dummie_pclass(x)\n",
    "df.drop('Pclass', axis=1, inplace=True)"
   ]
  },
  {
   "cell_type": "code",
   "execution_count": 17,
   "metadata": {},
   "outputs": [
    {
     "name": "stdout",
     "output_type": "stream",
     "text": [
      "family_size\n",
      "4     0.724138\n",
      "3     0.578431\n",
      "2     0.552795\n",
      "7     0.333333\n",
      "1     0.303538\n",
      "5     0.200000\n",
      "6     0.136364\n",
      "11    0.000000\n",
      "8     0.000000\n",
      "Name: Survived, dtype: float64\n"
     ]
    },
    {
     "data": {
      "text/plain": [
       "<matplotlib.axes._subplots.AxesSubplot at 0x7ff3dbd254d0>"
      ]
     },
     "execution_count": 17,
     "metadata": {},
     "output_type": "execute_result"
    },
    {
     "data": {
      "image/png": "[encoded data removed]",
      "text/plain": [
       "<matplotlib.figure.Figure at 0x7ff3dbcf6750>"
      ]
     },
     "metadata": {},
     "output_type": "display_data"
    }
   ],
   "source": [
    "df['family_size'] = df['SibSp'] + df['Parch'] + 1\n",
    "family_size = df.groupby('family_size')['Survived'].mean().sort_values(ascending=False)\n",
    "print(family_size)\n",
    "family_size.plot(kind='bar', title='Who had more chanses to survive by the family size')"
   ]
  },
  {
   "cell_type": "code",
   "execution_count": 18,
   "metadata": {},
   "outputs": [],
   "source": [
    "df.drop(['SibSp','Parch'], axis=1, inplace=True)"
   ]
  },
  {
   "cell_type": "code",
   "execution_count": 19,
   "metadata": {},
   "outputs": [
    {
     "name": "stdout",
     "output_type": "stream",
     "text": [
      "<class 'pandas.core.frame.DataFrame'>\n",
      "Int64Index: 1309 entries, 0 to 417\n",
      "Data columns (total 14 columns):\n",
      "Age            1309 non-null float64\n",
      "Cabin          295 non-null object\n",
      "Embarked       1309 non-null object\n",
      "Fare           1309 non-null float64\n",
      "Name           1309 non-null object\n",
      "PassengerId    1309 non-null int64\n",
      "Survived       891 non-null float64\n",
      "Ticket         1309 non-null object\n",
      "sex_female     1309 non-null uint8\n",
      "sex_male       1309 non-null uint8\n",
      "pclass_1       1309 non-null uint8\n",
      "pclass_2       1309 non-null uint8\n",
      "pclass_3       1309 non-null uint8\n",
      "family_size    1309 non-null int64\n",
      "dtypes: float64(3), int64(2), object(4), uint8(5)\n",
      "memory usage: 108.7+ KB\n",
      "None\n"
     ]
    }
   ],
   "source": [
    "print(df.info())"
   ]
  },
  {
   "cell_type": "code",
   "execution_count": 20,
   "metadata": {},
   "outputs": [
    {
     "name": "stdout",
     "output_type": "stream",
     "text": [
      "                Ticket  Survived\n",
      "504             110152       1.0\n",
      "257             110152       1.0\n",
      "759             110152       1.0\n",
      "585             110413       1.0\n",
      "262             110413       0.0\n",
      "558             110413       1.0\n",
      "110             110465       0.0\n",
      "475             110465       0.0\n",
      "335             110469       NaN\n",
      "158             110489       NaN\n",
      "430             110564       1.0\n",
      "366             110813       1.0\n",
      "236             110813       NaN\n",
      "191             111163       NaN\n",
      "170             111240       0.0\n",
      "462             111320       0.0\n",
      "329             111361       1.0\n",
      "523             111361       1.0\n",
      "889             111369       1.0\n",
      "604             111426       1.0\n",
      "507             111427       1.0\n",
      "187             111428       1.0\n",
      "806             112050       0.0\n",
      "266             112051       NaN\n",
      "633             112052       0.0\n",
      "887             112053       1.0\n",
      "372             112058       NaN\n",
      "815             112058       0.0\n",
      "263             112059       0.0\n",
      "209             112277       1.0\n",
      "..                 ...       ...\n",
      "382  STON/O 2. 3101293       0.0\n",
      "115  STON/O 2. 3101294       0.0\n",
      "18    STON/O2. 3101270       NaN\n",
      "729   STON/O2. 3101271       0.0\n",
      "403   STON/O2. 3101279       0.0\n",
      "142   STON/O2. 3101279       1.0\n",
      "2     STON/O2. 3101282       1.0\n",
      "216   STON/O2. 3101283       1.0\n",
      "816   STON/O2. 3101290       0.0\n",
      "130    STON/OQ. 369943       NaN\n",
      "226          SW/PP 751       1.0\n",
      "526        W./C. 14258       1.0\n",
      "279        W./C. 14260       NaN\n",
      "242        W./C. 14263       0.0\n",
      "222        W./C. 14266       NaN\n",
      "33          W./C. 6607       NaN\n",
      "888         W./C. 6607       0.0\n",
      "244         W./C. 6607       NaN\n",
      "783         W./C. 6607       0.0\n",
      "147         W./C. 6608       0.0\n",
      "736         W./C. 6608       0.0\n",
      "167         W./C. 6608       NaN\n",
      "436         W./C. 6608       0.0\n",
      "86          W./C. 6608       0.0\n",
      "235         W./C. 6609       0.0\n",
      "14         W.E.P. 5734       NaN\n",
      "92         W.E.P. 5734       0.0\n",
      "219          W/C 14208       0.0\n",
      "540          WE/P 5735       1.0\n",
      "745          WE/P 5735       0.0\n",
      "\n",
      "[1309 rows x 2 columns]\n"
     ]
    }
   ],
   "source": [
    "print(df[['Ticket', 'Survived']].sort_values(by='Ticket'))"
   ]
  },
  {
   "cell_type": "code",
   "execution_count": 21,
   "metadata": {},
   "outputs": [
    {
     "name": "stdout",
     "output_type": "stream",
     "text": [
      "['A/5 21171' 'PC 17599' 'STON/O2. 3101282' '113803' '373450' '330877'\n",
      " '17463' '349909' '347742' '237736']\n"
     ]
    }
   ],
   "source": [
    "tickets = df['Ticket'].values\n",
    "print(tickets[:10])"
   ]
  },
  {
   "cell_type": "code",
   "execution_count": 22,
   "metadata": {},
   "outputs": [
    {
     "name": "stdout",
     "output_type": "stream",
     "text": [
      "0      21171\n",
      "1      17599\n",
      "2    3101282\n",
      "3     113803\n",
      "4     373450\n",
      "5     330877\n",
      "6      17463\n",
      "7     349909\n",
      "8     347742\n",
      "9     237736\n",
      "Name: tickets, dtype: int64\n"
     ]
    }
   ],
   "source": [
    "df['tickets'] = pd.Series([ticket.split(' ')[-1] for ticket in tickets])\n",
    "df.tickets = df['tickets'].values.astype(int)\n",
    "print(df.tickets[:10])"
   ]
  },
  {
   "cell_type": "code",
   "execution_count": 23,
   "metadata": {},
   "outputs": [],
   "source": [
    "df.drop('Ticket', axis=1, inplace=True)"
   ]
  },
  {
   "cell_type": "code",
   "execution_count": 24,
   "metadata": {},
   "outputs": [],
   "source": [
    "def get_dummie_embarked(df):\n",
    "    \"\"\"Convert to binar number of Embarked categories\"\"\"\n",
    "    \n",
    "    df_dummie = pd.get_dummies(df['Embarked'][:], prefix=\"embarked\")\n",
    "    df_dummie = pd.concat([df[:],df_dummie[:]], axis=1)\n",
    "    \n",
    "    return (df_dummie)"
   ]
  },
  {
   "cell_type": "code",
   "execution_count": 25,
   "metadata": {},
   "outputs": [],
   "source": [
    "x = df.loc[:,:]\n",
    "df = get_dummie_embarked(x)\n",
    "df.drop('Embarked', axis=1, inplace=True)"
   ]
  },
  {
   "cell_type": "code",
   "execution_count": 26,
   "metadata": {},
   "outputs": [
    {
     "name": "stdout",
     "output_type": "stream",
     "text": [
      "Index([u'Age', u'Cabin', u'Fare', u'Name', u'PassengerId', u'Survived',\n",
      "       u'sex_female', u'sex_male', u'pclass_1', u'pclass_2', u'pclass_3',\n",
      "       u'family_size', u'tickets', u'embarked_C', u'embarked_Q',\n",
      "       u'embarked_S'],\n",
      "      dtype='object')\n"
     ]
    }
   ],
   "source": [
    "print(df.columns)"
   ]
  },
  {
   "cell_type": "code",
   "execution_count": 27,
   "metadata": {},
   "outputs": [],
   "source": [
    "df.drop(['Cabin', 'Name', 'sex_male', 'pclass_2', 'embarked_Q'], axis=1, inplace=True)"
   ]
  },
  {
   "cell_type": "code",
   "execution_count": 28,
   "metadata": {},
   "outputs": [
    {
     "name": "stdout",
     "output_type": "stream",
     "text": [
      "<class 'pandas.core.frame.DataFrame'>\n",
      "Int64Index: 1309 entries, 0 to 417\n",
      "Data columns (total 11 columns):\n",
      "Age            1309 non-null float64\n",
      "Fare           1309 non-null float64\n",
      "PassengerId    1309 non-null int64\n",
      "Survived       891 non-null float64\n",
      "sex_female     1309 non-null uint8\n",
      "pclass_1       1309 non-null uint8\n",
      "pclass_3       1309 non-null uint8\n",
      "family_size    1309 non-null int64\n",
      "tickets        1309 non-null int64\n",
      "embarked_C     1309 non-null uint8\n",
      "embarked_S     1309 non-null uint8\n",
      "dtypes: float64(3), int64(3), uint8(5)\n",
      "memory usage: 78.0 KB\n",
      "None\n"
     ]
    }
   ],
   "source": [
    "print(df.info())"
   ]
  },
  {
   "cell_type": "code",
   "execution_count": 29,
   "metadata": {},
   "outputs": [
    {
     "name": "stdout",
     "output_type": "stream",
     "text": [
      "    Age     Fare  PassengerId  Survived  sex_female  pclass_1  pclass_3  \\\n",
      "0  22.0   7.2500            1       0.0           0         0         1   \n",
      "1  38.0  71.2833            2       1.0           1         1         0   \n",
      "2  26.0   7.9250            3       1.0           1         0         1   \n",
      "3  35.0  53.1000            4       1.0           1         1         0   \n",
      "4  35.0   8.0500            5       0.0           0         0         1   \n",
      "\n",
      "   family_size  tickets  embarked_C  embarked_S  \n",
      "0            2    21171           0           1  \n",
      "1            2    17599           1           0  \n",
      "2            1  3101282           0           1  \n",
      "3            2   113803           0           1  \n",
      "4            1   373450           0           1  \n"
     ]
    }
   ],
   "source": [
    "train = df[(df.Survived == 1) | (df.Survived == 0)]\n",
    "print(train.head())"
   ]
  },
  {
   "cell_type": "code",
   "execution_count": 30,
   "metadata": {},
   "outputs": [
    {
     "name": "stdout",
     "output_type": "stream",
     "text": [
      "(891,)\n",
      "[ 0.  1.  1.  1.  0.  0.  0.  0.  1.  1.]\n"
     ]
    }
   ],
   "source": [
    "survived = train['Survived'][:].values\n",
    "print(survived.shape)\n",
    "print(survived[:10])"
   ]
  },
  {
   "cell_type": "code",
   "execution_count": 31,
   "metadata": {},
   "outputs": [
    {
     "name": "stdout",
     "output_type": "stream",
     "text": [
      "    Age     Fare  sex_female  pclass_1  pclass_3  family_size  tickets  \\\n",
      "0  22.0   7.2500           0         0         1            2    21171   \n",
      "1  38.0  71.2833           1         1         0            2    17599   \n",
      "2  26.0   7.9250           1         0         1            1  3101282   \n",
      "3  35.0  53.1000           1         1         0            2   113803   \n",
      "4  35.0   8.0500           0         0         1            1   373450   \n",
      "\n",
      "   embarked_C  embarked_S  \n",
      "0           0           1  \n",
      "1           1           0  \n",
      "2           0           1  \n",
      "3           0           1  \n",
      "4           0           1  \n"
     ]
    },
    {
     "name": "stderr",
     "output_type": "stream",
     "text": [
      "/home/user/.local/lib/python2.7/site-packages/ipykernel_launcher.py:1: SettingWithCopyWarning: \n",
      "A value is trying to be set on a copy of a slice from a DataFrame\n",
      "\n",
      "See the caveats in the documentation: http://pandas.pydata.org/pandas-docs/stable/indexing.html#indexing-view-versus-copy\n",
      "  \"\"\"Entry point for launching an IPython kernel.\n"
     ]
    }
   ],
   "source": [
    "train.drop(['PassengerId', 'Survived'], axis=1, inplace=True)\n",
    "print(train.head())"
   ]
  },
  {
   "cell_type": "code",
   "execution_count": 32,
   "metadata": {},
   "outputs": [],
   "source": [
    "test = df[(df.Survived != 1) & (df.Survived != 0)]"
   ]
  },
  {
   "cell_type": "code",
   "execution_count": 33,
   "metadata": {},
   "outputs": [
    {
     "name": "stdout",
     "output_type": "stream",
     "text": [
      "<class 'pandas.core.series.Series'>\n",
      "0    892\n",
      "1    893\n",
      "2    894\n",
      "3    895\n",
      "4    896\n",
      "Name: PassengerId, dtype: int64\n"
     ]
    }
   ],
   "source": [
    "pass_id = test.PassengerId[:]\n",
    "print(type(pass_id))\n",
    "print(pass_id[:5])"
   ]
  },
  {
   "cell_type": "code",
   "execution_count": 34,
   "metadata": {},
   "outputs": [
    {
     "name": "stdout",
     "output_type": "stream",
     "text": [
      "    Age     Fare  sex_female  pclass_1  pclass_3  family_size  tickets  \\\n",
      "0  34.5   7.8292           0         0         1            1    21171   \n",
      "1  47.0   7.0000           1         0         1            2    17599   \n",
      "2  62.0   9.6875           0         0         0            1  3101282   \n",
      "3  27.0   8.6625           0         0         1            1   113803   \n",
      "4  22.0  12.2875           1         0         1            3   373450   \n",
      "\n",
      "   embarked_C  embarked_S  \n",
      "0           0           0  \n",
      "1           0           1  \n",
      "2           0           0  \n",
      "3           0           1  \n",
      "4           0           1  \n"
     ]
    },
    {
     "name": "stderr",
     "output_type": "stream",
     "text": [
      "/home/user/.local/lib/python2.7/site-packages/ipykernel_launcher.py:1: SettingWithCopyWarning: \n",
      "A value is trying to be set on a copy of a slice from a DataFrame\n",
      "\n",
      "See the caveats in the documentation: http://pandas.pydata.org/pandas-docs/stable/indexing.html#indexing-view-versus-copy\n",
      "  \"\"\"Entry point for launching an IPython kernel.\n"
     ]
    }
   ],
   "source": [
    "test.drop(['PassengerId', 'Survived'], axis=1, inplace=True)\n",
    "print(test.head())"
   ]
  },
  {
   "cell_type": "code",
   "execution_count": 35,
   "metadata": {},
   "outputs": [
    {
     "name": "stdout",
     "output_type": "stream",
     "text": [
      "Shape X: (891, 9). Shape y: (891,). Shape X_pred : (418, 9)\n"
     ]
    }
   ],
   "source": [
    "X = train.values\n",
    "y = survived\n",
    "X_pred = test.values\n",
    "print(\"Shape X: {0}. Shape y: {1}. Shape X_pred : {2}\"\\\n",
    "      .format(X.shape, y.shape, X_pred.shape))"
   ]
  },
  {
   "cell_type": "code",
   "execution_count": 36,
   "metadata": {},
   "outputs": [
    {
     "name": "stdout",
     "output_type": "stream",
     "text": [
      "Shape X_train: (712, 9). Shape y_train: (712,). \n",
      "Shape X_test : (179, 9). Shape y_test : (179,)\n"
     ]
    }
   ],
   "source": [
    "from sklearn.model_selection import train_test_split\n",
    "\n",
    "X_train, X_test, y_train, y_test = train_test_split(X, y, test_size=.2, random_state=42)\n",
    "print(\"Shape X_train: {}. Shape y_train: {}. \\nShape X_test : {}. Shape y_test : {}\". \\\n",
    "     format(X_train.shape, y_train.shape, X_test.shape, y_test.shape))"
   ]
  },
  {
   "cell_type": "code",
   "execution_count": 37,
   "metadata": {},
   "outputs": [],
   "source": [
    "from sklearn.preprocessing import StandardScaler\n",
    "from sklearn.linear_model import LogisticRegression\n",
    "from sklearn.pipeline import Pipeline"
   ]
  },
  {
   "cell_type": "code",
   "execution_count": 38,
   "metadata": {},
   "outputs": [
    {
     "name": "stdout",
     "output_type": "stream",
     "text": [
      "Accuracy by train set: 0.79635\n",
      "Accuracy by test set: 0.79888\n"
     ]
    }
   ],
   "source": [
    "pipe_lr = Pipeline([('scl', StandardScaler()),\n",
    "                    ('clf', LogisticRegression(penalty='l2', C=0.01, random_state=42))])\n",
    "\n",
    "pipe_lr.fit(X_train, y_train)\n",
    "print(\"Accuracy by train set: {:.5f}\".format(pipe_lr.score(X_train, y_train)))\n",
    "print(\"Accuracy by test set: {:.5f}\".format(pipe_lr.score(X_test, y_test)))"
   ]
  },
  {
   "cell_type": "code",
   "execution_count": 44,
   "metadata": {},
   "outputs": [
    {
     "name": "stdout",
     "output_type": "stream",
     "text": [
      "[[ 0.77927363  0.22072637]]\n"
     ]
    }
   ],
   "source": [
    "X_proba = X_pred[-2,:].reshape(1,-1)\n",
    "y_predict_proba = pipe_lr.predict_proba(X_proba)\n",
    "print(y_predict_proba)"
   ]
  },
  {
   "cell_type": "code",
   "execution_count": 40,
   "metadata": {},
   "outputs": [
    {
     "name": "stdout",
     "output_type": "stream",
     "text": [
      "[ 0.  0.  0.  0.  1.  0.  1.  0.  1.  0.]\n"
     ]
    }
   ],
   "source": [
    "y_pred = pipe_lr.predict(X_pred)\n",
    "print(y_pred[:10])"
   ]
  },
  {
   "cell_type": "code",
   "execution_count": 41,
   "metadata": {},
   "outputs": [
    {
     "name": "stdout",
     "output_type": "stream",
     "text": [
      "<class 'pandas.core.frame.DataFrame'>\n",
      "Int64Index: 418 entries, 892 to 1309\n",
      "Data columns (total 1 columns):\n",
      "Survived    418 non-null int64\n",
      "dtypes: int64(1)\n",
      "memory usage: 6.5 KB\n",
      "None\n",
      "             Survived\n",
      "PassengerId          \n",
      "892                 0\n",
      "893                 1\n",
      "894                 0\n",
      "895                 0\n",
      "896                 1\n",
      "897                 0\n",
      "898                 1\n",
      "899                 0\n",
      "900                 1\n",
      "901                 0\n"
     ]
    }
   ],
   "source": [
    "submission = pd.read_csv('gender_submission.csv', index_col=0, header=0)\n",
    "print(submission.info())\n",
    "print(submission.head(10))"
   ]
  },
  {
   "cell_type": "code",
   "execution_count": 42,
   "metadata": {},
   "outputs": [
    {
     "name": "stdout",
     "output_type": "stream",
     "text": [
      "<class 'pandas.core.frame.DataFrame'>\n",
      "Int64Index: 418 entries, 892 to 1309\n",
      "Data columns (total 1 columns):\n",
      "Survived    418 non-null float64\n",
      "dtypes: float64(1)\n",
      "memory usage: 6.5 KB\n",
      "None\n",
      "             Survived\n",
      "PassengerId          \n",
      "892               0.0\n",
      "893               0.0\n",
      "894               0.0\n",
      "895               0.0\n",
      "896               1.0\n",
      "897               0.0\n",
      "898               1.0\n",
      "899               0.0\n",
      "900               1.0\n",
      "901               0.0\n"
     ]
    }
   ],
   "source": [
    "submission.Survived = y_pred\n",
    "print(submission.info())\n",
    "print(submission.head(10))\n",
    "submission.to_csv('submission.csv')"
   ]
  },
  {
   "cell_type": "code",
   "execution_count": 43,
   "metadata": {},
   "outputs": [
    {
     "name": "stdout",
     "output_type": "stream",
     "text": [
      "0.19.0\n"
     ]
    }
   ],
   "source": [
    "import sklearn\n",
    "print (sklearn.__version__)"
   ]
  }
 ],
 "metadata": {
  "kernelspec": {
   "display_name": "Python 3",
   "language": "python",
   "name": "python3"
  },
  "language_info": {
   "codemirror_mode": {
    "name": "ipython",
    "version": 2
   },
   "file_extension": ".py",
   "mimetype": "text/x-python",
   "name": "python",
   "nbconvert_exporter": "python",
   "pygments_lexer": "ipython2",
   "version": "2.7.13"
  }
 },
 "nbformat": 4,
 "nbformat_minor": 2
}
