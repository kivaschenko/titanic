{
 "cells": [
  {
   "cell_type": "code",
   "execution_count": null,
   "metadata": {},
   "outputs": [],
   "source": [
    "import numpy as np\n",
    "import pandas as pd\n",
    "import matplotlib.pyplot as plt\n",
    "%matplotlib inline\n",
    "from sklearn.cluster import KMeans"
   ]
  },
  {
   "cell_type": "code",
   "execution_count": null,
   "metadata": {},
   "outputs": [],
   "source": [
    "df = pd.concat([pd.read_csv('train.csv'), pd.read_csv('test.csv')])\n",
    "print(df.info())"
   ]
  },
  {
   "cell_type": "code",
   "execution_count": null,
   "metadata": {},
   "outputs": [],
   "source": [
    "print(df.head())"
   ]
  },
  {
   "cell_type": "code",
   "execution_count": null,
   "metadata": {},
   "outputs": [],
   "source": [
    "print(df.describe())"
   ]
  },
  {
   "cell_type": "code",
   "execution_count": null,
   "metadata": {
    "scrolled": true
   },
   "outputs": [],
   "source": [
    "survived_sex = df[df.Survived == 1]\n",
    "survived_sex = survived_sex.groupby('Sex')['Survived'].count()\n",
    "survived_sex.plot(kind='bar', \n",
    "                  color=['green', 'red'],\n",
    "                  title='Who had more chanses to survive by sex?')\n",
    "print(survived_sex)"
   ]
  },
  {
   "cell_type": "code",
   "execution_count": null,
   "metadata": {},
   "outputs": [],
   "source": [
    "survived_pclass = df[df.Survived == 1]\n",
    "survived_pclass = survived_pclass.groupby('Pclass')['Survived'].count().sort_values(ascending=False)\n",
    "survived_pclass.plot(kind='bar', color=['green', 'blue', 'red'],\n",
    "                     title='Who had more chanses to survive by passenger class?')\n",
    "print(survived_pclass)"
   ]
  },
  {
   "cell_type": "code",
   "execution_count": null,
   "metadata": {},
   "outputs": [],
   "source": [
    "survived = df[df[\"Survived\"] == 1][\"Age\"].dropna()\n",
    "perished = df[df[\"Survived\"] == 0][\"Age\"].dropna()\n",
    "\n",
    "fig, (ax1, ax2) = plt.subplots(nrows=2, ncols=1)\n",
    "fig.subplots_adjust(hspace=1)\n",
    "ax1.hist(survived, facecolor='green')\n",
    "ax1.set_title(\"Survived\")\n",
    "ax1.set_xlabel(\"Age\")\n",
    "ax1.set_ylabel(\"Amount\")\n",
    "ax2.hist(perished, facecolor='red')\n",
    "ax2.set_title(\"Dead\")\n",
    "ax2.set_xlabel(\"Age\")\n",
    "ax2.set_ylabel(\"Amount\")"
   ]
  },
  {
   "cell_type": "code",
   "execution_count": null,
   "metadata": {},
   "outputs": [],
   "source": [
    "non_empty_embarked = df[\"Embarked\"].dropna()\n",
    "unique_values, value_counts = non_empty_embarked.unique(), non_empty_embarked.value_counts()\n",
    "X = range(len(unique_values))\n",
    "colors = [\"red\", \"blue\", \"grey\"]\n",
    "\n",
    "plt.bar(left=X,\n",
    "        height=value_counts,\n",
    "        color=colors,\n",
    "        tick_label=unique_values)\n",
    "plt.xlabel(\"Port of Embarkation\")\n",
    "plt.ylabel(\"Amount of embarked\")\n",
    "plt.title(\"Bar plot of embarked in Southampton, Queenstown, Cherbourg\")"
   ]
  },
  {
   "cell_type": "code",
   "execution_count": null,
   "metadata": {},
   "outputs": [],
   "source": []
  },
  {
   "cell_type": "code",
   "execution_count": null,
   "metadata": {},
   "outputs": [],
   "source": [
    "plt.figure(figsize=(6,6))\n",
    "plt.scatter(df.Age, df.Fare, marker='o', s=20, c='r', alpha=.3)\n",
    "plt.xlabel('Age of passengers, yo')\n",
    "plt.ylabel('The passenger fares')\n",
    "plt.show()"
   ]
  },
  {
   "cell_type": "code",
   "execution_count": null,
   "metadata": {},
   "outputs": [],
   "source": [
    "plt.figure(figsize=(6,6))\n",
    "plt.scatter(df.Age, df.SibSp, marker='o', s=7, c='b', alpha=.3)\n",
    "plt.xlabel('Age of passengers, yo')\n",
    "plt.ylabel('The having of brothers and sisters')\n",
    "plt.show()"
   ]
  },
  {
   "cell_type": "code",
   "execution_count": null,
   "metadata": {},
   "outputs": [],
   "source": [
    "df[\"Embarked\"].fillna(\"S\", inplace=True)\n",
    "df[\"Age\"].fillna(df[\"Age\"].median(), inplace=True)\n",
    "df[\"Fare\"].fillna(df[\"Fare\"].median(), inplace=True)"
   ]
  },
  {
   "cell_type": "code",
   "execution_count": null,
   "metadata": {},
   "outputs": [],
   "source": [
    "df['family_size'] = df['SibSp'] + df['Parch'] + 1\n",
    "family_size = df.groupby('family_size')['Survived'].mean().sort_values(ascending=False)\n",
    "print(family_size)\n",
    "family_size.plot(kind='bar', title='Who had more chanses to survive by the family size')"
   ]
  },
  {
   "cell_type": "code",
   "execution_count": null,
   "metadata": {},
   "outputs": [],
   "source": [
    "age_fare = np.hstack([df.Age.values, df.Fare.values])\n",
    "print(age_fare[:10])"
   ]
  },
  {
   "cell_type": "code",
   "execution_count": null,
   "metadata": {},
   "outputs": [],
   "source": [
    "### Get some clusters of the age and fare of passengers: age_fare_clusters\n",
    "age_fare_clusters = np.array(df.loc[:,['Age', 'Fare']])\n",
    "\n",
    "\n",
    "kmeans = KMeans(n_clusters=16)\n",
    "kmeans.fit(age_fare_clusters)\n",
    "\n",
    "print('\\n Coordinates of cluster centers:\\n{}. \\\n",
    "      \\n Labels of each point:{}. \\\n",
    "      \\n The value of the inertia criterion associated with the chosen partition: {}. \\\n",
    "      \\n The inertia is defined as the sum of square distances of samples \\\n",
    "      to their nearest neighbor.'.format(kmeans.cluster_centers_, \\\n",
    "      kmeans.labels_, kmeans.inertia_))"
   ]
  },
  {
   "cell_type": "code",
   "execution_count": null,
   "metadata": {},
   "outputs": [],
   "source": [
    "df['age_fare_clusters'] = kmeans.labels_\n",
    "print(df.age_fare_clusters[:10])"
   ]
  },
  {
   "cell_type": "code",
   "execution_count": null,
   "metadata": {},
   "outputs": [],
   "source": [
    "plt.figure(figsize=(6,6))\n",
    "plt.scatter(df.tickets, df.Fare, marker='o', s=7, c='g', alpha=.3)\n",
    "plt.xlabel('tickets number')\n",
    "plt.ylabel('The fare')\n",
    "plt.show()"
   ]
  },
  {
   "cell_type": "code",
   "execution_count": null,
   "metadata": {},
   "outputs": [],
   "source": [
    "df['name_length'] = df['Name'].apply(len)"
   ]
  },
  {
   "cell_type": "code",
   "execution_count": null,
   "metadata": {},
   "outputs": [],
   "source": [
    "print(df.head())"
   ]
  },
  {
   "cell_type": "code",
   "execution_count": null,
   "metadata": {},
   "outputs": [],
   "source": [
    "df.groupby('Survived')['name_length'].mean().sort_values(ascending=False)"
   ]
  },
  {
   "cell_type": "code",
   "execution_count": null,
   "metadata": {},
   "outputs": [],
   "source": [
    "# The binary features add:\n",
    "def get_dummie_columns(df, name_column):\n",
    "    \"\"\"Convert to binar number of value categories current column\"\"\"\n",
    "    \n",
    "    df_dummie = pd.get_dummies(df[name_column][:], prefix=name_column)\n",
    "    df_dummie = pd.concat([df[:],df_dummie[:]], axis=1)\n",
    "    \n",
    "    return df_dummie"
   ]
  },
  {
   "cell_type": "code",
   "execution_count": null,
   "metadata": {},
   "outputs": [],
   "source": [
    "name_column = ['Sex','Pclass', 'Embarked', 'family_size']\n",
    "\n",
    "for col in name_column:\n",
    "    x = df.loc[:,:]\n",
    "    df = get_dummie_columns(x, col)\n",
    "    df.drop(col, axis=1, inplace=True)"
   ]
  },
  {
   "cell_type": "code",
   "execution_count": null,
   "metadata": {},
   "outputs": [],
   "source": [
    "df.info()"
   ]
  },
  {
   "cell_type": "code",
   "execution_count": null,
   "metadata": {},
   "outputs": [],
   "source": [
    "tickets = df['Ticket'].values\n",
    "print(tickets[:10])"
   ]
  },
  {
   "cell_type": "code",
   "execution_count": null,
   "metadata": {},
   "outputs": [],
   "source": [
    "df['tickets'] = pd.Series([ticket.split(' ')[-1] for ticket in tickets])\n",
    "df.tickets = df['tickets'].values.astype(int)\n",
    "print(df.tickets[:10])"
   ]
  },
  {
   "cell_type": "code",
   "execution_count": null,
   "metadata": {},
   "outputs": [],
   "source": [
    "plt.figure(figsize=(6,6))\n",
    "plt.scatter(df.Fare, df.tickets,  marker='o', s=7, c='k', alpha=.7)\n",
    "plt.xlabel('fare')\n",
    "plt.ylabel('tickets')\n",
    "plt.show()"
   ]
  },
  {
   "cell_type": "code",
   "execution_count": null,
   "metadata": {},
   "outputs": [],
   "source": [
    "df.describe()"
   ]
  },
  {
   "cell_type": "code",
   "execution_count": null,
   "metadata": {},
   "outputs": [],
   "source": [
    "df.loc[:,['Cabin', 'Survived']][50:700]"
   ]
  },
  {
   "cell_type": "code",
   "execution_count": null,
   "metadata": {},
   "outputs": [],
   "source": [
    "print(df.info())"
   ]
  },
  {
   "cell_type": "code",
   "execution_count": null,
   "metadata": {},
   "outputs": [],
   "source": [
    "train = df[(df.Survived == 1) | (df.Survived == 0)]\n",
    "print(train.head())"
   ]
  },
  {
   "cell_type": "code",
   "execution_count": null,
   "metadata": {},
   "outputs": [],
   "source": [
    "survived = train['Survived'][:].values\n",
    "print(survived.shape)\n",
    "print(survived[:10])"
   ]
  },
  {
   "cell_type": "code",
   "execution_count": null,
   "metadata": {},
   "outputs": [],
   "source": [
    "train.drop(['PassengerId', 'Survived'], axis=1, inplace=True)\n",
    "print(train.head())"
   ]
  },
  {
   "cell_type": "code",
   "execution_count": null,
   "metadata": {},
   "outputs": [],
   "source": [
    "print(df.info())"
   ]
  },
  {
   "cell_type": "code",
   "execution_count": null,
   "metadata": {},
   "outputs": [],
   "source": [
    "df.drop(['Cabin', 'Ticket', 'Name'], axis=1, inplace=True)"
   ]
  },
  {
   "cell_type": "code",
   "execution_count": null,
   "metadata": {},
   "outputs": [],
   "source": [
    "test = df[(df.Survived != 1) & (df.Survived != 0)]"
   ]
  },
  {
   "cell_type": "code",
   "execution_count": null,
   "metadata": {},
   "outputs": [],
   "source": [
    "pass_id = test.PassengerId[:]\n",
    "print(type(pass_id))\n",
    "print(pass_id[:5])"
   ]
  },
  {
   "cell_type": "code",
   "execution_count": null,
   "metadata": {},
   "outputs": [],
   "source": [
    "test.drop(['PassengerId', 'Survived'], axis=1, inplace=True)\n",
    "print(test.head())"
   ]
  },
  {
   "cell_type": "code",
   "execution_count": null,
   "metadata": {},
   "outputs": [],
   "source": [
    "X = train.values\n",
    "y = survived\n",
    "X_pred = test.values\n",
    "print(\"Shape X: {0}. Shape y: {1}. Shape X_pred : {2}\"\\\n",
    "      .format(X.shape, y.shape, X_pred.shape))"
   ]
  },
  {
   "cell_type": "code",
   "execution_count": null,
   "metadata": {},
   "outputs": [],
   "source": [
    "from sklearn.preprocessing import StandardScaler\n",
    "scaler = StandardScaler().fit(X)\n",
    "X_scaled = scaler.transform(X)"
   ]
  },
  {
   "cell_type": "code",
   "execution_count": null,
   "metadata": {},
   "outputs": [],
   "source": [
    "from sklearn.model_selection import train_test_split\n",
    "\n",
    "X_train, X_test, y_train, y_test = train_test_split(X_scaled, y, test_size=.2, random_state=42)\n",
    "print(\"Shape X_train: {}. Shape y_train: {}. \\nShape X_test : {}. Shape y_test : {}\". \\\n",
    "     format(X_train.shape, y_train.shape, X_test.shape, y_test.shape))"
   ]
  },
  {
   "cell_type": "code",
   "execution_count": null,
   "metadata": {},
   "outputs": [],
   "source": [
    "X_train,X_val,y_train,y_val = train_test_split(X_train,y_train, random_state=144)"
   ]
  },
  {
   "cell_type": "code",
   "execution_count": null,
   "metadata": {},
   "outputs": [],
   "source": [
    "print(\"Shape X_train: {}. Shape y_train: {}. \\nShape X_val : {}. Shape y_val : {}\". \\\n",
    "     format(X_train.shape, y_train.shape, X_val.shape, y_val.shape))"
   ]
  },
  {
   "cell_type": "code",
   "execution_count": null,
   "metadata": {},
   "outputs": [],
   "source": [
    "submission = pd.read_csv('gender_submission.csv', index_col=0, header=0)\n",
    "print(submission.info())\n",
    "print(submission.head(10))"
   ]
  },
  {
   "cell_type": "code",
   "execution_count": null,
   "metadata": {},
   "outputs": [],
   "source": [
    "submission.Survived = y_pred\n",
    "print(submission.info())\n",
    "print(submission.head(10))\n",
    "submission.to_csv('submission.csv')"
   ]
  },
  {
   "cell_type": "code",
   "execution_count": null,
   "metadata": {},
   "outputs": [],
   "source": [
    "import sklearn\n",
    "print (sklearn.__version__)"
   ]
  },
  {
   "cell_type": "code",
   "execution_count": null,
   "metadata": {},
   "outputs": [],
   "source": []
  }
 ],
 "metadata": {
  "kernelspec": {
   "display_name": "Python 3",
   "language": "python",
   "name": "python3"
  },
  "language_info": {
   "codemirror_mode": {
    "name": "ipython",
    "version": 2
   },
   "file_extension": ".py",
   "mimetype": "text/x-python",
   "name": "python",
   "nbconvert_exporter": "python",
   "pygments_lexer": "ipython2",
   "version": "2.7.13"
  }
 },
 "nbformat": 4,
 "nbformat_minor": 2
}
