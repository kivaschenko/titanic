{
 "cells": [
  {
   "cell_type": "code",
   "execution_count": 1,
   "metadata": {},
   "outputs": [],
   "source": [
    "import numpy as np\n",
    "import pandas as pd\n",
    "import matplotlib.pyplot as plt\n",
    "%matplotlib inline"
   ]
  },
  {
   "cell_type": "code",
   "execution_count": 2,
   "metadata": {},
   "outputs": [
    {
     "name": "stdout",
     "output_type": "stream",
     "text": [
      "<class 'pandas.core.frame.DataFrame'>\n",
      "Int64Index: 1309 entries, 0 to 417\n",
      "Data columns (total 12 columns):\n",
      "Age            1046 non-null float64\n",
      "Cabin          295 non-null object\n",
      "Embarked       1307 non-null object\n",
      "Fare           1308 non-null float64\n",
      "Name           1309 non-null object\n",
      "Parch          1309 non-null int64\n",
      "PassengerId    1309 non-null int64\n",
      "Pclass         1309 non-null int64\n",
      "Sex            1309 non-null object\n",
      "SibSp          1309 non-null int64\n",
      "Survived       891 non-null float64\n",
      "Ticket         1309 non-null object\n",
      "dtypes: float64(3), int64(4), object(5)\n",
      "memory usage: 132.9+ KB\n",
      "None\n"
     ]
    }
   ],
   "source": [
    "df = pd.concat([pd.read_csv('train.csv'), pd.read_csv('test.csv')])\n",
    "print(df.info())"
   ]
  },
  {
   "cell_type": "code",
   "execution_count": 3,
   "metadata": {},
   "outputs": [
    {
     "name": "stdout",
     "output_type": "stream",
     "text": [
      "    Age Cabin Embarked     Fare  \\\n",
      "0  22.0   NaN        S   7.2500   \n",
      "1  38.0   C85        C  71.2833   \n",
      "2  26.0   NaN        S   7.9250   \n",
      "3  35.0  C123        S  53.1000   \n",
      "4  35.0   NaN        S   8.0500   \n",
      "\n",
      "                                                Name  Parch  PassengerId  \\\n",
      "0                            Braund, Mr. Owen Harris      0            1   \n",
      "1  Cumings, Mrs. John Bradley (Florence Briggs Th...      0            2   \n",
      "2                             Heikkinen, Miss. Laina      0            3   \n",
      "3       Futrelle, Mrs. Jacques Heath (Lily May Peel)      0            4   \n",
      "4                           Allen, Mr. William Henry      0            5   \n",
      "\n",
      "   Pclass     Sex  SibSp  Survived            Ticket  \n",
      "0       3    male      1       0.0         A/5 21171  \n",
      "1       1  female      1       1.0          PC 17599  \n",
      "2       3  female      0       1.0  STON/O2. 3101282  \n",
      "3       1  female      1       1.0            113803  \n",
      "4       3    male      0       0.0            373450  \n"
     ]
    }
   ],
   "source": [
    "print(df.head())"
   ]
  },
  {
   "cell_type": "code",
   "execution_count": 4,
   "metadata": {},
   "outputs": [
    {
     "name": "stdout",
     "output_type": "stream",
     "text": [
      "               Age         Fare        Parch  PassengerId       Pclass  \\\n",
      "count  1046.000000  1308.000000  1309.000000  1309.000000  1309.000000   \n",
      "mean     29.881138    33.295479     0.385027   655.000000     2.294882   \n",
      "std      14.413493    51.758668     0.865560   378.020061     0.837836   \n",
      "min       0.170000     0.000000     0.000000     1.000000     1.000000   \n",
      "25%      21.000000     7.895800     0.000000   328.000000     2.000000   \n",
      "50%      28.000000    14.454200     0.000000   655.000000     3.000000   \n",
      "75%      39.000000    31.275000     0.000000   982.000000     3.000000   \n",
      "max      80.000000   512.329200     9.000000  1309.000000     3.000000   \n",
      "\n",
      "             SibSp    Survived  \n",
      "count  1309.000000  891.000000  \n",
      "mean      0.498854    0.383838  \n",
      "std       1.041658    0.486592  \n",
      "min       0.000000    0.000000  \n",
      "25%       0.000000    0.000000  \n",
      "50%       0.000000    0.000000  \n",
      "75%       1.000000    1.000000  \n",
      "max       8.000000    1.000000  \n"
     ]
    }
   ],
   "source": [
    "print(df.describe())"
   ]
  },
  {
   "cell_type": "code",
   "execution_count": 5,
   "metadata": {
    "scrolled": true
   },
   "outputs": [
    {
     "name": "stdout",
     "output_type": "stream",
     "text": [
      "Sex\n",
      "female    233\n",
      "male      109\n",
      "Name: Survived, dtype: int64\n"
     ]
    },
    {
     "data": {
      "image/png": "[encoded data removed]",
      "text/plain": [
       "<matplotlib.figure.Figure at 0x7f0db4952110>"
      ]
     },
     "metadata": {},
     "output_type": "display_data"
    }
   ],
   "source": [
    "survived_sex = df[df.Survived == 1]\n",
    "survived_sex = survived_sex.groupby('Sex')['Survived'].count()\n",
    "survived_sex.plot(kind='bar', \n",
    "                  color=['green', 'red'],\n",
    "                  title='Who had more chanses to survive by sex?')\n",
    "print(survived_sex)"
   ]
  },
  {
   "cell_type": "code",
   "execution_count": 6,
   "metadata": {},
   "outputs": [
    {
     "name": "stdout",
     "output_type": "stream",
     "text": [
      "Pclass\n",
      "1    136\n",
      "3    119\n",
      "2     87\n",
      "Name: Survived, dtype: int64\n"
     ]
    },
    {
     "data": {
      "image/png": "[encoded data removed]",
      "text/plain": [
       "<matplotlib.figure.Figure at 0x7f0db487de10>"
      ]
     },
     "metadata": {},
     "output_type": "display_data"
    }
   ],
   "source": [
    "survived_pclass = df[df.Survived == 1]\n",
    "survived_pclass = survived_pclass.groupby('Pclass')['Survived'].count().sort_values(ascending=False)\n",
    "survived_pclass.plot(kind='bar', color=['green', 'blue', 'red'],\n",
    "                     title='Who had more chanses to survive by passenger class?')\n",
    "print(survived_pclass)"
   ]
  },
  {
   "cell_type": "code",
   "execution_count": 7,
   "metadata": {},
   "outputs": [
    {
     "data": {
      "text/plain": [
       "<matplotlib.text.Text at 0x7f0db464f450>"
      ]
     },
     "execution_count": 7,
     "metadata": {},
     "output_type": "execute_result"
    },
    {
     "data": {
      "image/png": "[encoded data removed]",
      "text/plain": [
       "<matplotlib.figure.Figure at 0x7f0db480e3d0>"
      ]
     },
     "metadata": {},
     "output_type": "display_data"
    }
   ],
   "source": [
    "survived = df[df[\"Survived\"] == 1][\"Age\"].dropna()\n",
    "perished = df[df[\"Survived\"] == 0][\"Age\"].dropna()\n",
    "\n",
    "fig, (ax1, ax2) = plt.subplots(nrows=2, ncols=1)\n",
    "fig.subplots_adjust(hspace=1)\n",
    "ax1.hist(survived, facecolor='green')\n",
    "ax1.set_title(\"Survived\")\n",
    "ax1.set_xlabel(\"Age\")\n",
    "ax1.set_ylabel(\"Amount\")\n",
    "ax2.hist(perished, facecolor='red')\n",
    "ax2.set_title(\"Dead\")\n",
    "ax2.set_xlabel(\"Age\")\n",
    "ax2.set_ylabel(\"Amount\")"
   ]
  },
  {
   "cell_type": "code",
   "execution_count": 8,
   "metadata": {},
   "outputs": [
    {
     "data": {
      "text/plain": [
       "<matplotlib.text.Text at 0x7f0db44c8450>"
      ]
     },
     "execution_count": 8,
     "metadata": {},
     "output_type": "execute_result"
    },
    {
     "data": {
      "image/png": "[encoded data removed]",
      "text/plain": [
       "<matplotlib.figure.Figure at 0x7f0db49286d0>"
      ]
     },
     "metadata": {},
     "output_type": "display_data"
    }
   ],
   "source": [
    "non_empty_embarked = df[\"Embarked\"].dropna()\n",
    "unique_values, value_counts = non_empty_embarked.unique(), non_empty_embarked.value_counts()\n",
    "X = range(len(unique_values))\n",
    "colors = [\"red\", \"blue\", \"grey\"]\n",
    "\n",
    "plt.bar(left=X,\n",
    "        height=value_counts,\n",
    "        color=colors,\n",
    "        tick_label=unique_values)\n",
    "plt.xlabel(\"Port of Embarkation\")\n",
    "plt.ylabel(\"Amount of embarked\")\n",
    "plt.title(\"Bar plot of embarked in Southampton, Queenstown, Cherbourg\")"
   ]
  },
  {
   "cell_type": "code",
   "execution_count": 9,
   "metadata": {},
   "outputs": [],
   "source": [
    "df[\"Embarked\"].fillna(\"S\", inplace=True)\n",
    "df[\"Age\"].fillna(df[\"Age\"].median(), inplace=True)\n",
    "df[\"Fare\"].fillna(df[\"Fare\"].median(), inplace=True)"
   ]
  },
  {
   "cell_type": "code",
   "execution_count": 10,
   "metadata": {},
   "outputs": [
    {
     "name": "stdout",
     "output_type": "stream",
     "text": [
      "    Age Cabin Embarked     Fare  \\\n",
      "0  22.0   NaN        S   7.2500   \n",
      "1  38.0   C85        C  71.2833   \n",
      "2  26.0   NaN        S   7.9250   \n",
      "3  35.0  C123        S  53.1000   \n",
      "4  35.0   NaN        S   8.0500   \n",
      "\n",
      "                                                Name  Parch  PassengerId  \\\n",
      "0                            Braund, Mr. Owen Harris      0            1   \n",
      "1  Cumings, Mrs. John Bradley (Florence Briggs Th...      0            2   \n",
      "2                             Heikkinen, Miss. Laina      0            3   \n",
      "3       Futrelle, Mrs. Jacques Heath (Lily May Peel)      0            4   \n",
      "4                           Allen, Mr. William Henry      0            5   \n",
      "\n",
      "   Pclass     Sex  SibSp  Survived            Ticket  \n",
      "0       3    male      1       0.0         A/5 21171  \n",
      "1       1  female      1       1.0          PC 17599  \n",
      "2       3  female      0       1.0  STON/O2. 3101282  \n",
      "3       1  female      1       1.0            113803  \n",
      "4       3    male      0       0.0            373450  \n"
     ]
    }
   ],
   "source": [
    "print(df.head())"
   ]
  },
  {
   "cell_type": "code",
   "execution_count": 11,
   "metadata": {},
   "outputs": [],
   "source": [
    "def get_dummie_sex(df):\n",
    "    \"\"\"Convert to binar number of sex categories\"\"\"\n",
    "    \n",
    "    df_dummie = pd.get_dummies(df['Sex'][:], prefix=\"sex\")\n",
    "    df_dummie = pd.concat([df[:],df_dummie[:]], axis=1)\n",
    "    \n",
    "    return (df_dummie)"
   ]
  },
  {
   "cell_type": "code",
   "execution_count": 12,
   "metadata": {},
   "outputs": [],
   "source": [
    "x = df.loc[:,:]\n",
    "df = get_dummie_sex(x)\n",
    "df.drop('Sex', axis=1, inplace=True)"
   ]
  },
  {
   "cell_type": "code",
   "execution_count": 13,
   "metadata": {},
   "outputs": [],
   "source": [
    "def get_dummie_pclass(df):\n",
    "    \"\"\"Convert to binar number of Pclass categories\"\"\"\n",
    "    \n",
    "    df_dummie = pd.get_dummies(df['Pclass'][:], prefix=\"pclass\")\n",
    "    df_dummie = pd.concat([df[:],df_dummie[:]], axis=1)\n",
    "    \n",
    "    return (df_dummie)"
   ]
  },
  {
   "cell_type": "code",
   "execution_count": 14,
   "metadata": {},
   "outputs": [],
   "source": [
    "x = df.loc[:,:]\n",
    "df = get_dummie_pclass(x)\n",
    "df.drop('Pclass', axis=1, inplace=True)"
   ]
  },
  {
   "cell_type": "code",
   "execution_count": 15,
   "metadata": {},
   "outputs": [
    {
     "name": "stdout",
     "output_type": "stream",
     "text": [
      "family_size\n",
      "4     0.724138\n",
      "3     0.578431\n",
      "2     0.552795\n",
      "7     0.333333\n",
      "1     0.303538\n",
      "5     0.200000\n",
      "6     0.136364\n",
      "11    0.000000\n",
      "8     0.000000\n",
      "Name: Survived, dtype: float64\n"
     ]
    },
    {
     "data": {
      "text/plain": [
       "<matplotlib.axes._subplots.AxesSubplot at 0x7f0db4509910>"
      ]
     },
     "execution_count": 15,
     "metadata": {},
     "output_type": "execute_result"
    },
    {
     "data": {
      "image/png": "[encoded data removed]",
      "text/plain": [
       "<matplotlib.figure.Figure at 0x7f0db4719650>"
      ]
     },
     "metadata": {},
     "output_type": "display_data"
    }
   ],
   "source": [
    "df['family_size'] = df['SibSp'] + df['Parch'] + 1\n",
    "family_size = df.groupby('family_size')['Survived'].mean().sort_values(ascending=False)\n",
    "print(family_size)\n",
    "family_size.plot(kind='bar', title='Who had more chanses to survive by the family size')"
   ]
  },
  {
   "cell_type": "code",
   "execution_count": 16,
   "metadata": {},
   "outputs": [],
   "source": [
    "df.drop(['SibSp','Parch'], axis=1, inplace=True)"
   ]
  },
  {
   "cell_type": "code",
   "execution_count": 17,
   "metadata": {},
   "outputs": [],
   "source": [
    "df['is_alone'] = 0\n",
    "df.loc[df['family_size'] == 1, 'is_alone'] = 1"
   ]
  },
  {
   "cell_type": "code",
   "execution_count": 18,
   "metadata": {},
   "outputs": [
    {
     "name": "stdout",
     "output_type": "stream",
     "text": [
      "<class 'pandas.core.frame.DataFrame'>\n",
      "Int64Index: 1309 entries, 0 to 417\n",
      "Data columns (total 15 columns):\n",
      "Age            1309 non-null float64\n",
      "Cabin          295 non-null object\n",
      "Embarked       1309 non-null object\n",
      "Fare           1309 non-null float64\n",
      "Name           1309 non-null object\n",
      "PassengerId    1309 non-null int64\n",
      "Survived       891 non-null float64\n",
      "Ticket         1309 non-null object\n",
      "sex_female     1309 non-null uint8\n",
      "sex_male       1309 non-null uint8\n",
      "pclass_1       1309 non-null uint8\n",
      "pclass_2       1309 non-null uint8\n",
      "pclass_3       1309 non-null uint8\n",
      "family_size    1309 non-null int64\n",
      "is_alone       1309 non-null int64\n",
      "dtypes: float64(3), int64(3), object(4), uint8(5)\n",
      "memory usage: 118.9+ KB\n",
      "None\n"
     ]
    }
   ],
   "source": [
    "print(df.info())"
   ]
  },
  {
   "cell_type": "code",
   "execution_count": 19,
   "metadata": {},
   "outputs": [],
   "source": [
    "def get_dummie_embarked(df):\n",
    "    \"\"\"Convert to binar number of Embarked categories\"\"\"\n",
    "    \n",
    "    df_dummie = pd.get_dummies(df['Embarked'][:], prefix=\"embarked\")\n",
    "    df_dummie = pd.concat([df[:],df_dummie[:]], axis=1)\n",
    "    \n",
    "    return (df_dummie)"
   ]
  },
  {
   "cell_type": "code",
   "execution_count": 20,
   "metadata": {},
   "outputs": [],
   "source": [
    "x = df.loc[:,:]\n",
    "df = get_dummie_embarked(x)\n",
    "df.drop('Embarked', axis=1, inplace=True)"
   ]
  },
  {
   "cell_type": "code",
   "execution_count": 21,
   "metadata": {},
   "outputs": [
    {
     "data": {
      "text/plain": [
       "98"
      ]
     },
     "execution_count": 21,
     "metadata": {},
     "output_type": "execute_result"
    }
   ],
   "source": [
    "len(df.Age.value_counts())"
   ]
  },
  {
   "cell_type": "code",
   "execution_count": 22,
   "metadata": {},
   "outputs": [],
   "source": [
    "df.Age = df.Age.values.astype(int)"
   ]
  },
  {
   "cell_type": "code",
   "execution_count": 23,
   "metadata": {},
   "outputs": [
    {
     "data": {
      "text/plain": [
       "73"
      ]
     },
     "execution_count": 23,
     "metadata": {},
     "output_type": "execute_result"
    }
   ],
   "source": [
    "len(df.Age.value_counts())"
   ]
  },
  {
   "cell_type": "code",
   "execution_count": 24,
   "metadata": {},
   "outputs": [],
   "source": [
    "def get_dummie_age(df):\n",
    "    \"\"\"Convert to binar number of Age categories\"\"\"\n",
    "    df.Age = df.Age.values.astype(str)\n",
    "    df_dummie = pd.get_dummies(df['Age'][:], prefix=\"age\")\n",
    "    df_dummie = pd.concat([df[:],df_dummie[:]], axis=1)\n",
    "    \n",
    "    return (df_dummie)"
   ]
  },
  {
   "cell_type": "code",
   "execution_count": 25,
   "metadata": {},
   "outputs": [],
   "source": [
    "x = df.loc[:,:]\n",
    "df = get_dummie_age(x)\n",
    "df.drop('Age', axis=1, inplace=True)"
   ]
  },
  {
   "cell_type": "code",
   "execution_count": 26,
   "metadata": {},
   "outputs": [
    {
     "data": {
      "text/plain": [
       "95"
      ]
     },
     "execution_count": 26,
     "metadata": {},
     "output_type": "execute_result"
    }
   ],
   "source": [
    "df.Fare = df.Fare.values.astype(int)\n",
    "len(df.Fare.value_counts())"
   ]
  },
  {
   "cell_type": "code",
   "execution_count": 27,
   "metadata": {},
   "outputs": [],
   "source": [
    "def get_dummie_fare(df):\n",
    "    \"\"\"Convert to binar number of Fare categories\"\"\"\n",
    "    df.Age = df.Fare.values.astype(str)\n",
    "    df_dummie = pd.get_dummies(df['Fare'][:], prefix=\"Fare\")\n",
    "    df_dummie = pd.concat([df[:],df_dummie[:]], axis=1)\n",
    "    \n",
    "    return (df_dummie)"
   ]
  },
  {
   "cell_type": "code",
   "execution_count": 28,
   "metadata": {},
   "outputs": [
    {
     "name": "stdout",
     "output_type": "stream",
     "text": [
      "<class 'pandas.core.frame.DataFrame'>\n",
      "Int64Index: 1309 entries, 0 to 417\n",
      "Columns: 184 entries, Cabin to Fare_512\n",
      "dtypes: float64(1), int64(4), object(3), uint8(176)\n",
      "memory usage: 317.0+ KB\n",
      "None\n"
     ]
    }
   ],
   "source": [
    "x = df.loc[:,:]\n",
    "df = get_dummie_fare(x)\n",
    "print(df.info())"
   ]
  },
  {
   "cell_type": "code",
   "execution_count": 29,
   "metadata": {},
   "outputs": [
    {
     "name": "stdout",
     "output_type": "stream",
     "text": [
      "Index([u'Cabin', u'Fare', u'Name', u'PassengerId', u'Survived', u'Ticket',\n",
      "       u'sex_female', u'sex_male', u'pclass_1', u'pclass_2',\n",
      "       ...\n",
      "       u'Fare_151', u'Fare_153', u'Fare_164', u'Fare_211', u'Fare_221',\n",
      "       u'Fare_227', u'Fare_247', u'Fare_262', u'Fare_263', u'Fare_512'],\n",
      "      dtype='object', length=184)\n"
     ]
    }
   ],
   "source": [
    "print(df.columns)"
   ]
  },
  {
   "cell_type": "code",
   "execution_count": 30,
   "metadata": {},
   "outputs": [],
   "source": [
    "df.drop(['Cabin', 'Fare','Name', 'Ticket'], axis=1, inplace=True)"
   ]
  },
  {
   "cell_type": "code",
   "execution_count": 31,
   "metadata": {},
   "outputs": [
    {
     "name": "stdout",
     "output_type": "stream",
     "text": [
      "   PassengerId  Survived  sex_female  sex_male  pclass_1  pclass_2  pclass_3  \\\n",
      "0            1       0.0           0         1         0         0         1   \n",
      "1            2       1.0           1         0         1         0         0   \n",
      "2            3       1.0           1         0         0         0         1   \n",
      "3            4       1.0           1         0         1         0         0   \n",
      "4            5       0.0           0         1         0         0         1   \n",
      "\n",
      "   family_size  is_alone  embarked_C    ...     Fare_151  Fare_153  Fare_164  \\\n",
      "0            2         0           0    ...            0         0         0   \n",
      "1            2         0           1    ...            0         0         0   \n",
      "2            1         1           0    ...            0         0         0   \n",
      "3            2         0           0    ...            0         0         0   \n",
      "4            1         1           0    ...            0         0         0   \n",
      "\n",
      "   Fare_211  Fare_221  Fare_227  Fare_247  Fare_262  Fare_263  Fare_512  \n",
      "0         0         0         0         0         0         0         0  \n",
      "1         0         0         0         0         0         0         0  \n",
      "2         0         0         0         0         0         0         0  \n",
      "3         0         0         0         0         0         0         0  \n",
      "4         0         0         0         0         0         0         0  \n",
      "\n",
      "[5 rows x 180 columns]\n"
     ]
    }
   ],
   "source": [
    "train = df[(df.Survived == 1) | (df.Survived == 0)]\n",
    "print(train.head())"
   ]
  },
  {
   "cell_type": "code",
   "execution_count": 32,
   "metadata": {},
   "outputs": [
    {
     "name": "stdout",
     "output_type": "stream",
     "text": [
      "(891,)\n",
      "[ 0.  1.  1.  1.  0.  0.  0.  0.  1.  1.]\n"
     ]
    }
   ],
   "source": [
    "survived = train['Survived'][:].values\n",
    "print(survived.shape)\n",
    "print(survived[:10])"
   ]
  },
  {
   "cell_type": "code",
   "execution_count": 33,
   "metadata": {},
   "outputs": [
    {
     "name": "stdout",
     "output_type": "stream",
     "text": [
      "   sex_female  sex_male  pclass_1  pclass_2  pclass_3  family_size  is_alone  \\\n",
      "0           0         1         0         0         1            2         0   \n",
      "1           1         0         1         0         0            2         0   \n",
      "2           1         0         0         0         1            1         1   \n",
      "3           1         0         1         0         0            2         0   \n",
      "4           0         1         0         0         1            1         1   \n",
      "\n",
      "   embarked_C  embarked_Q  embarked_S    ...     Fare_151  Fare_153  Fare_164  \\\n",
      "0           0           0           1    ...            0         0         0   \n",
      "1           1           0           0    ...            0         0         0   \n",
      "2           0           0           1    ...            0         0         0   \n",
      "3           0           0           1    ...            0         0         0   \n",
      "4           0           0           1    ...            0         0         0   \n",
      "\n",
      "   Fare_211  Fare_221  Fare_227  Fare_247  Fare_262  Fare_263  Fare_512  \n",
      "0         0         0         0         0         0         0         0  \n",
      "1         0         0         0         0         0         0         0  \n",
      "2         0         0         0         0         0         0         0  \n",
      "3         0         0         0         0         0         0         0  \n",
      "4         0         0         0         0         0         0         0  \n",
      "\n",
      "[5 rows x 178 columns]\n"
     ]
    },
    {
     "name": "stderr",
     "output_type": "stream",
     "text": [
      "/home/user/.local/lib/python2.7/site-packages/ipykernel_launcher.py:1: SettingWithCopyWarning: \n",
      "A value is trying to be set on a copy of a slice from a DataFrame\n",
      "\n",
      "See the caveats in the documentation: http://pandas.pydata.org/pandas-docs/stable/indexing.html#indexing-view-versus-copy\n",
      "  \"\"\"Entry point for launching an IPython kernel.\n"
     ]
    }
   ],
   "source": [
    "train.drop(['PassengerId', 'Survived'], axis=1, inplace=True)\n",
    "print(train.head())"
   ]
  },
  {
   "cell_type": "code",
   "execution_count": 34,
   "metadata": {},
   "outputs": [],
   "source": [
    "test = df[(df.Survived != 1) & (df.Survived != 0)]"
   ]
  },
  {
   "cell_type": "code",
   "execution_count": 35,
   "metadata": {},
   "outputs": [
    {
     "name": "stdout",
     "output_type": "stream",
     "text": [
      "<class 'pandas.core.series.Series'>\n",
      "0    892\n",
      "1    893\n",
      "2    894\n",
      "3    895\n",
      "4    896\n",
      "Name: PassengerId, dtype: int64\n"
     ]
    }
   ],
   "source": [
    "pass_id = test.PassengerId[:]\n",
    "print(type(pass_id))\n",
    "print(pass_id[:5])"
   ]
  },
  {
   "cell_type": "code",
   "execution_count": 36,
   "metadata": {},
   "outputs": [
    {
     "name": "stdout",
     "output_type": "stream",
     "text": [
      "   sex_female  sex_male  pclass_1  pclass_2  pclass_3  family_size  is_alone  \\\n",
      "0           0         1         0         0         1            1         1   \n",
      "1           1         0         0         0         1            2         0   \n",
      "2           0         1         0         1         0            1         1   \n",
      "3           0         1         0         0         1            1         1   \n",
      "4           1         0         0         0         1            3         0   \n",
      "\n",
      "   embarked_C  embarked_Q  embarked_S    ...     Fare_151  Fare_153  Fare_164  \\\n",
      "0           0           1           0    ...            0         0         0   \n",
      "1           0           0           1    ...            0         0         0   \n",
      "2           0           1           0    ...            0         0         0   \n",
      "3           0           0           1    ...            0         0         0   \n",
      "4           0           0           1    ...            0         0         0   \n",
      "\n",
      "   Fare_211  Fare_221  Fare_227  Fare_247  Fare_262  Fare_263  Fare_512  \n",
      "0         0         0         0         0         0         0         0  \n",
      "1         0         0         0         0         0         0         0  \n",
      "2         0         0         0         0         0         0         0  \n",
      "3         0         0         0         0         0         0         0  \n",
      "4         0         0         0         0         0         0         0  \n",
      "\n",
      "[5 rows x 178 columns]\n"
     ]
    },
    {
     "name": "stderr",
     "output_type": "stream",
     "text": [
      "/home/user/.local/lib/python2.7/site-packages/ipykernel_launcher.py:1: SettingWithCopyWarning: \n",
      "A value is trying to be set on a copy of a slice from a DataFrame\n",
      "\n",
      "See the caveats in the documentation: http://pandas.pydata.org/pandas-docs/stable/indexing.html#indexing-view-versus-copy\n",
      "  \"\"\"Entry point for launching an IPython kernel.\n"
     ]
    }
   ],
   "source": [
    "test.drop(['PassengerId', 'Survived'], axis=1, inplace=True)\n",
    "print(test.head())"
   ]
  },
  {
   "cell_type": "code",
   "execution_count": 37,
   "metadata": {},
   "outputs": [],
   "source": [
    "X = train.values\n",
    "y = survived"
   ]
  },
  {
   "cell_type": "code",
   "execution_count": 38,
   "metadata": {},
   "outputs": [
    {
     "name": "stdout",
     "output_type": "stream",
     "text": [
      "Shape X_train: (668, 178). Shape y_train: (668,). \n",
      "Shape X_test : (223, 178). Shape y_test : (223,)\n"
     ]
    }
   ],
   "source": [
    "from sklearn.model_selection import train_test_split\n",
    "\n",
    "X_train, X_test, y_train, y_test = train_test_split(X, y, random_state=42)\n",
    "print(\"Shape X_train: {}. Shape y_train: {}. \\nShape X_test : {}. Shape y_test : {}\". \\\n",
    "     format(X_train.shape, y_train.shape, X_test.shape, y_test.shape))"
   ]
  },
  {
   "cell_type": "code",
   "execution_count": 39,
   "metadata": {},
   "outputs": [],
   "source": [
    "from sklearn.linear_model import LogisticRegression\n",
    "lr = LogisticRegression(random_state=1)"
   ]
  },
  {
   "cell_type": "code",
   "execution_count": 40,
   "metadata": {},
   "outputs": [
    {
     "name": "stdout",
     "output_type": "stream",
     "text": [
      "Accuracy by train set: 0.86677\n",
      "Accuracy by test set: 0.79372\n"
     ]
    }
   ],
   "source": [
    "lr.fit(X_train, y_train)\n",
    "print(\"Accuracy by train set: {:.5f}\".format(lr.score(X_train, y_train)))\n",
    "print(\"Accuracy by test set: {:.5f}\".format(lr.score(X_test, y_test)))"
   ]
  },
  {
   "cell_type": "code",
   "execution_count": 41,
   "metadata": {},
   "outputs": [
    {
     "name": "stdout",
     "output_type": "stream",
     "text": [
      "[ 0.  1.  0.  0.  1.  0.  1.  0.  1.  0.]\n"
     ]
    }
   ],
   "source": [
    "X_pred = test.values\n",
    "y_pred = lr.predict(X_pred)\n",
    "print(y_pred[:10])"
   ]
  },
  {
   "cell_type": "code",
   "execution_count": 42,
   "metadata": {},
   "outputs": [
    {
     "name": "stdout",
     "output_type": "stream",
     "text": [
      "<class 'pandas.core.frame.DataFrame'>\n",
      "Int64Index: 418 entries, 892 to 1309\n",
      "Data columns (total 1 columns):\n",
      "Survived    418 non-null int64\n",
      "dtypes: int64(1)\n",
      "memory usage: 6.5 KB\n",
      "None\n",
      "             Survived\n",
      "PassengerId          \n",
      "892                 0\n",
      "893                 1\n",
      "894                 0\n",
      "895                 0\n",
      "896                 1\n",
      "897                 0\n",
      "898                 1\n",
      "899                 0\n",
      "900                 1\n",
      "901                 0\n"
     ]
    }
   ],
   "source": [
    "submission = pd.read_csv('gender_submission.csv', index_col=0, header=0)\n",
    "print(submission.info())\n",
    "print(submission.head(10))"
   ]
  },
  {
   "cell_type": "code",
   "execution_count": 43,
   "metadata": {},
   "outputs": [
    {
     "name": "stdout",
     "output_type": "stream",
     "text": [
      "<class 'pandas.core.frame.DataFrame'>\n",
      "Int64Index: 418 entries, 892 to 1309\n",
      "Data columns (total 1 columns):\n",
      "Survived    418 non-null float64\n",
      "dtypes: float64(1)\n",
      "memory usage: 6.5 KB\n",
      "None\n",
      "             Survived\n",
      "PassengerId          \n",
      "892               0.0\n",
      "893               1.0\n",
      "894               0.0\n",
      "895               0.0\n",
      "896               1.0\n",
      "897               0.0\n",
      "898               1.0\n",
      "899               0.0\n",
      "900               1.0\n",
      "901               0.0\n"
     ]
    }
   ],
   "source": [
    "submission.Survived = y_pred\n",
    "print(submission.info())\n",
    "print(submission.head(10))\n",
    "submission.to_csv('submission.csv')"
   ]
  }
 ],
 "metadata": {
  "kernelspec": {
   "display_name": "Python 3",
   "language": "python",
   "name": "python3"
  },
  "language_info": {
   "codemirror_mode": {
    "name": "ipython",
    "version": 2
   },
   "file_extension": ".py",
   "mimetype": "text/x-python",
   "name": "python",
   "nbconvert_exporter": "python",
   "pygments_lexer": "ipython2",
   "version": "2.7.13"
  }
 },
 "nbformat": 4,
 "nbformat_minor": 2
}
